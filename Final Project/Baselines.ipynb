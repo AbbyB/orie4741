{
 "cells": [
  {
   "cell_type": "code",
   "execution_count": 23,
   "metadata": {},
   "outputs": [],
   "source": [
    "import pandas as pd\n",
    "import numpy as np\n",
    "import matplotlib.pyplot as plt\n",
    "from textblob import TextBlob\n",
    "from datetime import datetime, timedelta, date\n",
    "from statistics import mean, median, mode"
   ]
  },
  {
   "cell_type": "markdown",
   "metadata": {},
   "source": [
    "## Stocks Data"
   ]
  },
  {
   "cell_type": "code",
   "execution_count": 2,
   "metadata": {},
   "outputs": [],
   "source": [
    "sp500 = pd.read_csv('GSPC.csv')\n",
    "\n",
    "try:\n",
    "    sp500['Close_Diff'] = pd.to_numeric(sp500['Close']).diff()\n",
    "    sp500['Close_Diff_Increase'] = sp500['Close_Diff'] > 0\n",
    "except:\n",
    "    print(f'Unable to calculate diff for {col}')\n",
    "    \n",
    "sp500 = sp500[~sp500['Close_Diff'].isna()]"
   ]
  },
  {
   "cell_type": "markdown",
   "metadata": {},
   "source": [
    "## Baselines - Classifiers"
   ]
  },
  {
   "cell_type": "code",
   "execution_count": 113,
   "metadata": {},
   "outputs": [],
   "source": [
    "def average(results):\n",
    "    return sum(results) / len(results)\n",
    "\n",
    "def weighted_average(results, weights):\n",
    "    return results.dot(abs(weights)) / sum(abs(weights))"
   ]
  },
  {
   "cell_type": "markdown",
   "metadata": {},
   "source": [
    "### Predicting most common value"
   ]
  },
  {
   "cell_type": "code",
   "execution_count": 114,
   "metadata": {},
   "outputs": [
    {
     "name": "stdout",
     "output_type": "stream",
     "text": [
      "Average: 0.5561797752808989\n",
      "Weighted Average: 0.5369783780919439\n"
     ]
    }
   ],
   "source": [
    "print('Average: {}'.format(average(sp500['Close_Diff_Increase'])))\n",
    "print('Weighted Average: {}'.format(weighted_average(sp500['Close_Diff_Increase'], sp500['Close_Diff'])))"
   ]
  },
  {
   "cell_type": "markdown",
   "metadata": {},
   "source": [
    "### Predicting the previous day's price as the current day's price (last value prediction)"
   ]
  },
  {
   "cell_type": "code",
   "execution_count": 116,
   "metadata": {},
   "outputs": [
    {
     "name": "stdout",
     "output_type": "stream",
     "text": [
      "Average: 0.49507735583684953\n",
      "Weighted Average: 0.5254967231767075\n"
     ]
    }
   ],
   "source": [
    "predictions = sp500['Close_Diff_Increase'][:-1]\n",
    "actual = sp500['Close_Diff_Increase'][1:]\n",
    "print('Average: {}'.format(average(predictions.values == actual.values)))\n",
    "print('Weighted Average: {}'.format(weighted_average(predictions.values == actual.values, sp500['Close_Diff'][1:])))"
   ]
  },
  {
   "cell_type": "markdown",
   "metadata": {},
   "source": [
    "### Using a moving average of prices for the past n days to predict the current day's price"
   ]
  },
  {
   "cell_type": "code",
   "execution_count": 117,
   "metadata": {},
   "outputs": [
    {
     "name": "stdout",
     "output_type": "stream",
     "text": [
      "Last 3 days average: 0.7489421720733427\n",
      "Last 3 days weighted average: 0.7600737223062531\n",
      "Last 5 days average: 0.6888260254596889\n",
      "Last 5 days weighted average: 0.7150582020642741\n",
      "Last 7 days average: 0.649645390070922\n",
      "Last 7 days weighted average: 0.6753982617038242\n",
      "Last 9 days average: 0.6344238975817923\n",
      "Last 9 days weighted average: 0.6578163783400869\n"
     ]
    }
   ],
   "source": [
    "for n in range(3, 10, 2):\n",
    "    predictions = sp500['Close_Diff_Increase'].rolling(window=n).apply(mode, raw=False)[n:]\n",
    "    actual = sp500['Close_Diff_Increase'][n:]\n",
    "    print('Last {} days average: {}'.format(n, average(predictions.values == actual.values)))\n",
    "    print('Last {} days weighted average: {}'.format(n, weighted_average(predictions.values == actual.values, \n",
    "                                                                         sp500['Close_Diff'][n:])))"
   ]
  },
  {
   "cell_type": "markdown",
   "metadata": {},
   "source": [
    "### Using a time series based linear regression without news data and with the previous n days as features"
   ]
  },
  {
   "cell_type": "code",
   "execution_count": 120,
   "metadata": {},
   "outputs": [
    {
     "name": "stdout",
     "output_type": "stream",
     "text": [
      "Last 1 days average: 0.5104895104895105\n",
      "Last 1 days weighted average: 0.47165592590914407\n",
      "Last 2 days average: 0.4295774647887324\n",
      "Last 2 days weighted average: 0.4367610877005068\n",
      "Last 3 days average: 0.5563380281690141\n",
      "Last 3 days weighted average: 0.6350036641900725\n",
      "Last 4 days average: 0.4507042253521127\n",
      "Last 4 days weighted average: 0.5286900296014021\n",
      "Last 5 days average: 0.5211267605633803\n",
      "Last 5 days weighted average: 0.5026746712126555\n"
     ]
    }
   ],
   "source": [
    "from sklearn.neighbors import KNeighborsClassifier\n",
    "from sklearn.model_selection import train_test_split\n",
    "\n",
    "for n in range(1, 6):\n",
    "    df_dict = {}\n",
    "    for x in range(1, n+1):\n",
    "        df_dict[f'T-{x}'] = sp500['Close_Diff_Increase'][n-x:-x].values\n",
    "\n",
    "    X = pd.DataFrame(df_dict)\n",
    "    Y = sp500[['Close_Diff', 'Close_Diff_Increase']][n:]\n",
    "    X_train, X_test, Y_train, Y_test = train_test_split(X, Y, test_size=0.2)\n",
    "\n",
    "    classifier = KNeighborsClassifier()\n",
    "    classifier.fit(X_train, Y_train['Close_Diff_Increase'])\n",
    "\n",
    "    predictions = classifier.predict(X_test)\n",
    "    print('Last {} days average: {}'.format(n, average(predictions == Y_test['Close_Diff_Increase'])))\n",
    "    print('Last {} days weighted average: {}'.format(n, weighted_average(predictions == Y_test['Close_Diff_Increase'], \n",
    "                                                                         Y_test['Close_Diff'])))"
   ]
  },
  {
   "cell_type": "code",
   "execution_count": null,
   "metadata": {},
   "outputs": [],
   "source": []
  },
  {
   "cell_type": "markdown",
   "metadata": {},
   "source": [
    "## Baselines - Regression"
   ]
  },
  {
   "cell_type": "code",
   "execution_count": 58,
   "metadata": {},
   "outputs": [],
   "source": [
    "from sklearn.metrics import mean_squared_error"
   ]
  },
  {
   "cell_type": "markdown",
   "metadata": {},
   "source": [
    "### Predicting the average"
   ]
  },
  {
   "cell_type": "code",
   "execution_count": 59,
   "metadata": {},
   "outputs": [
    {
     "name": "stdout",
     "output_type": "stream",
     "text": [
      "Mean: 493.901657491231\n",
      "Median: 494.22631884436794\n"
     ]
    }
   ],
   "source": [
    "mean_predictions = [mean(sp500['Close_Diff'])] * len(sp500['Close_Diff'])\n",
    "median_predictions = [median(sp500['Close_Diff'])] * len(sp500['Close_Diff'])\n",
    "actual = sp500['Close_Diff']\n",
    "\n",
    "print('Mean: {}'.format(mean_squared_error(actual, mean_predictions)))\n",
    "print('Median: {}'.format(mean_squared_error(actual, median_predictions)))"
   ]
  },
  {
   "cell_type": "markdown",
   "metadata": {},
   "source": [
    "### Predicting the previous day's price as the current day's price (last value prediction)"
   ]
  },
  {
   "cell_type": "code",
   "execution_count": 60,
   "metadata": {},
   "outputs": [
    {
     "data": {
      "text/plain": [
       "1021.7089531444352"
      ]
     },
     "execution_count": 60,
     "metadata": {},
     "output_type": "execute_result"
    }
   ],
   "source": [
    "predictions = sp500['Close_Diff'][:-1]\n",
    "actual = sp500['Close_Diff'][1:]\n",
    "mean_squared_error(actual.values, predictions.values)"
   ]
  },
  {
   "cell_type": "markdown",
   "metadata": {},
   "source": [
    "### Using a moving average of prices for the past n days to predict the current day's price"
   ]
  },
  {
   "cell_type": "code",
   "execution_count": 61,
   "metadata": {},
   "outputs": [
    {
     "name": "stdout",
     "output_type": "stream",
     "text": [
      "Mean: \n",
      "Last 2 days: 255.71121798387588\n",
      "Last 3 days: 345.726783636987\n",
      "Last 4 days: 368.86790648995844\n",
      "Last 5 days: 398.57695766023784\n",
      "Last 6 days: 422.55421429955135\n",
      "Last 7 days: 434.39174530877267\n",
      "Last 8 days: 433.9654911990206\n",
      "Last 9 days: 452.66522272932167\n",
      "\n",
      "Median: \n",
      "Last 2 days: 255.71121798387588\n",
      "Last 3 days: 425.8621212300155\n",
      "Last 4 days: 392.72963122142664\n",
      "Last 5 days: 431.7186368389824\n",
      "Last 6 days: 453.93635541924357\n",
      "Last 7 days: 462.5231118428118\n",
      "Last 8 days: 461.58090617815\n",
      "Last 9 days: 486.0228007282509\n"
     ]
    }
   ],
   "source": [
    "print('Mean: ')\n",
    "for n in range(2, 10):\n",
    "    predictions = sp500['Close_Diff'].rolling(window=n).apply(mean, raw=False)[n:]\n",
    "    actual = sp500['Close_Diff'][n:]\n",
    "    print('Last {} days: {}'.format(n, mean_squared_error(actual.values, predictions.values)))\n",
    "    \n",
    "print('\\nMedian: ')\n",
    "for n in range(2, 10):\n",
    "    predictions = sp500['Close_Diff'].rolling(window=n).apply(median, raw=False)[n:]\n",
    "    actual = sp500['Close_Diff'][n:]\n",
    "    print('Last {} days: {}'.format(n, mean_squared_error(actual.values, predictions.values)))"
   ]
  },
  {
   "cell_type": "markdown",
   "metadata": {},
   "source": [
    "### Using a time series based linear regression without news data and with the previous n days as features"
   ]
  },
  {
   "cell_type": "code",
   "execution_count": 96,
   "metadata": {
    "scrolled": true
   },
   "outputs": [
    {
     "name": "stdout",
     "output_type": "stream",
     "text": [
      "Last 1 days: 547.6548125266916\n",
      "Last 2 days: 418.53244808650146\n",
      "Last 3 days: 576.5804882767417\n",
      "Last 4 days: 515.8668751824003\n",
      "Last 5 days: 635.0937395815446\n"
     ]
    }
   ],
   "source": [
    "from sklearn.linear_model import LinearRegression\n",
    "from sklearn.model_selection import train_test_split\n",
    "\n",
    "for n in range(1, 6):\n",
    "    df_dict = {}\n",
    "    for x in range(1, n+1):\n",
    "        df_dict[f'T-{x}'] = sp500['Close_Diff'][n-x:-x].values\n",
    "\n",
    "    X = pd.DataFrame(df_dict)\n",
    "    Y = sp500['Close_Diff'][n:]\n",
    "    X_train, X_test, Y_train, Y_test = train_test_split(X, Y, test_size=0.2)\n",
    "\n",
    "    regressor = LinearRegression()\n",
    "    regressor.fit(X_train, Y_train)\n",
    "\n",
    "    predictions = regressor.predict(X_test)\n",
    "    print('Last {} days: {}'.format(n, mean_squared_error(Y_test, predictions)))"
   ]
  },
  {
   "cell_type": "code",
   "execution_count": null,
   "metadata": {},
   "outputs": [],
   "source": []
  }
 ],
 "metadata": {
  "kernelspec": {
   "display_name": "Python 3",
   "language": "python",
   "name": "python3"
  },
  "language_info": {
   "codemirror_mode": {
    "name": "ipython",
    "version": 3
   },
   "file_extension": ".py",
   "mimetype": "text/x-python",
   "name": "python",
   "nbconvert_exporter": "python",
   "pygments_lexer": "ipython3",
   "version": "3.7.5"
  }
 },
 "nbformat": 4,
 "nbformat_minor": 2
}
