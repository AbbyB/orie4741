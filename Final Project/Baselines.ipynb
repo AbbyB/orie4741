{
 "cells": [
  {
   "cell_type": "code",
   "execution_count": 1,
   "metadata": {},
   "outputs": [],
   "source": [
    "import pandas as pd\n",
    "import numpy as np\n",
    "import matplotlib.pyplot as plt\n",
    "from textblob import TextBlob\n",
    "from datetime import datetime, timedelta, date\n",
    "from statistics import mean, median, mode"
   ]
  },
  {
   "cell_type": "markdown",
   "metadata": {},
   "source": [
    "## Stocks Data"
   ]
  },
  {
   "cell_type": "code",
   "execution_count": 2,
   "metadata": {},
   "outputs": [],
   "source": [
    "sp500 = pd.read_csv('../GSPC.csv')\n",
    "\n",
    "try:\n",
    "    sp500['Close_Diff'] = pd.to_numeric(sp500['Close']).diff()\n",
    "    sp500['Close_Diff_Increase'] = sp500['Close_Diff'] > 0\n",
    "except:\n",
    "    print(f'Unable to calculate diff for {col}')\n",
    "    \n",
    "sp500 = sp500[~sp500['Close_Diff'].isna()]"
   ]
  },
  {
   "cell_type": "code",
   "execution_count": 13,
   "metadata": {},
   "outputs": [
    {
     "data": {
      "text/html": [
       "<div>\n",
       "<style scoped>\n",
       "    .dataframe tbody tr th:only-of-type {\n",
       "        vertical-align: middle;\n",
       "    }\n",
       "\n",
       "    .dataframe tbody tr th {\n",
       "        vertical-align: top;\n",
       "    }\n",
       "\n",
       "    .dataframe thead th {\n",
       "        text-align: right;\n",
       "    }\n",
       "</style>\n",
       "<table border=\"1\" class=\"dataframe\">\n",
       "  <thead>\n",
       "    <tr style=\"text-align: right;\">\n",
       "      <th></th>\n",
       "      <th>Date</th>\n",
       "      <th>Open</th>\n",
       "      <th>High</th>\n",
       "      <th>Low</th>\n",
       "      <th>Close</th>\n",
       "      <th>Adj Close</th>\n",
       "      <th>Volume</th>\n",
       "      <th>Close_Diff</th>\n",
       "      <th>Close_Diff_Increase</th>\n",
       "    </tr>\n",
       "  </thead>\n",
       "  <tbody>\n",
       "    <tr>\n",
       "      <th>1</th>\n",
       "      <td>2017-01-04</td>\n",
       "      <td>2261.600098</td>\n",
       "      <td>2272.820068</td>\n",
       "      <td>2261.600098</td>\n",
       "      <td>2270.750000</td>\n",
       "      <td>2270.750000</td>\n",
       "      <td>3764890000</td>\n",
       "      <td>12.919922</td>\n",
       "      <td>True</td>\n",
       "    </tr>\n",
       "    <tr>\n",
       "      <th>2</th>\n",
       "      <td>2017-01-05</td>\n",
       "      <td>2268.179932</td>\n",
       "      <td>2271.500000</td>\n",
       "      <td>2260.449951</td>\n",
       "      <td>2269.000000</td>\n",
       "      <td>2269.000000</td>\n",
       "      <td>3761820000</td>\n",
       "      <td>-1.750000</td>\n",
       "      <td>False</td>\n",
       "    </tr>\n",
       "    <tr>\n",
       "      <th>3</th>\n",
       "      <td>2017-01-06</td>\n",
       "      <td>2271.139893</td>\n",
       "      <td>2282.100098</td>\n",
       "      <td>2264.060059</td>\n",
       "      <td>2276.979980</td>\n",
       "      <td>2276.979980</td>\n",
       "      <td>3339890000</td>\n",
       "      <td>7.979980</td>\n",
       "      <td>True</td>\n",
       "    </tr>\n",
       "    <tr>\n",
       "      <th>4</th>\n",
       "      <td>2017-01-09</td>\n",
       "      <td>2273.590088</td>\n",
       "      <td>2275.489990</td>\n",
       "      <td>2268.899902</td>\n",
       "      <td>2268.899902</td>\n",
       "      <td>2268.899902</td>\n",
       "      <td>3217610000</td>\n",
       "      <td>-8.080078</td>\n",
       "      <td>False</td>\n",
       "    </tr>\n",
       "    <tr>\n",
       "      <th>5</th>\n",
       "      <td>2017-01-10</td>\n",
       "      <td>2269.719971</td>\n",
       "      <td>2279.270020</td>\n",
       "      <td>2265.270020</td>\n",
       "      <td>2268.899902</td>\n",
       "      <td>2268.899902</td>\n",
       "      <td>3638790000</td>\n",
       "      <td>0.000000</td>\n",
       "      <td>False</td>\n",
       "    </tr>\n",
       "  </tbody>\n",
       "</table>\n",
       "</div>"
      ],
      "text/plain": [
       "         Date         Open         High          Low        Close  \\\n",
       "1  2017-01-04  2261.600098  2272.820068  2261.600098  2270.750000   \n",
       "2  2017-01-05  2268.179932  2271.500000  2260.449951  2269.000000   \n",
       "3  2017-01-06  2271.139893  2282.100098  2264.060059  2276.979980   \n",
       "4  2017-01-09  2273.590088  2275.489990  2268.899902  2268.899902   \n",
       "5  2017-01-10  2269.719971  2279.270020  2265.270020  2268.899902   \n",
       "\n",
       "     Adj Close      Volume  Close_Diff  Close_Diff_Increase  \n",
       "1  2270.750000  3764890000   12.919922                 True  \n",
       "2  2269.000000  3761820000   -1.750000                False  \n",
       "3  2276.979980  3339890000    7.979980                 True  \n",
       "4  2268.899902  3217610000   -8.080078                False  \n",
       "5  2268.899902  3638790000    0.000000                False  "
      ]
     },
     "execution_count": 13,
     "metadata": {},
     "output_type": "execute_result"
    }
   ],
   "source": [
    "sp500.head()"
   ]
  },
  {
   "cell_type": "markdown",
   "metadata": {},
   "source": [
    "## Baselines - Classifiers"
   ]
  },
  {
   "cell_type": "code",
   "execution_count": 3,
   "metadata": {},
   "outputs": [],
   "source": [
    "def average(results):\n",
    "    return sum(results) / len(results)\n",
    "\n",
    "def weighted_average(results, weights):\n",
    "    return results.dot(abs(weights)) / sum(abs(weights))"
   ]
  },
  {
   "cell_type": "markdown",
   "metadata": {},
   "source": [
    "### Predicting most common value"
   ]
  },
  {
   "cell_type": "code",
   "execution_count": 4,
   "metadata": {},
   "outputs": [
    {
     "name": "stdout",
     "output_type": "stream",
     "text": [
      "Average: 0.5561797752808989\n",
      "Weighted Average: 0.5369783780919439\n"
     ]
    }
   ],
   "source": [
    "print('Average: {}'.format(average(sp500['Close_Diff_Increase'])))\n",
    "print('Weighted Average: {}'.format(weighted_average(sp500['Close_Diff_Increase'], sp500['Close_Diff'])))"
   ]
  },
  {
   "cell_type": "markdown",
   "metadata": {},
   "source": [
    "### Predicting the previous day's price as the current day's price (last value prediction)"
   ]
  },
  {
   "cell_type": "code",
   "execution_count": 5,
   "metadata": {},
   "outputs": [
    {
     "name": "stdout",
     "output_type": "stream",
     "text": [
      "Average: 0.49507735583684953\n",
      "Weighted Average: 0.5254967231767075\n"
     ]
    }
   ],
   "source": [
    "predictions = sp500['Close_Diff_Increase'][:-1]\n",
    "actual = sp500['Close_Diff_Increase'][1:]\n",
    "print('Average: {}'.format(average(predictions.values == actual.values)))\n",
    "print('Weighted Average: {}'.format(weighted_average(predictions.values == actual.values, sp500['Close_Diff'][1:])))"
   ]
  },
  {
   "cell_type": "markdown",
   "metadata": {},
   "source": [
    "### Using a moving average of prices for the past n days to predict the current day's price"
   ]
  },
  {
   "cell_type": "code",
   "execution_count": 6,
   "metadata": {},
   "outputs": [
    {
     "name": "stdout",
     "output_type": "stream",
     "text": [
      "Last 3 days average: 0.5162200282087447\n",
      "Last 3 days weighted average: 0.576639607421786\n",
      "Last 5 days average: 0.5233380480905233\n",
      "Last 5 days weighted average: 0.548734263125999\n",
      "Last 7 days average: 0.5148936170212766\n",
      "Last 7 days weighted average: 0.5592074739288141\n",
      "Last 9 days average: 0.5078236130867709\n",
      "Last 9 days weighted average: 0.5449829716887348\n"
     ]
    }
   ],
   "source": [
    "for n in range(3, 10, 2):\n",
    "    predictions = sp500['Close_Diff_Increase'].rolling(window=n).apply(mode, raw=False).shift()[n:]\n",
    "    actual = sp500['Close_Diff_Increase'][n:]\n",
    "    print('Last {} days average: {}'.format(n, average(predictions.values == actual.values)))\n",
    "    print('Last {} days weighted average: {}'.format(n, weighted_average(predictions.values == actual.values, \n",
    "                                                                         sp500['Close_Diff'][n:])))"
   ]
  },
  {
   "cell_type": "code",
   "execution_count": 7,
   "metadata": {},
   "outputs": [
    {
     "name": "stdout",
     "output_type": "stream",
     "text": [
      "Last 1 days average: 0.46853146853146854\n",
      "Last 1 days weighted average: 0.46539986118899396\n",
      "Last 2 days average: 0.5140845070422535\n",
      "Last 2 days weighted average: 0.536446687839115\n",
      "Last 3 days average: 0.4647887323943662\n",
      "Last 3 days weighted average: 0.47467517602704856\n",
      "Last 4 days average: 0.47183098591549294\n",
      "Last 4 days weighted average: 0.4898147137779147\n",
      "Last 5 days average: 0.5211267605633803\n",
      "Last 5 days weighted average: 0.5621540379784321\n"
     ]
    }
   ],
   "source": [
    "from sklearn.neighbors import KNeighborsClassifier\n",
    "from sklearn.model_selection import train_test_split\n",
    "\n",
    "for n in range(1, 6):\n",
    "    df_dict = {}\n",
    "    for x in range(1, n+1):\n",
    "        df_dict[f'T-{x}'] = sp500['Close_Diff_Increase'][n-x:-x].values\n",
    "\n",
    "    X = pd.DataFrame(df_dict)\n",
    "    Y = sp500[['Close_Diff', 'Close_Diff_Increase']][n:]\n",
    "    X_train, X_test, Y_train, Y_test = train_test_split(X, Y, test_size=0.2)\n",
    "\n",
    "    classifier = KNeighborsClassifier()\n",
    "    classifier.fit(X_train, Y_train['Close_Diff_Increase'])\n",
    "\n",
    "    predictions = classifier.predict(X_test)\n",
    "    print('Last {} days average: {}'.format(n, average(predictions == Y_test['Close_Diff_Increase'])))\n",
    "    print('Last {} days weighted average: {}'.format(n, weighted_average(predictions == Y_test['Close_Diff_Increase'], \n",
    "                                                                         Y_test['Close_Diff'])))"
   ]
  },
  {
   "cell_type": "markdown",
   "metadata": {},
   "source": [
    "### Using a time series based linear regression without news data and with the previous n days as features"
   ]
  },
  {
   "cell_type": "code",
   "execution_count": null,
   "metadata": {},
   "outputs": [],
   "source": []
  },
  {
   "cell_type": "markdown",
   "metadata": {},
   "source": [
    "## Baselines - Regression"
   ]
  },
  {
   "cell_type": "code",
   "execution_count": 8,
   "metadata": {},
   "outputs": [],
   "source": [
    "from sklearn.metrics import mean_squared_error"
   ]
  },
  {
   "cell_type": "markdown",
   "metadata": {},
   "source": [
    "### Predicting the average"
   ]
  },
  {
   "cell_type": "code",
   "execution_count": 9,
   "metadata": {},
   "outputs": [
    {
     "name": "stdout",
     "output_type": "stream",
     "text": [
      "Mean: 493.901657491231\n",
      "Median: 494.22631884436794\n"
     ]
    }
   ],
   "source": [
    "mean_predictions = [mean(sp500['Close_Diff'])] * len(sp500['Close_Diff'])\n",
    "median_predictions = [median(sp500['Close_Diff'])] * len(sp500['Close_Diff'])\n",
    "actual = sp500['Close_Diff']\n",
    "\n",
    "print('Mean: {}'.format(mean_squared_error(actual, mean_predictions)))\n",
    "print('Median: {}'.format(mean_squared_error(actual, median_predictions)))"
   ]
  },
  {
   "cell_type": "markdown",
   "metadata": {},
   "source": [
    "### Predicting the previous day's price as the current day's price (last value prediction)"
   ]
  },
  {
   "cell_type": "code",
   "execution_count": 10,
   "metadata": {},
   "outputs": [
    {
     "data": {
      "text/plain": [
       "1021.7089531444352"
      ]
     },
     "execution_count": 10,
     "metadata": {},
     "output_type": "execute_result"
    }
   ],
   "source": [
    "predictions = sp500['Close_Diff'][:-1]\n",
    "actual = sp500['Close_Diff'][1:]\n",
    "mean_squared_error(actual.values, predictions.values)"
   ]
  },
  {
   "cell_type": "markdown",
   "metadata": {},
   "source": [
    "### Using a moving average of prices for the past n days to predict the current day's price"
   ]
  },
  {
   "cell_type": "code",
   "execution_count": 11,
   "metadata": {},
   "outputs": [
    {
     "name": "stdout",
     "output_type": "stream",
     "text": [
      "Mean: \n",
      "Last 2 days: 776.797729173118\n",
      "Last 3 days: 655.1352998934882\n",
      "Last 4 days: 621.9076860565056\n",
      "Last 5 days: 607.6424449137635\n",
      "Last 6 days: 590.5040267915564\n",
      "Last 7 days: 566.0162416813055\n",
      "Last 8 days: 572.2019222251441\n",
      "Last 9 days: 559.4475981465187\n",
      "\n",
      "Median: \n",
      "Last 2 days: 776.797729173118\n",
      "Last 3 days: 679.1258591807976\n",
      "Last 4 days: 634.805955401581\n",
      "Last 5 days: 632.9022678013438\n",
      "Last 6 days: 600.6223069411042\n",
      "Last 7 days: 593.580351209557\n",
      "Last 8 days: 587.4457761683861\n",
      "Last 9 days: 565.7323924907972\n"
     ]
    }
   ],
   "source": [
    "print('Mean: ')\n",
    "for n in range(2, 10):\n",
    "    predictions = sp500['Close_Diff'].rolling(window=n).apply(mean, raw=False).shift()[n:]\n",
    "    actual = sp500['Close_Diff'][n:]\n",
    "    print('Last {} days: {}'.format(n, mean_squared_error(actual.values, predictions.values)))\n",
    "    \n",
    "print('\\nMedian: ')\n",
    "for n in range(2, 10):\n",
    "    predictions = sp500['Close_Diff'].rolling(window=n).apply(median, raw=False).shift()[n:]\n",
    "    actual = sp500['Close_Diff'][n:]\n",
    "    print('Last {} days: {}'.format(n, mean_squared_error(actual.values, predictions.values)))"
   ]
  },
  {
   "cell_type": "markdown",
   "metadata": {},
   "source": [
    "### Using a time series based linear regression without news data and with the previous n days as features"
   ]
  },
  {
   "cell_type": "code",
   "execution_count": 12,
   "metadata": {
    "scrolled": true
   },
   "outputs": [
    {
     "name": "stdout",
     "output_type": "stream",
     "text": [
      "Last 1 days: 573.6634281166897\n",
      "Last 2 days: 555.7812001678834\n",
      "Last 3 days: 529.5318518468746\n",
      "Last 4 days: 446.5226402731071\n",
      "Last 5 days: 448.06095940068275\n"
     ]
    }
   ],
   "source": [
    "from sklearn.linear_model import LinearRegression\n",
    "from sklearn.model_selection import train_test_split\n",
    "\n",
    "for n in range(1, 6):\n",
    "    df_dict = {}\n",
    "    for x in range(1, n+1):\n",
    "        df_dict[f'T-{x}'] = sp500['Close_Diff'][n-x:-x].values\n",
    "\n",
    "    X = pd.DataFrame(df_dict)\n",
    "    Y = sp500['Close_Diff'][n:]\n",
    "    X_train, X_test, Y_train, Y_test = train_test_split(X, Y, test_size=0.2)\n",
    "\n",
    "    regressor = LinearRegression()\n",
    "    regressor.fit(X_train, Y_train)\n",
    "\n",
    "    predictions = regressor.predict(X_test)\n",
    "    print('Last {} days: {}'.format(n, mean_squared_error(Y_test, predictions)))"
   ]
  },
  {
   "cell_type": "code",
   "execution_count": null,
   "metadata": {},
   "outputs": [],
   "source": []
  }
 ],
 "metadata": {
  "kernelspec": {
   "display_name": "Python 3",
   "language": "python",
   "name": "python3"
  },
  "language_info": {
   "codemirror_mode": {
    "name": "ipython",
    "version": 3
   },
   "file_extension": ".py",
   "mimetype": "text/x-python",
   "name": "python",
   "nbconvert_exporter": "python",
   "pygments_lexer": "ipython3",
   "version": "3.7.5"
  }
 },
 "nbformat": 4,
 "nbformat_minor": 2
}
