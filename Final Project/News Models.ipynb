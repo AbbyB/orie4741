{
 "cells": [
  {
   "cell_type": "code",
   "execution_count": 163,
   "metadata": {},
   "outputs": [],
   "source": [
    "import pandas as pd\n",
    "import numpy as np\n",
    "import matplotlib.pyplot as plt\n",
    "from textblob import TextBlob\n",
    "from datetime import datetime, timedelta, date\n",
    "from statistics import mean, median\n",
    "from scipy.stats import mode"
   ]
  },
  {
   "cell_type": "markdown",
   "metadata": {},
   "source": [
    "## Stocks Data"
   ]
  },
  {
   "cell_type": "code",
   "execution_count": 42,
   "metadata": {},
   "outputs": [],
   "source": [
    "sp500 = pd.read_csv('../Additional Data/^GSPC.csv')\n",
    "\n",
    "try:\n",
    "    sp500['Close_Diff'] = pd.to_numeric(sp500['Close']).diff()\n",
    "    sp500['Close_Diff_Increase'] = sp500['Close_Diff'] > 0\n",
    "except:\n",
    "    print(f'Unable to calculate diff for {col}')\n",
    "    \n",
    "sp500 = sp500[~sp500['Close_Diff'].isna()]"
   ]
  },
  {
   "cell_type": "code",
   "execution_count": 41,
   "metadata": {},
   "outputs": [
    {
     "data": {
      "text/html": [
       "<div>\n",
       "<style scoped>\n",
       "    .dataframe tbody tr th:only-of-type {\n",
       "        vertical-align: middle;\n",
       "    }\n",
       "\n",
       "    .dataframe tbody tr th {\n",
       "        vertical-align: top;\n",
       "    }\n",
       "\n",
       "    .dataframe thead th {\n",
       "        text-align: right;\n",
       "    }\n",
       "</style>\n",
       "<table border=\"1\" class=\"dataframe\">\n",
       "  <thead>\n",
       "    <tr style=\"text-align: right;\">\n",
       "      <th></th>\n",
       "      <th>Date</th>\n",
       "      <th>Open</th>\n",
       "      <th>High</th>\n",
       "      <th>Low</th>\n",
       "      <th>Close</th>\n",
       "      <th>Adj Close</th>\n",
       "      <th>Volume</th>\n",
       "      <th>Close_Diff</th>\n",
       "      <th>Close_Diff_Increase</th>\n",
       "    </tr>\n",
       "  </thead>\n",
       "  <tbody>\n",
       "    <tr>\n",
       "      <th>1</th>\n",
       "      <td>2017-01-04</td>\n",
       "      <td>2261.600098</td>\n",
       "      <td>2272.820068</td>\n",
       "      <td>2261.600098</td>\n",
       "      <td>2270.750000</td>\n",
       "      <td>2270.750000</td>\n",
       "      <td>3764890000</td>\n",
       "      <td>12.919922</td>\n",
       "      <td>True</td>\n",
       "    </tr>\n",
       "    <tr>\n",
       "      <th>2</th>\n",
       "      <td>2017-01-05</td>\n",
       "      <td>2268.179932</td>\n",
       "      <td>2271.500000</td>\n",
       "      <td>2260.449951</td>\n",
       "      <td>2269.000000</td>\n",
       "      <td>2269.000000</td>\n",
       "      <td>3761820000</td>\n",
       "      <td>-1.750000</td>\n",
       "      <td>False</td>\n",
       "    </tr>\n",
       "    <tr>\n",
       "      <th>3</th>\n",
       "      <td>2017-01-06</td>\n",
       "      <td>2271.139893</td>\n",
       "      <td>2282.100098</td>\n",
       "      <td>2264.060059</td>\n",
       "      <td>2276.979980</td>\n",
       "      <td>2276.979980</td>\n",
       "      <td>3339890000</td>\n",
       "      <td>7.979980</td>\n",
       "      <td>True</td>\n",
       "    </tr>\n",
       "    <tr>\n",
       "      <th>4</th>\n",
       "      <td>2017-01-09</td>\n",
       "      <td>2273.590088</td>\n",
       "      <td>2275.489990</td>\n",
       "      <td>2268.899902</td>\n",
       "      <td>2268.899902</td>\n",
       "      <td>2268.899902</td>\n",
       "      <td>3217610000</td>\n",
       "      <td>-8.080078</td>\n",
       "      <td>False</td>\n",
       "    </tr>\n",
       "    <tr>\n",
       "      <th>5</th>\n",
       "      <td>2017-01-10</td>\n",
       "      <td>2269.719971</td>\n",
       "      <td>2279.270020</td>\n",
       "      <td>2265.270020</td>\n",
       "      <td>2268.899902</td>\n",
       "      <td>2268.899902</td>\n",
       "      <td>3638790000</td>\n",
       "      <td>0.000000</td>\n",
       "      <td>False</td>\n",
       "    </tr>\n",
       "  </tbody>\n",
       "</table>\n",
       "</div>"
      ],
      "text/plain": [
       "         Date         Open         High          Low        Close  \\\n",
       "1  2017-01-04  2261.600098  2272.820068  2261.600098  2270.750000   \n",
       "2  2017-01-05  2268.179932  2271.500000  2260.449951  2269.000000   \n",
       "3  2017-01-06  2271.139893  2282.100098  2264.060059  2276.979980   \n",
       "4  2017-01-09  2273.590088  2275.489990  2268.899902  2268.899902   \n",
       "5  2017-01-10  2269.719971  2279.270020  2265.270020  2268.899902   \n",
       "\n",
       "     Adj Close      Volume  Close_Diff  Close_Diff_Increase  \n",
       "1  2270.750000  3764890000   12.919922                 True  \n",
       "2  2269.000000  3761820000   -1.750000                False  \n",
       "3  2276.979980  3339890000    7.979980                 True  \n",
       "4  2268.899902  3217610000   -8.080078                False  \n",
       "5  2268.899902  3638790000    0.000000                False  "
      ]
     },
     "execution_count": 41,
     "metadata": {},
     "output_type": "execute_result"
    }
   ],
   "source": [
    "sp500.head()"
   ]
  },
  {
   "cell_type": "code",
   "execution_count": 4,
   "metadata": {},
   "outputs": [],
   "source": [
    "# Plots a trend for a symbol in the dfs dictionary for the col specified. Standardized divides all data by the mean\n",
    "def plot_trend(df, col, standardize=False):\n",
    "    # Figsize\n",
    "    plt.figure(figsize=(10,6))\n",
    "    \n",
    "    # Plot stock price\n",
    "    trend = df[col] / np.mean(df[col]) if standardize else df[col]\n",
    "    plt.plot(trend)\n",
    "    date = df.Date\n",
    "        \n",
    "    # Plot config\n",
    "    locs, _ = plt.xticks()\n",
    "    plt.xticks(locs[1:-1], date[0:-1:len(date)//(len(locs)-3)])\n",
    "    plt.title(f'Standardized {col} over Time' if standardize else f'{col} over Time')\n",
    "    plt.xlabel('Date')\n",
    "    plt.ylabel(col)\n",
    "    plt.show()"
   ]
  },
  {
   "cell_type": "code",
   "execution_count": 43,
   "metadata": {},
   "outputs": [
    {
     "data": {
      "image/png": "[encoded data removed]",
      "text/plain": [
       "<Figure size 720x432 with 1 Axes>"
      ]
     },
     "metadata": {
      "needs_background": "light"
     },
     "output_type": "display_data"
    }
   ],
   "source": [
    "plot_trend(sp500, 'Close')"
   ]
  },
  {
   "cell_type": "code",
   "execution_count": 44,
   "metadata": {},
   "outputs": [
    {
     "data": {
      "image/png": "[encoded data removed]",
      "text/plain": [
       "<Figure size 720x432 with 1 Axes>"
      ]
     },
     "metadata": {
      "needs_background": "light"
     },
     "output_type": "display_data"
    }
   ],
   "source": [
    "plot_trend(sp500, 'Close_Diff')"
   ]
  },
  {
   "cell_type": "code",
   "execution_count": null,
   "metadata": {},
   "outputs": [],
   "source": []
  },
  {
   "cell_type": "markdown",
   "metadata": {},
   "source": [
    "## News Data"
   ]
  },
  {
   "cell_type": "code",
   "execution_count": 7,
   "metadata": {},
   "outputs": [],
   "source": [
    "news = pd.concat([pd.read_csv('../nytimes_2015.csv'), \n",
    "                  pd.read_csv('../nytimes_2016.csv'), \n",
    "                  pd.read_csv('../nytimes_2017.csv'), \n",
    "                  pd.read_csv('../nytimes_2018.csv'), \n",
    "                  pd.read_csv('../nytimes_2019.csv')], ignore_index=True)"
   ]
  },
  {
   "cell_type": "code",
   "execution_count": 8,
   "metadata": {},
   "outputs": [
    {
     "name": "stdout",
     "output_type": "stream",
     "text": [
      "82533\n"
     ]
    },
    {
     "data": {
      "text/html": [
       "<div>\n",
       "<style scoped>\n",
       "    .dataframe tbody tr th:only-of-type {\n",
       "        vertical-align: middle;\n",
       "    }\n",
       "\n",
       "    .dataframe tbody tr th {\n",
       "        vertical-align: top;\n",
       "    }\n",
       "\n",
       "    .dataframe thead th {\n",
       "        text-align: right;\n",
       "    }\n",
       "</style>\n",
       "<table border=\"1\" class=\"dataframe\">\n",
       "  <thead>\n",
       "    <tr style=\"text-align: right;\">\n",
       "      <th></th>\n",
       "      <th>web_url</th>\n",
       "      <th>snippet</th>\n",
       "      <th>lead_paragraph</th>\n",
       "      <th>abstract</th>\n",
       "      <th>print_page</th>\n",
       "      <th>source</th>\n",
       "      <th>headline</th>\n",
       "      <th>headline_kicker</th>\n",
       "      <th>headline_content_kicker</th>\n",
       "      <th>headline_print_headline</th>\n",
       "      <th>...</th>\n",
       "      <th>headline_seo</th>\n",
       "      <th>headline_sub</th>\n",
       "      <th>keywords</th>\n",
       "      <th>pub_date</th>\n",
       "      <th>document_type</th>\n",
       "      <th>news_desk</th>\n",
       "      <th>section_name</th>\n",
       "      <th>byline</th>\n",
       "      <th>type_of_material</th>\n",
       "      <th>word_count</th>\n",
       "    </tr>\n",
       "  </thead>\n",
       "  <tbody>\n",
       "    <tr>\n",
       "      <th>0</th>\n",
       "      <td>https://www.nytimes.com/2015/01/08/world/ameri...</td>\n",
       "      <td>Born through a mix of frustration, satire and ...</td>\n",
       "      <td>MONTERREY, Mexico — Inside a large, open-air b...</td>\n",
       "      <td>Born through a mix of frustration, satire and ...</td>\n",
       "      <td>9.0</td>\n",
       "      <td>The New York Times</td>\n",
       "      <td>A Bus Takes a Local Route to Fighting Mexican ...</td>\n",
       "      <td>Monterrey Journal</td>\n",
       "      <td>NaN</td>\n",
       "      <td>A Bus Takes a Local Route to Fighting Mexican ...</td>\n",
       "      <td>...</td>\n",
       "      <td>NaN</td>\n",
       "      <td>NaN</td>\n",
       "      <td>[{'name': 'persons', 'value': 'Villegas, Pauli...</td>\n",
       "      <td>2015-01-08T00:45:08+0000</td>\n",
       "      <td>article</td>\n",
       "      <td>Foreign</td>\n",
       "      <td>World</td>\n",
       "      <td>{'original': 'By Paulina Villegas', 'person': ...</td>\n",
       "      <td>News</td>\n",
       "      <td>1030</td>\n",
       "    </tr>\n",
       "    <tr>\n",
       "      <th>1</th>\n",
       "      <td>https://www.nytimes.com/2015/01/11/business/mu...</td>\n",
       "      <td>So-called dark trading — when computers serve ...</td>\n",
       "      <td>JUDGING solely by the name, stock trading in s...</td>\n",
       "      <td>So-called dark trading — when computers serve ...</td>\n",
       "      <td>29.0</td>\n",
       "      <td>The New York Times</td>\n",
       "      <td>The Rise of Trading in the Dark</td>\n",
       "      <td>Datapoints</td>\n",
       "      <td>NaN</td>\n",
       "      <td>The Rise of Trading in the Dark</td>\n",
       "      <td>...</td>\n",
       "      <td>NaN</td>\n",
       "      <td>NaN</td>\n",
       "      <td>[{'name': 'subject', 'value': 'Stocks and Bond...</td>\n",
       "      <td>2015-01-09T21:44:42+0000</td>\n",
       "      <td>article</td>\n",
       "      <td>SundayBusiness</td>\n",
       "      <td>Business Day</td>\n",
       "      <td>{'original': 'By Anna Bernasek', 'person': [{'...</td>\n",
       "      <td>News</td>\n",
       "      <td>366</td>\n",
       "    </tr>\n",
       "    <tr>\n",
       "      <th>2</th>\n",
       "      <td>https://www.nytimes.com/2015/01/11/business/fo...</td>\n",
       "      <td>In the fixed-income market, 2014 was frustrati...</td>\n",
       "      <td>BONDS confounded conventional wisdom in 2014 w...</td>\n",
       "      <td>In the fixed-income market, 2014 was frustrati...</td>\n",
       "      <td>16.0</td>\n",
       "      <td>The New York Times</td>\n",
       "      <td>For Bond Investors, That Other Shoe Still Didn...</td>\n",
       "      <td>NaN</td>\n",
       "      <td>NaN</td>\n",
       "      <td>For Bond Investors, the Other Shoe Still Didn’...</td>\n",
       "      <td>...</td>\n",
       "      <td>NaN</td>\n",
       "      <td>NaN</td>\n",
       "      <td>[{'name': 'subject', 'value': 'Stocks and Bond...</td>\n",
       "      <td>2015-01-09T21:46:05+0000</td>\n",
       "      <td>article</td>\n",
       "      <td>NODESK</td>\n",
       "      <td>Business Day</td>\n",
       "      <td>{'original': 'By Carla Fried', 'person': [{'fi...</td>\n",
       "      <td>News</td>\n",
       "      <td>1269</td>\n",
       "    </tr>\n",
       "    <tr>\n",
       "      <th>3</th>\n",
       "      <td>https://www.nytimes.com/2015/01/11/business/pe...</td>\n",
       "      <td>A Canadian investor takes a chance on a pace-s...</td>\n",
       "      <td>The typical origin story for a tech company in...</td>\n",
       "      <td>A Canadian investor takes a chance on a pace-s...</td>\n",
       "      <td>1.0</td>\n",
       "      <td>The New York Times</td>\n",
       "      <td>The Uphill Push to Save a Bike-Share Pioneer</td>\n",
       "      <td>NaN</td>\n",
       "      <td>NaN</td>\n",
       "      <td>The Uphill Push to Save a Bike-Share Pioneer</td>\n",
       "      <td>...</td>\n",
       "      <td>NaN</td>\n",
       "      <td>NaN</td>\n",
       "      <td>[{'name': 'subject', 'value': 'Bicycles and Bi...</td>\n",
       "      <td>2015-01-09T21:03:51+0000</td>\n",
       "      <td>article</td>\n",
       "      <td>SundayBusiness</td>\n",
       "      <td>Business Day</td>\n",
       "      <td>{'original': 'By Ian Austen', 'person': [{'fir...</td>\n",
       "      <td>News</td>\n",
       "      <td>1923</td>\n",
       "    </tr>\n",
       "    <tr>\n",
       "      <th>4</th>\n",
       "      <td>https://www.nytimes.com/2015/01/06/business/in...</td>\n",
       "      <td>The euro's continued plunge, to a nine-year lo...</td>\n",
       "      <td>FRANKFURT — The value of the euro fell to its ...</td>\n",
       "      <td>The euro's continued plunge, to a nine-year lo...</td>\n",
       "      <td>5.0</td>\n",
       "      <td>The New York Times</td>\n",
       "      <td>Falling Euro Fans Fears of a Regional Slowdown</td>\n",
       "      <td>NaN</td>\n",
       "      <td>NaN</td>\n",
       "      <td>Sliding Euro Fans Fears of a Slowdown</td>\n",
       "      <td>...</td>\n",
       "      <td>NaN</td>\n",
       "      <td>NaN</td>\n",
       "      <td>[{'name': 'persons', 'value': 'Ewing, Jack', '...</td>\n",
       "      <td>2015-01-05T21:05:04+0000</td>\n",
       "      <td>article</td>\n",
       "      <td>Business</td>\n",
       "      <td>Business Day</td>\n",
       "      <td>{'original': 'By Jack Ewing', 'person': [{'fir...</td>\n",
       "      <td>News</td>\n",
       "      <td>1157</td>\n",
       "    </tr>\n",
       "  </tbody>\n",
       "</table>\n",
       "<p>5 rows × 21 columns</p>\n",
       "</div>"
      ],
      "text/plain": [
       "                                             web_url  \\\n",
       "0  https://www.nytimes.com/2015/01/08/world/ameri...   \n",
       "1  https://www.nytimes.com/2015/01/11/business/mu...   \n",
       "2  https://www.nytimes.com/2015/01/11/business/fo...   \n",
       "3  https://www.nytimes.com/2015/01/11/business/pe...   \n",
       "4  https://www.nytimes.com/2015/01/06/business/in...   \n",
       "\n",
       "                                             snippet  \\\n",
       "0  Born through a mix of frustration, satire and ...   \n",
       "1  So-called dark trading — when computers serve ...   \n",
       "2  In the fixed-income market, 2014 was frustrati...   \n",
       "3  A Canadian investor takes a chance on a pace-s...   \n",
       "4  The euro's continued plunge, to a nine-year lo...   \n",
       "\n",
       "                                      lead_paragraph  \\\n",
       "0  MONTERREY, Mexico — Inside a large, open-air b...   \n",
       "1  JUDGING solely by the name, stock trading in s...   \n",
       "2  BONDS confounded conventional wisdom in 2014 w...   \n",
       "3  The typical origin story for a tech company in...   \n",
       "4  FRANKFURT — The value of the euro fell to its ...   \n",
       "\n",
       "                                            abstract  print_page  \\\n",
       "0  Born through a mix of frustration, satire and ...         9.0   \n",
       "1  So-called dark trading — when computers serve ...        29.0   \n",
       "2  In the fixed-income market, 2014 was frustrati...        16.0   \n",
       "3  A Canadian investor takes a chance on a pace-s...         1.0   \n",
       "4  The euro's continued plunge, to a nine-year lo...         5.0   \n",
       "\n",
       "               source                                           headline  \\\n",
       "0  The New York Times  A Bus Takes a Local Route to Fighting Mexican ...   \n",
       "1  The New York Times                    The Rise of Trading in the Dark   \n",
       "2  The New York Times  For Bond Investors, That Other Shoe Still Didn...   \n",
       "3  The New York Times       The Uphill Push to Save a Bike-Share Pioneer   \n",
       "4  The New York Times     Falling Euro Fans Fears of a Regional Slowdown   \n",
       "\n",
       "     headline_kicker  headline_content_kicker  \\\n",
       "0  Monterrey Journal                      NaN   \n",
       "1         Datapoints                      NaN   \n",
       "2                NaN                      NaN   \n",
       "3                NaN                      NaN   \n",
       "4                NaN                      NaN   \n",
       "\n",
       "                             headline_print_headline  ...  headline_seo  \\\n",
       "0  A Bus Takes a Local Route to Fighting Mexican ...  ...           NaN   \n",
       "1                    The Rise of Trading in the Dark  ...           NaN   \n",
       "2  For Bond Investors, the Other Shoe Still Didn’...  ...           NaN   \n",
       "3       The Uphill Push to Save a Bike-Share Pioneer  ...           NaN   \n",
       "4              Sliding Euro Fans Fears of a Slowdown  ...           NaN   \n",
       "\n",
       "   headline_sub                                           keywords  \\\n",
       "0           NaN  [{'name': 'persons', 'value': 'Villegas, Pauli...   \n",
       "1           NaN  [{'name': 'subject', 'value': 'Stocks and Bond...   \n",
       "2           NaN  [{'name': 'subject', 'value': 'Stocks and Bond...   \n",
       "3           NaN  [{'name': 'subject', 'value': 'Bicycles and Bi...   \n",
       "4           NaN  [{'name': 'persons', 'value': 'Ewing, Jack', '...   \n",
       "\n",
       "                   pub_date document_type       news_desk  section_name  \\\n",
       "0  2015-01-08T00:45:08+0000       article         Foreign         World   \n",
       "1  2015-01-09T21:44:42+0000       article  SundayBusiness  Business Day   \n",
       "2  2015-01-09T21:46:05+0000       article          NODESK  Business Day   \n",
       "3  2015-01-09T21:03:51+0000       article  SundayBusiness  Business Day   \n",
       "4  2015-01-05T21:05:04+0000       article        Business  Business Day   \n",
       "\n",
       "                                              byline type_of_material  \\\n",
       "0  {'original': 'By Paulina Villegas', 'person': ...             News   \n",
       "1  {'original': 'By Anna Bernasek', 'person': [{'...             News   \n",
       "2  {'original': 'By Carla Fried', 'person': [{'fi...             News   \n",
       "3  {'original': 'By Ian Austen', 'person': [{'fir...             News   \n",
       "4  {'original': 'By Jack Ewing', 'person': [{'fir...             News   \n",
       "\n",
       "  word_count  \n",
       "0       1030  \n",
       "1        366  \n",
       "2       1269  \n",
       "3       1923  \n",
       "4       1157  \n",
       "\n",
       "[5 rows x 21 columns]"
      ]
     },
     "execution_count": 8,
     "metadata": {},
     "output_type": "execute_result"
    }
   ],
   "source": [
    "print(len(news))\n",
    "news.head()"
   ]
  },
  {
   "cell_type": "markdown",
   "metadata": {},
   "source": [
    "### Delete Irrelevant Columns"
   ]
  },
  {
   "cell_type": "code",
   "execution_count": 9,
   "metadata": {},
   "outputs": [],
   "source": [
    "news = news.drop(['web_url', 'byline', 'headline_print_headline', 'document_type'], axis=1)"
   ]
  },
  {
   "cell_type": "code",
   "execution_count": 10,
   "metadata": {},
   "outputs": [],
   "source": [
    "# these are missing more than abstract and contain similar info\n",
    "news = news.drop(['snippet', 'lead_paragraph'], axis=1)\n",
    "\n",
    "# all missing data\n",
    "news = news.drop(['headline_content_kicker', 'headline_name', 'headline_seo', 'headline_sub'], axis=1)"
   ]
  },
  {
   "cell_type": "markdown",
   "metadata": {},
   "source": [
    "### Transform Columns to be More Useful"
   ]
  },
  {
   "cell_type": "code",
   "execution_count": 11,
   "metadata": {},
   "outputs": [],
   "source": [
    "# make headline include kicker\n",
    "news['full_headline'] = news[['headline', 'headline_kicker']].apply(lambda x: x.str.cat(sep=': '), axis=1)\n",
    "\n",
    "del news['headline_kicker']\n",
    "del news['headline']"
   ]
  },
  {
   "cell_type": "code",
   "execution_count": 12,
   "metadata": {},
   "outputs": [],
   "source": [
    "# create whether or not the article was in print\n",
    "news['is_print'] = news['print_page'].isna()\n",
    "del news['print_page']"
   ]
  },
  {
   "cell_type": "markdown",
   "metadata": {},
   "source": [
    "### Change to One-Hot Encoding"
   ]
  },
  {
   "cell_type": "code",
   "execution_count": 13,
   "metadata": {},
   "outputs": [],
   "source": [
    "# from type of material\n",
    "type_dummies = pd.get_dummies(news['type_of_material'].fillna('Other'), prefix='Type')\n",
    "news = pd.concat([news, type_dummies], axis=1, join='inner')\n",
    "news.rename(columns={'Type_briefing': 'Type_Briefing'}, inplace=True)\n",
    "\n",
    "del news['type_of_material']"
   ]
  },
  {
   "cell_type": "code",
   "execution_count": 14,
   "metadata": {},
   "outputs": [],
   "source": [
    "# from source\n",
    "source_dummies = pd.get_dummies(news['source'].fillna('Other'), prefix='Source')\n",
    "news = pd.concat([news, source_dummies], axis=1, join='inner')\n",
    "\n",
    "del news['source']"
   ]
  },
  {
   "cell_type": "code",
   "execution_count": 15,
   "metadata": {},
   "outputs": [],
   "source": [
    "# from news desk\n",
    "news_desk_dummies = pd.get_dummies(news['news_desk'].fillna('Other'), prefix='Desk')\n",
    "news = pd.concat([news, news_desk_dummies], axis=1, join='inner')\n",
    "\n",
    "del news['news_desk']"
   ]
  },
  {
   "cell_type": "code",
   "execution_count": 16,
   "metadata": {},
   "outputs": [],
   "source": [
    "# from section name\n",
    "section_name_dummies = pd.get_dummies(news['section_name'], prefix='Section')\n",
    "news = pd.concat([news, section_name_dummies], axis=1, join='inner')\n",
    "\n",
    "del news['section_name']"
   ]
  },
  {
   "cell_type": "markdown",
   "metadata": {},
   "source": [
    "### Change Keywords to Many-Hot Encoding"
   ]
  },
  {
   "cell_type": "code",
   "execution_count": 17,
   "metadata": {},
   "outputs": [],
   "source": [
    "import ast\n",
    "from collections import Counter\n",
    "\n",
    "counter = Counter()\n",
    "\n",
    "# Get list of all keywords\n",
    "def get_most_common(x):\n",
    "    keywords = set()\n",
    "    for word in ast.literal_eval(x):\n",
    "        keywords.add(word['value'])\n",
    "    counter.update(keywords)\n",
    "    return keywords\n",
    "\n",
    "news['keywords'] = news['keywords'].apply(get_most_common)\n",
    "\n",
    "# Pick top 100\n",
    "most_common = set()\n",
    "for word, counts in counter.most_common(100):\n",
    "    most_common.add(word)\n",
    "\n",
    "# Get the intersection of article's keywords and top 100\n",
    "def get_keywords(x):\n",
    "    keywords = x.intersection(most_common)\n",
    "    return '|'.join(keywords)\n",
    "\n",
    "# Many-hot\n",
    "keywords_dummies = news['keywords'].apply(get_keywords).str.get_dummies()\n",
    "keywords_dummies.rename(columns={x: 'Keyword_' + x for x in keywords_dummies.columns}, inplace=True)\n",
    "news = pd.concat([news, keywords_dummies], axis=1, join='inner')\n",
    "\n",
    "del news['keywords']"
   ]
  },
  {
   "cell_type": "markdown",
   "metadata": {},
   "source": [
    "### Time & Date"
   ]
  },
  {
   "cell_type": "code",
   "execution_count": 18,
   "metadata": {},
   "outputs": [],
   "source": [
    "def time_of_day(hour):\n",
    "    if hour >= 6 and hour < 12:\n",
    "        return 0\n",
    "    if hour >= 12 and hour < 17:\n",
    "        return 1\n",
    "    if hour >= 17 and hour < 22:\n",
    "        return 2\n",
    "    return 3\n",
    "\n",
    "news['time'] = news['pub_date'].apply(lambda x: time_of_day(datetime.fromisoformat(x[:-5]).time().hour))\n",
    "news['date'] = news['pub_date'].apply(lambda x: str(date.fromisoformat(x.strip()[:10]) + timedelta(days=1)))\n",
    "\n",
    "del news['pub_date']"
   ]
  },
  {
   "cell_type": "markdown",
   "metadata": {},
   "source": [
    "### Sentiment Analysis"
   ]
  },
  {
   "cell_type": "code",
   "execution_count": 19,
   "metadata": {},
   "outputs": [],
   "source": [
    "# Adds sentiment by TextBlob (polarity and subjectivity) to a df based on its col column\n",
    "def add_sentiment(df, col):\n",
    "    def polarity_and_subjectivity(x):\n",
    "        sentiment = TextBlob(str(x)).sentiment\n",
    "        return sentiment.polarity, sentiment.subjectivity\n",
    "    df[f'{col}_polarity'], df[f'{col}_subjectivity'] = zip(*df[col].map(polarity_and_subjectivity))\n",
    "\n",
    "add_sentiment(news, 'abstract')\n",
    "add_sentiment(news, 'full_headline')\n",
    "\n",
    "news = news.drop(['abstract', 'full_headline'], axis=1)"
   ]
  },
  {
   "cell_type": "code",
   "execution_count": 54,
   "metadata": {
    "scrolled": true
   },
   "outputs": [
    {
     "data": {
      "text/plain": [
       "193"
      ]
     },
     "execution_count": 54,
     "metadata": {},
     "output_type": "execute_result"
    }
   ],
   "source": [
    "len(news.columns)"
   ]
  },
  {
   "cell_type": "code",
   "execution_count": null,
   "metadata": {},
   "outputs": [],
   "source": []
  },
  {
   "cell_type": "code",
   "execution_count": null,
   "metadata": {},
   "outputs": [],
   "source": []
  },
  {
   "cell_type": "code",
   "execution_count": null,
   "metadata": {},
   "outputs": [],
   "source": []
  },
  {
   "cell_type": "code",
   "execution_count": 127,
   "metadata": {},
   "outputs": [
    {
     "name": "stderr",
     "output_type": "stream",
     "text": [
      "/Users/Abby/anaconda3/envs/py37/lib/python3.7/site-packages/ipykernel_launcher.py:5: SettingWithCopyWarning: \n",
      "A value is trying to be set on a copy of a slice from a DataFrame.\n",
      "Try using .loc[row_indexer,col_indexer] = value instead\n",
      "\n",
      "See the caveats in the documentation: http://pandas.pydata.org/pandas-docs/stable/user_guide/indexing.html#returning-a-view-versus-a-copy\n",
      "  \"\"\"\n",
      "/Users/Abby/anaconda3/envs/py37/lib/python3.7/site-packages/ipykernel_launcher.py:6: SettingWithCopyWarning: \n",
      "A value is trying to be set on a copy of a slice from a DataFrame.\n",
      "Try using .loc[row_indexer,col_indexer] = value instead\n",
      "\n",
      "See the caveats in the documentation: http://pandas.pydata.org/pandas-docs/stable/user_guide/indexing.html#returning-a-view-versus-a-copy\n",
      "  \n"
     ]
    }
   ],
   "source": [
    "n = 5\n",
    "sp500_history = sp500[n:]\n",
    "sp500_history.reset_index(drop=True, inplace=True)\n",
    "for x in range(1, n+1):\n",
    "    sp500_history[f'T-{x} Close_Diff'] = sp500['Close_Diff'][n-x:-x].values\n",
    "    sp500_history[f'T-{x} Close_Diff_Increase'] = sp500['Close_Diff_Increase'][n-x:-x].values"
   ]
  },
  {
   "cell_type": "code",
   "execution_count": 130,
   "metadata": {},
   "outputs": [
    {
     "data": {
      "text/plain": [
       "Index(['Date', 'Open', 'High', 'Low', 'Close', 'Adj Close', 'Volume',\n",
       "       'Close_Diff', 'Close_Diff_Increase', 'T-1 Close_Diff',\n",
       "       'T-1 Close_Diff_Increase', 'T-2 Close_Diff', 'T-2 Close_Diff_Increase',\n",
       "       'T-3 Close_Diff', 'T-3 Close_Diff_Increase', 'T-4 Close_Diff',\n",
       "       'T-4 Close_Diff_Increase', 'T-5 Close_Diff', 'T-5 Close_Diff_Increase'],\n",
       "      dtype='object')"
      ]
     },
     "execution_count": 130,
     "metadata": {},
     "output_type": "execute_result"
    }
   ],
   "source": [
    "sp500_history.columns"
   ]
  },
  {
   "cell_type": "code",
   "execution_count": 129,
   "metadata": {},
   "outputs": [],
   "source": [
    "df = news.merge(sp500_history, left_on='date', right_on='Date')\n",
    "df = df.drop(['Date', 'Open', 'High', 'Low', 'Close', 'Adj Close', 'Volume'], axis=1)"
   ]
  },
  {
   "cell_type": "code",
   "execution_count": null,
   "metadata": {},
   "outputs": [],
   "source": []
  },
  {
   "cell_type": "markdown",
   "metadata": {},
   "source": [
    "## Models: Average All Articles"
   ]
  },
  {
   "cell_type": "code",
   "execution_count": 177,
   "metadata": {},
   "outputs": [],
   "source": [
    "news_average = news.groupby('date').mean().reset_index()\n",
    "df_average = news_average.merge(sp500_history, left_on='date', right_on='Date')\n",
    "df_average = df_average.drop(['Date', 'Open', 'High', 'Low', 'Close', 'Adj Close', 'Volume'], axis=1)\n",
    "\n",
    "train = df[df['date'].apply(lambda x: date.fromisoformat(x) < date.fromisoformat('2019-01-01'))]\n",
    "test = df[df['date'].apply(lambda x: date.fromisoformat(x) >= date.fromisoformat('2019-01-01'))]\n",
    "\n",
    "X_train = train.drop(['date', 'Close_Diff', 'Close_Diff_Increase'], axis=1)\n",
    "Y_train = train[['Close_Diff', 'Close_Diff_Increase']]\n",
    "\n",
    "X_test = test.drop(['date', 'Close_Diff', 'Close_Diff_Increase'], axis=1)\n",
    "Y_test = test[['Close_Diff', 'Close_Diff_Increase']]"
   ]
  },
  {
   "cell_type": "code",
   "execution_count": 179,
   "metadata": {},
   "outputs": [
    {
     "data": {
      "text/plain": [
       "457.95571483555767"
      ]
     },
     "execution_count": 179,
     "metadata": {},
     "output_type": "execute_result"
    }
   ],
   "source": [
    "from sklearn.linear_model import LinearRegression\n",
    "from sklearn.metrics import mean_squared_error\n",
    "\n",
    "regressor = LinearRegression()\n",
    "regressor.fit(X_train, Y_train['Close_Diff'])\n",
    "\n",
    "mean_squared_error(Y_test['Close_Diff'], regressor.predict(X_test))"
   ]
  },
  {
   "cell_type": "code",
   "execution_count": 180,
   "metadata": {},
   "outputs": [
    {
     "data": {
      "text/plain": [
       "0.539864063005718"
      ]
     },
     "execution_count": 180,
     "metadata": {},
     "output_type": "execute_result"
    }
   ],
   "source": [
    "from sklearn.linear_model import LogisticRegression\n",
    "\n",
    "classifier = LogisticRegression(max_iter=10000)\n",
    "classifier.fit(X_train, Y_train['Close_Diff_Increase'])\n",
    "\n",
    "classifier.score(X_test, Y_test['Close_Diff_Increase'])"
   ]
  },
  {
   "cell_type": "code",
   "execution_count": null,
   "metadata": {},
   "outputs": [],
   "source": []
  },
  {
   "cell_type": "markdown",
   "metadata": {},
   "source": [
    "## Models: Basic Classifiers and Regressors"
   ]
  },
  {
   "cell_type": "code",
   "execution_count": 55,
   "metadata": {},
   "outputs": [],
   "source": [
    "def average(results):\n",
    "    return sum(results) / len(results)\n",
    "\n",
    "def weighted_average(results, weights):\n",
    "    return results.dot(abs(weights)) / sum(abs(weights))"
   ]
  },
  {
   "cell_type": "code",
   "execution_count": 155,
   "metadata": {},
   "outputs": [],
   "source": [
    "train = df[df['date'].apply(lambda x: date.fromisoformat(x) < date.fromisoformat('2019-01-01'))]\n",
    "test = df[df['date'].apply(lambda x: date.fromisoformat(x) >= date.fromisoformat('2019-01-01'))]\n",
    "\n",
    "X_train = train.drop(['date', 'Close_Diff', 'Close_Diff_Increase'], axis=1)\n",
    "Y_train = train[['Close_Diff', 'Close_Diff_Increase']]\n",
    "\n",
    "X_test = test.drop(['Close_Diff', 'Close_Diff_Increase'], axis=1)\n",
    "Y_test = test[['date', 'Close_Diff', 'Close_Diff_Increase']]"
   ]
  },
  {
   "cell_type": "code",
   "execution_count": 135,
   "metadata": {},
   "outputs": [
    {
     "name": "stdout",
     "output_type": "stream",
     "text": [
      "Average: 0.5260663507109005\n",
      "Weighted Average: 0.5450282753739122\n"
     ]
    }
   ],
   "source": [
    "from sklearn.linear_model import LinearRegression\n",
    "\n",
    "regressor = LinearRegression()\n",
    "regressor.fit(X_train, Y_train['Close_Diff'])\n",
    "\n",
    "predictions = X_test.groupby('date').apply(regressor.predict).apply(lambda x: median(x) > 0)\n",
    "results = predictions.values == Y_test.groupby('date').first()['Close_Diff_Increase'].values\n",
    "print(f'Average: {average(results)}')\n",
    "print('Weighted Average: {}'.format(weighted_average(results, abs(Y_test.groupby('date').first()['Close_Diff']))))"
   ]
  },
  {
   "cell_type": "code",
   "execution_count": 137,
   "metadata": {
    "scrolled": true
   },
   "outputs": [
    {
     "data": {
      "text/plain": [
       "564.1751516756917"
      ]
     },
     "execution_count": 137,
     "metadata": {},
     "output_type": "execute_result"
    }
   ],
   "source": [
    "from sklearn.linear_model import LinearRegression\n",
    "from sklearn.metrics import mean_squared_error\n",
    "\n",
    "regressor = LinearRegression()\n",
    "regressor.fit(X_train, Y_train['Close_Diff'])\n",
    "\n",
    "predictions = X_test.groupby('date').apply(regressor.predict).apply(median)\n",
    "mean_squared_error(Y_test.groupby('date').first()['Close_Diff'], predictions)"
   ]
  },
  {
   "cell_type": "code",
   "execution_count": 165,
   "metadata": {},
   "outputs": [
    {
     "name": "stdout",
     "output_type": "stream",
     "text": [
      "Average: 0.5023696682464455\n",
      "Weighted Average: 0.4711751124813932\n"
     ]
    }
   ],
   "source": [
    "from sklearn.linear_model import LogisticRegression\n",
    "\n",
    "classifier = LogisticRegression(max_iter=10000)\n",
    "classifier.fit(X_train, Y_train['Close_Diff_Increase'])\n",
    "\n",
    "predictions = X_test.groupby('date').apply(classifier.predict).apply(lambda x: mode(x)[0])\n",
    "results = predictions.values == Y_test.groupby('date').first()['Close_Diff_Increase'].values\n",
    "print(f'Average: {average(results)}')\n",
    "print('Weighted Average: {}'.format(weighted_average(results, abs(Y_test.groupby('date').first()['Close_Diff']))))"
   ]
  },
  {
   "cell_type": "code",
   "execution_count": null,
   "metadata": {},
   "outputs": [],
   "source": []
  },
  {
   "cell_type": "markdown",
   "metadata": {},
   "source": [
    "## Models: Stacking"
   ]
  },
  {
   "cell_type": "code",
   "execution_count": 138,
   "metadata": {},
   "outputs": [],
   "source": [
    "train = df[df['date'].apply(lambda x: date.fromisoformat(x) < date.fromisoformat('2019-01-01'))]\n",
    "test = df[df['date'].apply(lambda x: date.fromisoformat(x) >= date.fromisoformat('2019-01-01'))]\n",
    "\n",
    "X_train = train.drop(['date', 'Close_Diff', 'Close_Diff_Increase'], axis=1)\n",
    "Y_train = train[['Close_Diff', 'Close_Diff_Increase']]\n",
    "\n",
    "X_test = test.drop(['Close_Diff', 'Close_Diff_Increase'], axis=1)\n",
    "Y_test = test[['date', 'Close_Diff', 'Close_Diff_Increase']]"
   ]
  },
  {
   "cell_type": "code",
   "execution_count": 143,
   "metadata": {},
   "outputs": [
    {
     "data": {
      "text/plain": [
       "564.5325580121058"
      ]
     },
     "execution_count": 143,
     "metadata": {},
     "output_type": "execute_result"
    }
   ],
   "source": [
    "from sklearn.linear_model import LinearRegression\n",
    "from sklearn.linear_model import LogisticRegression\n",
    "from sklearn.metrics import mean_squared_error\n",
    "\n",
    "# fit classifier model to predict increase/ decrease\n",
    "classifier1 = LogisticRegression(max_iter=10000)\n",
    "classifier1.fit(X_train, Y_train['Close_Diff_Increase'])\n",
    "\n",
    "# fit classifier model to predict which are best\n",
    "classifier2 = LogisticRegression(max_iter=10000)\n",
    "c1_accuracy = classifier1.predict(X_train) == Y_train['Close_Diff_Increase']\n",
    "classifier2.fit(X_train, c1_accuracy)\n",
    "\n",
    "# fit regression model to predict difference\n",
    "regressor = LinearRegression()\n",
    "x_with_importance = X_train\n",
    "x_with_importance['importance'] = classifier2.predict(X_train)\n",
    "regressor.fit(x_with_importance[x_with_importance.columns], Y_train['Close_Diff'])\n",
    "\n",
    "X_test['importance'] = classifier2.predict(X_test.drop(['date'], axis=1))\n",
    "predictions = X_test.groupby('date').apply(regressor.predict).apply(lambda x: median(x))\n",
    "mean_squared_error(Y_test.groupby('date').first()['Close_Diff'], predictions)"
   ]
  },
  {
   "cell_type": "code",
   "execution_count": 144,
   "metadata": {},
   "outputs": [
    {
     "name": "stdout",
     "output_type": "stream",
     "text": [
      "Average: 0.5308056872037915\n",
      "Weighted Average: 0.537163855865799\n"
     ]
    }
   ],
   "source": [
    "predictions = X_test.groupby('date').apply(regressor.predict).apply(lambda x: median(x) > 0)\n",
    "results = predictions.values == Y_test.groupby('date').first()['Close_Diff_Increase'].values\n",
    "print(f'Average: {average(results)}')\n",
    "print('Weighted Average: {}'.format(weighted_average(results, abs(Y_test.groupby('date').first()['Close_Diff']))))"
   ]
  },
  {
   "cell_type": "code",
   "execution_count": null,
   "metadata": {},
   "outputs": [],
   "source": []
  },
  {
   "cell_type": "code",
   "execution_count": null,
   "metadata": {},
   "outputs": [],
   "source": []
  },
  {
   "cell_type": "code",
   "execution_count": 146,
   "metadata": {},
   "outputs": [],
   "source": [
    "train = df[df['date'].apply(lambda x: date.fromisoformat(x) < date.fromisoformat('2019-01-01'))]\n",
    "test = df[df['date'].apply(lambda x: date.fromisoformat(x) >= date.fromisoformat('2019-01-01'))]\n",
    "\n",
    "X_train = train.drop(['date', 'Close_Diff', 'Close_Diff_Increase'], axis=1)\n",
    "Y_train = train[['Close_Diff', 'Close_Diff_Increase']]\n",
    "\n",
    "X_test = test.drop(['Close_Diff', 'Close_Diff_Increase'], axis=1)\n",
    "Y_test = test[['date', 'Close_Diff', 'Close_Diff_Increase']]"
   ]
  },
  {
   "cell_type": "code",
   "execution_count": 147,
   "metadata": {},
   "outputs": [
    {
     "data": {
      "text/plain": [
       "564.0825744110602"
      ]
     },
     "execution_count": 147,
     "metadata": {},
     "output_type": "execute_result"
    }
   ],
   "source": [
    "from sklearn.linear_model import LinearRegression\n",
    "from sklearn.linear_model import LogisticRegression\n",
    "from sklearn.metrics import mean_squared_error\n",
    "\n",
    "# fit classifier model to predict increase/ decrease\n",
    "classifier1 = LogisticRegression(max_iter=10000)\n",
    "classifier1.fit(X_train, Y_train['Close_Diff_Increase'])\n",
    "\n",
    "# fit classifier model to predict which are best\n",
    "classifier2 = LogisticRegression(max_iter=10000)\n",
    "c1_accuracy = classifier1.predict(X_train) == Y_train['Close_Diff_Increase']\n",
    "classifier2.fit(X_train, c1_accuracy)\n",
    "\n",
    "# fit regression model to predict difference\n",
    "regressor = LinearRegression()\n",
    "x_train_with_importance = X_train[classifier2.predict(X_train)]\n",
    "y_train_with_importance = Y_train[classifier2.predict(X_train)]\n",
    "regressor.fit(x_train_with_importance, y_train_with_importance['Close_Diff'])\n",
    "\n",
    "x_test_with_importance = X_test[classifier2.predict(X_test.drop(['date'], axis=1))]\n",
    "y_test_with_importance = Y_test[classifier2.predict(X_test.drop(['date'], axis=1))]\n",
    "predictions = x_test_with_importance.groupby('date').apply(regressor.predict).apply(lambda x: median(x))\n",
    "mean_squared_error(y_test_with_importance.groupby('date').first()['Close_Diff'], predictions)"
   ]
  },
  {
   "cell_type": "code",
   "execution_count": 148,
   "metadata": {},
   "outputs": [
    {
     "name": "stdout",
     "output_type": "stream",
     "text": [
      "Average: 0.5260663507109005\n",
      "Weighted Average: 0.5147811382072358\n"
     ]
    }
   ],
   "source": [
    "predictions = x_test_with_importance.groupby('date').apply(regressor.predict).apply(lambda x: median(x) > 0)\n",
    "results = predictions.values == Y_test.groupby('date').first()['Close_Diff_Increase'].values\n",
    "print(f'Average: {average(results)}')\n",
    "print('Weighted Average: {}'.format(weighted_average(results, abs(Y_test.groupby('date').first()['Close_Diff']))))"
   ]
  },
  {
   "cell_type": "code",
   "execution_count": null,
   "metadata": {},
   "outputs": [],
   "source": []
  },
  {
   "cell_type": "code",
   "execution_count": null,
   "metadata": {},
   "outputs": [],
   "source": []
  },
  {
   "cell_type": "code",
   "execution_count": null,
   "metadata": {},
   "outputs": [],
   "source": []
  },
  {
   "cell_type": "code",
   "execution_count": null,
   "metadata": {},
   "outputs": [],
   "source": []
  },
  {
   "cell_type": "code",
   "execution_count": null,
   "metadata": {},
   "outputs": [],
   "source": []
  },
  {
   "cell_type": "code",
   "execution_count": null,
   "metadata": {},
   "outputs": [],
   "source": []
  },
  {
   "cell_type": "markdown",
   "metadata": {},
   "source": [
    "## Models: Random Forest Classifier (TERRIBLE)"
   ]
  },
  {
   "cell_type": "code",
   "execution_count": 131,
   "metadata": {},
   "outputs": [],
   "source": [
    "X = df.drop(['date', 'Close_Diff', 'Close_Diff_Increase'], axis=1)\n",
    "Y = df['Close_Diff_Increase']"
   ]
  },
  {
   "cell_type": "code",
   "execution_count": 132,
   "metadata": {},
   "outputs": [
    {
     "data": {
      "text/plain": [
       "0.536517797179315"
      ]
     },
     "execution_count": 132,
     "metadata": {},
     "output_type": "execute_result"
    }
   ],
   "source": [
    "from sklearn.ensemble import RandomForestClassifier\n",
    "from sklearn.model_selection import train_test_split\n",
    "\n",
    "X_train, X_test, Y_train, Y_test = train_test_split(X, Y, test_size=0.2)\n",
    "\n",
    "classifier = RandomForestClassifier(max_depth=2)\n",
    "classifier.fit(X_train, Y_train)\n",
    "classifier.score(X_test, Y_test)"
   ]
  },
  {
   "cell_type": "code",
   "execution_count": 133,
   "metadata": {},
   "outputs": [
    {
     "data": {
      "text/plain": [
       "1.0"
      ]
     },
     "execution_count": 133,
     "metadata": {},
     "output_type": "execute_result"
    }
   ],
   "source": [
    "sum(classifier.predict(X_test)) / len(X_test)"
   ]
  },
  {
   "cell_type": "code",
   "execution_count": null,
   "metadata": {},
   "outputs": [],
   "source": []
  },
  {
   "cell_type": "code",
   "execution_count": 49,
   "metadata": {},
   "outputs": [],
   "source": [
    "# train = df[df['date'].apply(lambda x: date.fromisoformat(x) < date.fromisoformat('2018-01-01'))]\n",
    "# validate = df[df['date'].apply(lambda x: date.fromisoformat(x) >= date.fromisoformat('2018-01-01') and date.fromisoformat(x) < date.fromisoformat('2019-01-01'))]\n",
    "# test = df[df['date'].apply(lambda x: date.fromisoformat(x) >= date.fromisoformat('2019-01-01'))]\n",
    "train = df[df['date'].apply(lambda x: date.fromisoformat(x) < date.fromisoformat('2019-01-01'))]\n",
    "test = df[df['date'].apply(lambda x: date.fromisoformat(x) >= date.fromisoformat('2019-01-01'))]\n",
    "\n",
    "X_train = train.drop(['date', 'Close_Diff_Increase'], axis=1)\n",
    "# X_validate = validate.drop(['date', 'Close_Diff_Increase'], axis=1)\n",
    "X_test = test.drop(['Close_Diff_Increase'], axis=1)\n",
    "Y_train = train['Close_Diff_Increase']\n",
    "# Y_validate = validate['Close_Diff_Increase']\n",
    "Y_test = test[['date', 'Close_Diff_Increase']]"
   ]
  },
  {
   "cell_type": "code",
   "execution_count": 50,
   "metadata": {},
   "outputs": [
    {
     "data": {
      "text/plain": [
       "RandomForestClassifier(bootstrap=True, ccp_alpha=0.0, class_weight=None,\n",
       "                       criterion='gini', max_depth=2, max_features='auto',\n",
       "                       max_leaf_nodes=None, max_samples=None,\n",
       "                       min_impurity_decrease=0.0, min_impurity_split=None,\n",
       "                       min_samples_leaf=1, min_samples_split=2,\n",
       "                       min_weight_fraction_leaf=0.0, n_estimators=100,\n",
       "                       n_jobs=None, oob_score=False, random_state=None,\n",
       "                       verbose=0, warm_start=False)"
      ]
     },
     "execution_count": 50,
     "metadata": {},
     "output_type": "execute_result"
    }
   ],
   "source": [
    "from sklearn.ensemble import RandomForestClassifier\n",
    "\n",
    "classifier = RandomForestClassifier(max_depth=2)\n",
    "classifier.fit(X_train, Y_train)"
   ]
  },
  {
   "cell_type": "code",
   "execution_count": 51,
   "metadata": {},
   "outputs": [
    {
     "name": "stdout",
     "output_type": "stream",
     "text": [
      "0.5781990521327014\n"
     ]
    }
   ],
   "source": [
    "predictions = X_test.groupby('date').apply(classifier.predict).apply(lambda x: mode(x)[0])\n",
    "print(sum(predictions.values == Y_test.groupby('date').first()['Close_Diff_Increase'].values) / len(predictions))"
   ]
  },
  {
   "cell_type": "code",
   "execution_count": 52,
   "metadata": {},
   "outputs": [
    {
     "data": {
      "text/plain": [
       "1.0"
      ]
     },
     "execution_count": 52,
     "metadata": {},
     "output_type": "execute_result"
    }
   ],
   "source": [
    "sum(predictions) / len(predictions)"
   ]
  },
  {
   "cell_type": "code",
   "execution_count": null,
   "metadata": {},
   "outputs": [],
   "source": []
  },
  {
   "cell_type": "code",
   "execution_count": 33,
   "metadata": {},
   "outputs": [],
   "source": [
    "# # messing with cutoff\n",
    "\n",
    "# def do_something(values):\n",
    "#     values.sort()\n",
    "#     n = len(values) // 5\n",
    "#     return (sum(values[:n]) + sum(values[-n:])) / (2*n)\n",
    "\n",
    "# trues = []\n",
    "# falses = []\n",
    "# for _, y in test.groupby('date'):\n",
    "#     x = do_something(classifier.predict_proba(X_test.loc[y.index])[:,0])\n",
    "#     if Y_test[y.index].iloc[0]:\n",
    "#         trues.append(x)\n",
    "#     else:\n",
    "#         falses.append(x)"
   ]
  },
  {
   "cell_type": "code",
   "execution_count": null,
   "metadata": {},
   "outputs": [],
   "source": []
  }
 ],
 "metadata": {
  "kernelspec": {
   "display_name": "Python 3",
   "language": "python",
   "name": "python3"
  },
  "language_info": {
   "codemirror_mode": {
    "name": "ipython",
    "version": 3
   },
   "file_extension": ".py",
   "mimetype": "text/x-python",
   "name": "python",
   "nbconvert_exporter": "python",
   "pygments_lexer": "ipython3",
   "version": "3.7.5"
  }
 },
 "nbformat": 4,
 "nbformat_minor": 2
}
