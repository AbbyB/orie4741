{
 "cells": [
  {
   "cell_type": "code",
   "execution_count": 1,
   "metadata": {},
   "outputs": [
    {
     "name": "stderr",
     "output_type": "stream",
     "text": [
      "[nltk_data] Downloading package vader_lexicon to\n",
      "[nltk_data]     /Users/Abby/nltk_data...\n",
      "[nltk_data]   Package vader_lexicon is already up-to-date!\n"
     ]
    }
   ],
   "source": [
    "import pandas as pd\n",
    "import numpy as np\n",
    "import matplotlib.pyplot as plt\n",
    "\n",
    "from textblob import TextBlob\n",
    "import nltk\n",
    "nltk.download('vader_lexicon')\n",
    "from nltk.sentiment.vader import SentimentIntensityAnalyzer\n",
    "\n",
    "from datetime import datetime, timedelta, date\n",
    "import dateutil\n",
    "\n",
    "from statistics import mean, median\n",
    "from scipy.stats import mode\n",
    "\n",
    "from sklearn.linear_model import LogisticRegression\n",
    "from sklearn.linear_model import LinearRegression\n",
    "from sklearn.metrics import mean_squared_error\n",
    "\n",
    "from sklearn.feature_extraction.text import CountVectorizer\n",
    "from sklearn.preprocessing import StandardScaler\n",
    "from sklearn.decomposition import PCA\n",
    "from sklearn.decomposition import TruncatedSVD"
   ]
  },
  {
   "cell_type": "markdown",
   "metadata": {},
   "source": [
    "## Stocks Data"
   ]
  },
  {
   "cell_type": "code",
   "execution_count": 2,
   "metadata": {},
   "outputs": [],
   "source": [
    "stocks = ['AAPL', 'FB', 'NFLX', 'AMZN', 'GOOG']\n",
    "indices = ['^DJI', '^GSPC']\n",
    "diffCols = ['Close']\n",
    "\n",
    "# Adds a column to df for the day by day change of col\n",
    "def add_day_change(df, cols):\n",
    "    for col in cols:\n",
    "        try:\n",
    "            df[col + '_Diff'] = pd.to_numeric(df[col]).pct_change()\n",
    "            df[col + \"_Diff_Increase\"] = df[col + '_Diff'] > 0\n",
    "        except:\n",
    "            print(f\"Unable to calculate diff for {col}\")\n",
    "            \n",
    "def add_moving_avg(df, col, n):\n",
    "    try:\n",
    "        df[f\"Moving_Avg_{col}_{n}\"] = df[col].rolling(window=n).mean().shift(1)\n",
    "    except:\n",
    "        print(f\"Unable to calculate moving avg for {col}\")\n",
    "\n",
    "# Market dfs will store all of our dataframes for stock market data\n",
    "market_dfs = {}\n",
    "for symbol in stocks + indices:\n",
    "    market_dfs[symbol] = pd.read_csv(\"../Additional Data/\" + symbol + '.csv')\n",
    "    add_day_change(market_dfs[symbol], diffCols)\n",
    "    market_dfs[symbol]['Date'] = market_dfs[symbol]['Date'].apply(lambda x: dateutil.parser.parse(x).date())\n",
    "    market_dfs[symbol].dropna(inplace=True)"
   ]
  },
  {
   "cell_type": "code",
   "execution_count": 3,
   "metadata": {},
   "outputs": [
    {
     "data": {
      "text/html": [
       "<div>\n",
       "<style scoped>\n",
       "    .dataframe tbody tr th:only-of-type {\n",
       "        vertical-align: middle;\n",
       "    }\n",
       "\n",
       "    .dataframe tbody tr th {\n",
       "        vertical-align: top;\n",
       "    }\n",
       "\n",
       "    .dataframe thead th {\n",
       "        text-align: right;\n",
       "    }\n",
       "</style>\n",
       "<table border=\"1\" class=\"dataframe\">\n",
       "  <thead>\n",
       "    <tr style=\"text-align: right;\">\n",
       "      <th></th>\n",
       "      <th>Date</th>\n",
       "      <th>Open</th>\n",
       "      <th>High</th>\n",
       "      <th>Low</th>\n",
       "      <th>Close</th>\n",
       "      <th>Adj Close</th>\n",
       "      <th>Volume</th>\n",
       "      <th>Close_Diff</th>\n",
       "      <th>Close_Diff_Increase</th>\n",
       "    </tr>\n",
       "  </thead>\n",
       "  <tbody>\n",
       "    <tr>\n",
       "      <th>1</th>\n",
       "      <td>2015-01-05</td>\n",
       "      <td>2054.439941</td>\n",
       "      <td>2054.439941</td>\n",
       "      <td>2017.339966</td>\n",
       "      <td>2020.579956</td>\n",
       "      <td>2020.579956</td>\n",
       "      <td>3799120000</td>\n",
       "      <td>-0.018278</td>\n",
       "      <td>False</td>\n",
       "    </tr>\n",
       "    <tr>\n",
       "      <th>2</th>\n",
       "      <td>2015-01-06</td>\n",
       "      <td>2022.150024</td>\n",
       "      <td>2030.250000</td>\n",
       "      <td>1992.439941</td>\n",
       "      <td>2002.609985</td>\n",
       "      <td>2002.609985</td>\n",
       "      <td>4460110000</td>\n",
       "      <td>-0.008893</td>\n",
       "      <td>False</td>\n",
       "    </tr>\n",
       "    <tr>\n",
       "      <th>3</th>\n",
       "      <td>2015-01-07</td>\n",
       "      <td>2005.550049</td>\n",
       "      <td>2029.609985</td>\n",
       "      <td>2005.550049</td>\n",
       "      <td>2025.900024</td>\n",
       "      <td>2025.900024</td>\n",
       "      <td>3805480000</td>\n",
       "      <td>0.011630</td>\n",
       "      <td>True</td>\n",
       "    </tr>\n",
       "    <tr>\n",
       "      <th>4</th>\n",
       "      <td>2015-01-08</td>\n",
       "      <td>2030.609985</td>\n",
       "      <td>2064.080078</td>\n",
       "      <td>2030.609985</td>\n",
       "      <td>2062.139893</td>\n",
       "      <td>2062.139893</td>\n",
       "      <td>3934010000</td>\n",
       "      <td>0.017888</td>\n",
       "      <td>True</td>\n",
       "    </tr>\n",
       "    <tr>\n",
       "      <th>5</th>\n",
       "      <td>2015-01-09</td>\n",
       "      <td>2063.449951</td>\n",
       "      <td>2064.429932</td>\n",
       "      <td>2038.329956</td>\n",
       "      <td>2044.810059</td>\n",
       "      <td>2044.810059</td>\n",
       "      <td>3364140000</td>\n",
       "      <td>-0.008404</td>\n",
       "      <td>False</td>\n",
       "    </tr>\n",
       "  </tbody>\n",
       "</table>\n",
       "</div>"
      ],
      "text/plain": [
       "         Date         Open         High          Low        Close  \\\n",
       "1  2015-01-05  2054.439941  2054.439941  2017.339966  2020.579956   \n",
       "2  2015-01-06  2022.150024  2030.250000  1992.439941  2002.609985   \n",
       "3  2015-01-07  2005.550049  2029.609985  2005.550049  2025.900024   \n",
       "4  2015-01-08  2030.609985  2064.080078  2030.609985  2062.139893   \n",
       "5  2015-01-09  2063.449951  2064.429932  2038.329956  2044.810059   \n",
       "\n",
       "     Adj Close      Volume  Close_Diff  Close_Diff_Increase  \n",
       "1  2020.579956  3799120000   -0.018278                False  \n",
       "2  2002.609985  4460110000   -0.008893                False  \n",
       "3  2025.900024  3805480000    0.011630                 True  \n",
       "4  2062.139893  3934010000    0.017888                 True  \n",
       "5  2044.810059  3364140000   -0.008404                False  "
      ]
     },
     "execution_count": 3,
     "metadata": {},
     "output_type": "execute_result"
    }
   ],
   "source": [
    "market_dfs[\"^GSPC\"].head()"
   ]
  },
  {
   "cell_type": "code",
   "execution_count": 4,
   "metadata": {},
   "outputs": [],
   "source": [
    "# Plots a trend for a symbol in the dfs dictionary for the col specified. Standardized divides all data by the mean\n",
    "def plot_trend(df, col, standardize=False):\n",
    "    # Figsize\n",
    "    plt.figure(figsize=(10,6))\n",
    "    \n",
    "    # Plot stock price\n",
    "    trend = df[col] / np.mean(df[col]) if standardize else df[col]\n",
    "    plt.plot(trend)\n",
    "    date = df.Date\n",
    "        \n",
    "    # Plot config\n",
    "    locs, _ = plt.xticks()\n",
    "    plt.xticks(locs[1:-1], date[0:-1:len(date)//(len(locs)-3)])\n",
    "    plt.title(f'Standardized {col} over Time' if standardize else f'{col} over Time')\n",
    "    plt.xlabel('Date')\n",
    "    plt.ylabel(col)\n",
    "    plt.show()"
   ]
  },
  {
   "cell_type": "code",
   "execution_count": 5,
   "metadata": {},
   "outputs": [
    {
     "data": {
      "image/png": "[encoded data removed]",
      "text/plain": [
       "<Figure size 720x432 with 1 Axes>"
      ]
     },
     "metadata": {
      "needs_background": "light"
     },
     "output_type": "display_data"
    }
   ],
   "source": [
    "plot_trend(market_dfs[\"^GSPC\"], 'Close')"
   ]
  },
  {
   "cell_type": "code",
   "execution_count": 6,
   "metadata": {},
   "outputs": [
    {
     "data": {
      "image/png": "[encoded data removed]",
      "text/plain": [
       "<Figure size 720x432 with 1 Axes>"
      ]
     },
     "metadata": {
      "needs_background": "light"
     },
     "output_type": "display_data"
    }
   ],
   "source": [
    "plot_trend(market_dfs[\"^GSPC\"], 'Close_Diff')"
   ]
  },
  {
   "cell_type": "markdown",
   "metadata": {},
   "source": [
    "## News Data"
   ]
  },
  {
   "cell_type": "code",
   "execution_count": 7,
   "metadata": {},
   "outputs": [],
   "source": [
    "news = pd.concat([pd.read_csv('../nytimes_2015.csv'), \n",
    "                  pd.read_csv('../nytimes_2016.csv'), \n",
    "                  pd.read_csv('../nytimes_2017.csv'), \n",
    "                  pd.read_csv('../nytimes_2018.csv'), \n",
    "                  pd.read_csv('../nytimes_2019.csv')], ignore_index=True)"
   ]
  },
  {
   "cell_type": "code",
   "execution_count": 8,
   "metadata": {},
   "outputs": [
    {
     "name": "stdout",
     "output_type": "stream",
     "text": [
      "82533\n"
     ]
    },
    {
     "data": {
      "text/html": [
       "<div>\n",
       "<style scoped>\n",
       "    .dataframe tbody tr th:only-of-type {\n",
       "        vertical-align: middle;\n",
       "    }\n",
       "\n",
       "    .dataframe tbody tr th {\n",
       "        vertical-align: top;\n",
       "    }\n",
       "\n",
       "    .dataframe thead th {\n",
       "        text-align: right;\n",
       "    }\n",
       "</style>\n",
       "<table border=\"1\" class=\"dataframe\">\n",
       "  <thead>\n",
       "    <tr style=\"text-align: right;\">\n",
       "      <th></th>\n",
       "      <th>web_url</th>\n",
       "      <th>snippet</th>\n",
       "      <th>lead_paragraph</th>\n",
       "      <th>abstract</th>\n",
       "      <th>print_page</th>\n",
       "      <th>source</th>\n",
       "      <th>headline</th>\n",
       "      <th>headline_kicker</th>\n",
       "      <th>headline_content_kicker</th>\n",
       "      <th>headline_print_headline</th>\n",
       "      <th>...</th>\n",
       "      <th>headline_seo</th>\n",
       "      <th>headline_sub</th>\n",
       "      <th>keywords</th>\n",
       "      <th>pub_date</th>\n",
       "      <th>document_type</th>\n",
       "      <th>news_desk</th>\n",
       "      <th>section_name</th>\n",
       "      <th>byline</th>\n",
       "      <th>type_of_material</th>\n",
       "      <th>word_count</th>\n",
       "    </tr>\n",
       "  </thead>\n",
       "  <tbody>\n",
       "    <tr>\n",
       "      <th>0</th>\n",
       "      <td>https://www.nytimes.com/2015/01/08/world/ameri...</td>\n",
       "      <td>Born through a mix of frustration, satire and ...</td>\n",
       "      <td>MONTERREY, Mexico — Inside a large, open-air b...</td>\n",
       "      <td>Born through a mix of frustration, satire and ...</td>\n",
       "      <td>9.0</td>\n",
       "      <td>The New York Times</td>\n",
       "      <td>A Bus Takes a Local Route to Fighting Mexican ...</td>\n",
       "      <td>Monterrey Journal</td>\n",
       "      <td>NaN</td>\n",
       "      <td>A Bus Takes a Local Route to Fighting Mexican ...</td>\n",
       "      <td>...</td>\n",
       "      <td>NaN</td>\n",
       "      <td>NaN</td>\n",
       "      <td>[{'name': 'persons', 'value': 'Villegas, Pauli...</td>\n",
       "      <td>2015-01-08T00:45:08+0000</td>\n",
       "      <td>article</td>\n",
       "      <td>Foreign</td>\n",
       "      <td>World</td>\n",
       "      <td>{'original': 'By Paulina Villegas', 'person': ...</td>\n",
       "      <td>News</td>\n",
       "      <td>1030</td>\n",
       "    </tr>\n",
       "    <tr>\n",
       "      <th>1</th>\n",
       "      <td>https://www.nytimes.com/2015/01/11/business/mu...</td>\n",
       "      <td>So-called dark trading — when computers serve ...</td>\n",
       "      <td>JUDGING solely by the name, stock trading in s...</td>\n",
       "      <td>So-called dark trading — when computers serve ...</td>\n",
       "      <td>29.0</td>\n",
       "      <td>The New York Times</td>\n",
       "      <td>The Rise of Trading in the Dark</td>\n",
       "      <td>Datapoints</td>\n",
       "      <td>NaN</td>\n",
       "      <td>The Rise of Trading in the Dark</td>\n",
       "      <td>...</td>\n",
       "      <td>NaN</td>\n",
       "      <td>NaN</td>\n",
       "      <td>[{'name': 'subject', 'value': 'Stocks and Bond...</td>\n",
       "      <td>2015-01-09T21:44:42+0000</td>\n",
       "      <td>article</td>\n",
       "      <td>SundayBusiness</td>\n",
       "      <td>Business Day</td>\n",
       "      <td>{'original': 'By Anna Bernasek', 'person': [{'...</td>\n",
       "      <td>News</td>\n",
       "      <td>366</td>\n",
       "    </tr>\n",
       "    <tr>\n",
       "      <th>2</th>\n",
       "      <td>https://www.nytimes.com/2015/01/11/business/fo...</td>\n",
       "      <td>In the fixed-income market, 2014 was frustrati...</td>\n",
       "      <td>BONDS confounded conventional wisdom in 2014 w...</td>\n",
       "      <td>In the fixed-income market, 2014 was frustrati...</td>\n",
       "      <td>16.0</td>\n",
       "      <td>The New York Times</td>\n",
       "      <td>For Bond Investors, That Other Shoe Still Didn...</td>\n",
       "      <td>NaN</td>\n",
       "      <td>NaN</td>\n",
       "      <td>For Bond Investors, the Other Shoe Still Didn’...</td>\n",
       "      <td>...</td>\n",
       "      <td>NaN</td>\n",
       "      <td>NaN</td>\n",
       "      <td>[{'name': 'subject', 'value': 'Stocks and Bond...</td>\n",
       "      <td>2015-01-09T21:46:05+0000</td>\n",
       "      <td>article</td>\n",
       "      <td>NODESK</td>\n",
       "      <td>Business Day</td>\n",
       "      <td>{'original': 'By Carla Fried', 'person': [{'fi...</td>\n",
       "      <td>News</td>\n",
       "      <td>1269</td>\n",
       "    </tr>\n",
       "    <tr>\n",
       "      <th>3</th>\n",
       "      <td>https://www.nytimes.com/2015/01/11/business/pe...</td>\n",
       "      <td>A Canadian investor takes a chance on a pace-s...</td>\n",
       "      <td>The typical origin story for a tech company in...</td>\n",
       "      <td>A Canadian investor takes a chance on a pace-s...</td>\n",
       "      <td>1.0</td>\n",
       "      <td>The New York Times</td>\n",
       "      <td>The Uphill Push to Save a Bike-Share Pioneer</td>\n",
       "      <td>NaN</td>\n",
       "      <td>NaN</td>\n",
       "      <td>The Uphill Push to Save a Bike-Share Pioneer</td>\n",
       "      <td>...</td>\n",
       "      <td>NaN</td>\n",
       "      <td>NaN</td>\n",
       "      <td>[{'name': 'subject', 'value': 'Bicycles and Bi...</td>\n",
       "      <td>2015-01-09T21:03:51+0000</td>\n",
       "      <td>article</td>\n",
       "      <td>SundayBusiness</td>\n",
       "      <td>Business Day</td>\n",
       "      <td>{'original': 'By Ian Austen', 'person': [{'fir...</td>\n",
       "      <td>News</td>\n",
       "      <td>1923</td>\n",
       "    </tr>\n",
       "    <tr>\n",
       "      <th>4</th>\n",
       "      <td>https://www.nytimes.com/2015/01/06/business/in...</td>\n",
       "      <td>The euro's continued plunge, to a nine-year lo...</td>\n",
       "      <td>FRANKFURT — The value of the euro fell to its ...</td>\n",
       "      <td>The euro's continued plunge, to a nine-year lo...</td>\n",
       "      <td>5.0</td>\n",
       "      <td>The New York Times</td>\n",
       "      <td>Falling Euro Fans Fears of a Regional Slowdown</td>\n",
       "      <td>NaN</td>\n",
       "      <td>NaN</td>\n",
       "      <td>Sliding Euro Fans Fears of a Slowdown</td>\n",
       "      <td>...</td>\n",
       "      <td>NaN</td>\n",
       "      <td>NaN</td>\n",
       "      <td>[{'name': 'persons', 'value': 'Ewing, Jack', '...</td>\n",
       "      <td>2015-01-05T21:05:04+0000</td>\n",
       "      <td>article</td>\n",
       "      <td>Business</td>\n",
       "      <td>Business Day</td>\n",
       "      <td>{'original': 'By Jack Ewing', 'person': [{'fir...</td>\n",
       "      <td>News</td>\n",
       "      <td>1157</td>\n",
       "    </tr>\n",
       "  </tbody>\n",
       "</table>\n",
       "<p>5 rows × 21 columns</p>\n",
       "</div>"
      ],
      "text/plain": [
       "                                             web_url  \\\n",
       "0  https://www.nytimes.com/2015/01/08/world/ameri...   \n",
       "1  https://www.nytimes.com/2015/01/11/business/mu...   \n",
       "2  https://www.nytimes.com/2015/01/11/business/fo...   \n",
       "3  https://www.nytimes.com/2015/01/11/business/pe...   \n",
       "4  https://www.nytimes.com/2015/01/06/business/in...   \n",
       "\n",
       "                                             snippet  \\\n",
       "0  Born through a mix of frustration, satire and ...   \n",
       "1  So-called dark trading — when computers serve ...   \n",
       "2  In the fixed-income market, 2014 was frustrati...   \n",
       "3  A Canadian investor takes a chance on a pace-s...   \n",
       "4  The euro's continued plunge, to a nine-year lo...   \n",
       "\n",
       "                                      lead_paragraph  \\\n",
       "0  MONTERREY, Mexico — Inside a large, open-air b...   \n",
       "1  JUDGING solely by the name, stock trading in s...   \n",
       "2  BONDS confounded conventional wisdom in 2014 w...   \n",
       "3  The typical origin story for a tech company in...   \n",
       "4  FRANKFURT — The value of the euro fell to its ...   \n",
       "\n",
       "                                            abstract  print_page  \\\n",
       "0  Born through a mix of frustration, satire and ...         9.0   \n",
       "1  So-called dark trading — when computers serve ...        29.0   \n",
       "2  In the fixed-income market, 2014 was frustrati...        16.0   \n",
       "3  A Canadian investor takes a chance on a pace-s...         1.0   \n",
       "4  The euro's continued plunge, to a nine-year lo...         5.0   \n",
       "\n",
       "               source                                           headline  \\\n",
       "0  The New York Times  A Bus Takes a Local Route to Fighting Mexican ...   \n",
       "1  The New York Times                    The Rise of Trading in the Dark   \n",
       "2  The New York Times  For Bond Investors, That Other Shoe Still Didn...   \n",
       "3  The New York Times       The Uphill Push to Save a Bike-Share Pioneer   \n",
       "4  The New York Times     Falling Euro Fans Fears of a Regional Slowdown   \n",
       "\n",
       "     headline_kicker  headline_content_kicker  \\\n",
       "0  Monterrey Journal                      NaN   \n",
       "1         Datapoints                      NaN   \n",
       "2                NaN                      NaN   \n",
       "3                NaN                      NaN   \n",
       "4                NaN                      NaN   \n",
       "\n",
       "                             headline_print_headline  ...  headline_seo  \\\n",
       "0  A Bus Takes a Local Route to Fighting Mexican ...  ...           NaN   \n",
       "1                    The Rise of Trading in the Dark  ...           NaN   \n",
       "2  For Bond Investors, the Other Shoe Still Didn’...  ...           NaN   \n",
       "3       The Uphill Push to Save a Bike-Share Pioneer  ...           NaN   \n",
       "4              Sliding Euro Fans Fears of a Slowdown  ...           NaN   \n",
       "\n",
       "   headline_sub                                           keywords  \\\n",
       "0           NaN  [{'name': 'persons', 'value': 'Villegas, Pauli...   \n",
       "1           NaN  [{'name': 'subject', 'value': 'Stocks and Bond...   \n",
       "2           NaN  [{'name': 'subject', 'value': 'Stocks and Bond...   \n",
       "3           NaN  [{'name': 'subject', 'value': 'Bicycles and Bi...   \n",
       "4           NaN  [{'name': 'persons', 'value': 'Ewing, Jack', '...   \n",
       "\n",
       "                   pub_date document_type       news_desk  section_name  \\\n",
       "0  2015-01-08T00:45:08+0000       article         Foreign         World   \n",
       "1  2015-01-09T21:44:42+0000       article  SundayBusiness  Business Day   \n",
       "2  2015-01-09T21:46:05+0000       article          NODESK  Business Day   \n",
       "3  2015-01-09T21:03:51+0000       article  SundayBusiness  Business Day   \n",
       "4  2015-01-05T21:05:04+0000       article        Business  Business Day   \n",
       "\n",
       "                                              byline type_of_material  \\\n",
       "0  {'original': 'By Paulina Villegas', 'person': ...             News   \n",
       "1  {'original': 'By Anna Bernasek', 'person': [{'...             News   \n",
       "2  {'original': 'By Carla Fried', 'person': [{'fi...             News   \n",
       "3  {'original': 'By Ian Austen', 'person': [{'fir...             News   \n",
       "4  {'original': 'By Jack Ewing', 'person': [{'fir...             News   \n",
       "\n",
       "  word_count  \n",
       "0       1030  \n",
       "1        366  \n",
       "2       1269  \n",
       "3       1923  \n",
       "4       1157  \n",
       "\n",
       "[5 rows x 21 columns]"
      ]
     },
     "execution_count": 8,
     "metadata": {},
     "output_type": "execute_result"
    }
   ],
   "source": [
    "print(len(news))\n",
    "news.head()"
   ]
  },
  {
   "cell_type": "markdown",
   "metadata": {},
   "source": [
    "### Delete Irrelevant Columns"
   ]
  },
  {
   "cell_type": "code",
   "execution_count": 9,
   "metadata": {},
   "outputs": [
    {
     "name": "stdout",
     "output_type": "stream",
     "text": [
      "Dropped columns\n"
     ]
    }
   ],
   "source": [
    "try: \n",
    "    news = news.drop(['web_url', 'byline', 'headline_print_headline', 'document_type'], axis=1)\n",
    "\n",
    "    # these are missing more than abstract and contain similar info\n",
    "    news = news.drop(['snippet', 'lead_paragraph'], axis=1)\n",
    "\n",
    "    # all missing data\n",
    "    news = news.drop(['headline_content_kicker', 'headline_name', 'headline_seo', 'headline_sub'], axis=1)\n",
    "    print(\"Dropped columns\")\n",
    "except: \n",
    "    pass "
   ]
  },
  {
   "cell_type": "markdown",
   "metadata": {},
   "source": [
    "### Transform Columns to be More Useful"
   ]
  },
  {
   "cell_type": "code",
   "execution_count": 10,
   "metadata": {},
   "outputs": [
    {
     "name": "stdout",
     "output_type": "stream",
     "text": [
      "Transformed columns\n"
     ]
    }
   ],
   "source": [
    "try:\n",
    "    # make headline include kicker\n",
    "    news['full_headline'] = news[['headline', 'headline_kicker']].apply(lambda x: x.str.cat(sep=': '), axis=1)\n",
    "\n",
    "    del news['headline_kicker']\n",
    "    del news['headline']\n",
    "\n",
    "    # create whether or not the article was in print\n",
    "    news['is_print'] = news['print_page'].isna()\n",
    "    del news['print_page']\n",
    "    print(\"Transformed columns\")\n",
    "except:\n",
    "    pass"
   ]
  },
  {
   "cell_type": "markdown",
   "metadata": {},
   "source": [
    "### Change to One-Hot Encoding"
   ]
  },
  {
   "cell_type": "code",
   "execution_count": 11,
   "metadata": {},
   "outputs": [],
   "source": [
    "# from type of material\n",
    "type_dummies = pd.get_dummies(news['type_of_material'].fillna('Other'), prefix='Type')\n",
    "news = pd.concat([news, type_dummies], axis=1, join='inner')\n",
    "news.rename(columns={'Type_briefing': 'Type_Briefing'}, inplace=True)\n",
    "\n",
    "del news['type_of_material']"
   ]
  },
  {
   "cell_type": "code",
   "execution_count": 12,
   "metadata": {},
   "outputs": [],
   "source": [
    "# from source\n",
    "source_dummies = pd.get_dummies(news['source'].fillna('Other'), prefix='Source')\n",
    "news = pd.concat([news, source_dummies], axis=1, join='inner')\n",
    "\n",
    "del news['source']"
   ]
  },
  {
   "cell_type": "code",
   "execution_count": 13,
   "metadata": {},
   "outputs": [],
   "source": [
    "# from news desk\n",
    "news_desk_dummies = pd.get_dummies(news['news_desk'].fillna('Other'), prefix='Desk')\n",
    "news = pd.concat([news, news_desk_dummies], axis=1, join='inner')\n",
    "\n",
    "del news['news_desk']"
   ]
  },
  {
   "cell_type": "code",
   "execution_count": 14,
   "metadata": {},
   "outputs": [],
   "source": [
    "# from section name\n",
    "section_name_dummies = pd.get_dummies(news['section_name'], prefix='Section')\n",
    "news = pd.concat([news, section_name_dummies], axis=1, join='inner')\n",
    "\n",
    "del news['section_name']"
   ]
  },
  {
   "cell_type": "markdown",
   "metadata": {},
   "source": [
    "### Change Keywords to Many-Hot Encoding"
   ]
  },
  {
   "cell_type": "code",
   "execution_count": 15,
   "metadata": {},
   "outputs": [],
   "source": [
    "import ast\n",
    "from collections import Counter\n",
    "\n",
    "counter = Counter()\n",
    "\n",
    "# Get list of all keywords\n",
    "def get_most_common(x):\n",
    "    keywords = set()\n",
    "    for word in ast.literal_eval(x):\n",
    "        keywords.add(word['value'])\n",
    "    counter.update(keywords)\n",
    "    return keywords\n",
    "\n",
    "news['keywords'] = news['keywords'].apply(get_most_common)\n",
    "\n",
    "# Pick top 1000\n",
    "most_common = set()\n",
    "for word, counts in counter.most_common(1000):\n",
    "    most_common.add(word)\n",
    "\n",
    "# Get the intersection of article's keywords and top 100\n",
    "def get_keywords(x):\n",
    "    keywords = x.intersection(most_common)\n",
    "    return '|'.join(keywords)\n",
    "\n",
    "# Many-hot\n",
    "keywords_dummies = news['keywords'].apply(get_keywords).str.get_dummies()\n",
    "keywords_dummies.rename(columns={x: 'Keyword_' + x for x in keywords_dummies.columns}, inplace=True)\n",
    "news = pd.concat([news, keywords_dummies], axis=1, join='inner')\n",
    "\n",
    "del news['keywords']"
   ]
  },
  {
   "cell_type": "markdown",
   "metadata": {},
   "source": [
    "### Time & Date"
   ]
  },
  {
   "cell_type": "code",
   "execution_count": 16,
   "metadata": {},
   "outputs": [],
   "source": [
    "if 'pub_date' in news.columns:\n",
    "    news['hour'] = news['pub_date'].apply(lambda x: dateutil.parser.parse(x).time().hour)\n",
    "    news['date'] = news['pub_date'].apply(lambda x: dateutil.parser.parse(x).date() + timedelta(days=1))\n",
    "    del news['pub_date']"
   ]
  },
  {
   "cell_type": "markdown",
   "metadata": {},
   "source": [
    "### Sentiment Analysis"
   ]
  },
  {
   "cell_type": "code",
   "execution_count": 17,
   "metadata": {},
   "outputs": [],
   "source": [
    "# Adds sentiment by TextBlob (polarity and subjectivity) to a df based on its col column\n",
    "def add_textblob_sentiment(df, col):\n",
    "    def polarity_and_subjectivity(x):\n",
    "        sentiment = TextBlob(str(x)).sentiment\n",
    "        return sentiment.polarity, sentiment.subjectivity\n",
    "    df[f'{col}_polarity'], df[f'{col}_subjectivity'] = zip(*df[col].map(polarity_and_subjectivity))\n",
    "    \n",
    "def add_nltk_sentiment(df, col):\n",
    "    sid = SentimentIntensityAnalyzer()\n",
    "    def polarity_and_subjectivity(x):\n",
    "        sentiment = sid.polarity_scores(str(x))\n",
    "        return list(sentiment.values())\n",
    "    df[f'{col}_neg'], df[f'{col}_neu'], df[f'{col}_pos'], df[f'{col}_compound'] = zip(*df[col].map(polarity_and_subjectivity))"
   ]
  },
  {
   "cell_type": "code",
   "execution_count": 18,
   "metadata": {},
   "outputs": [],
   "source": [
    "if 'abstract' in news.columns and 'full_headline' in news.columns: \n",
    "    add_textblob_sentiment(news, 'abstract')\n",
    "    add_textblob_sentiment(news, 'full_headline')\n",
    "    add_nltk_sentiment(news, 'abstract')\n",
    "    add_nltk_sentiment(news, 'full_headline')\n",
    "    news = news.drop(['abstract'], axis=1)"
   ]
  },
  {
   "cell_type": "code",
   "execution_count": null,
   "metadata": {},
   "outputs": [],
   "source": []
  },
  {
   "cell_type": "markdown",
   "metadata": {},
   "source": [
    "## Bag of Words Models"
   ]
  },
  {
   "cell_type": "code",
   "execution_count": 49,
   "metadata": {},
   "outputs": [
    {
     "name": "stdout",
     "output_type": "stream",
     "text": [
      "AAPL\n",
      "0.5856573705179283\n",
      "FB\n",
      "0.450199203187251\n",
      "NFLX\n",
      "0.5298804780876494\n",
      "AMZN\n",
      "0.549800796812749\n",
      "GOOG\n",
      "0.5099601593625498\n",
      "^DJI\n",
      "0.5378486055776892\n",
      "^GSPC\n",
      "0.5697211155378487\n"
     ]
    }
   ],
   "source": [
    "# classifier\n",
    "for symbol in stocks + indices:\n",
    "    print(symbol)\n",
    "\n",
    "    # group all articles for each day\n",
    "    df = pd.DataFrame(news.groupby('date')['full_headline'].apply(lambda x: ' '.join(x))).merge(market_dfs[symbol], left_on='date', right_on='Date')\n",
    "    df = df.drop(['Open', 'High', 'Low', 'Close', 'Adj Close', 'Volume', 'Close_Diff'], axis=1)\n",
    "\n",
    "    train = df[df['Date'].apply(lambda x: x < dateutil.parser.parse('2018-11-01').date())].reset_index(drop=True)\n",
    "    test = df[df['Date'].apply(lambda x: x >= dateutil.parser.parse('2018-11-01').date())].reset_index(drop=True)\n",
    "\n",
    "    vectorize = CountVectorizer(ngram_range=(2,2))\n",
    "    train_vectorize = vectorize.fit_transform(train['full_headline'])\n",
    "    test_vectorize = vectorize.transform(test['full_headline'])\n",
    "    \n",
    "    classifier = LogisticRegression(max_iter=1000, penalty='l1', C=1, solver='liblinear')\n",
    "    classifier.fit(train_vectorize, train['Close_Diff_Increase'])\n",
    "\n",
    "    print(classifier.score(test_vectorize, test['Close_Diff_Increase']))"
   ]
  },
  {
   "cell_type": "code",
   "execution_count": 50,
   "metadata": {},
   "outputs": [
    {
     "name": "stdout",
     "output_type": "stream",
     "text": [
      "AAPL\n",
      "0.0003900487219754105\n",
      "FB\n",
      "0.00041068732246477674\n",
      "NFLX\n",
      "0.0006333879484441252\n",
      "AMZN\n",
      "0.0003903427822283333\n",
      "GOOG\n",
      "0.0003010132565824724\n",
      "^DJI\n",
      "9.953919470454011e-05\n",
      "^GSPC\n",
      "9.77064388541399e-05\n"
     ]
    }
   ],
   "source": [
    "# regression\n",
    "for symbol in stocks + indices:\n",
    "    print(symbol)\n",
    "\n",
    "    # group all articles for each day\n",
    "    df = pd.DataFrame(news.groupby('date')['full_headline'].apply(lambda x: ' '.join(x))).merge(market_dfs[symbol], left_on='date', right_on='Date')\n",
    "    df = df.drop(['Open', 'High', 'Low', 'Close', 'Adj Close', 'Volume', 'Close_Diff_Increase'], axis=1)\n",
    "\n",
    "    train = df[df['Date'].apply(lambda x: x < dateutil.parser.parse('2018-11-01').date())].reset_index(drop=True)\n",
    "    test = df[df['Date'].apply(lambda x: x >= dateutil.parser.parse('2018-11-01').date())].reset_index(drop=True)\n",
    "\n",
    "    vectorize = CountVectorizer(ngram_range=(2,2))\n",
    "    train_vectorize = vectorize.fit_transform(train['full_headline'])\n",
    "    test_vectorize = vectorize.transform(test['full_headline'])\n",
    "    \n",
    "    reg = LinearRegression()\n",
    "    reg.fit(train_vectorize, train['Close_Diff'])\n",
    "\n",
    "    print(mean_squared_error(test['Close_Diff'], reg.predict(test_vectorize)))\n",
    "    "
   ]
  },
  {
   "cell_type": "code",
   "execution_count": null,
   "metadata": {},
   "outputs": [],
   "source": []
  },
  {
   "cell_type": "markdown",
   "metadata": {},
   "source": [
    "## Create train/ test datasets for easy model testing"
   ]
  },
  {
   "cell_type": "code",
   "execution_count": 29,
   "metadata": {},
   "outputs": [],
   "source": [
    "full_dfs = {}\n",
    "for symbol in stocks + indices: \n",
    "    df = news.merge(market_dfs[symbol], left_on='date', right_on='Date')\n",
    "    df = df.drop(['Date', 'Open', 'High', 'Low', 'Close', 'Adj Close', 'Volume'], axis=1)\n",
    "\n",
    "    train = df[df['date'].apply(lambda x: x < dateutil.parser.parse('2018-11-01').date())].reset_index(drop=True)\n",
    "    test = df[df['date'].apply(lambda x: x >= dateutil.parser.parse('2018-11-01').date())].reset_index(drop=True)\n",
    "\n",
    "    # bag of words on headline and then PCA and take first 10 components\n",
    "    vectorize = CountVectorizer(ngram_range=(2,2))\n",
    "    train_pca = vectorize.fit_transform(train['full_headline'])\n",
    "    test_pca = vectorize.transform(test['full_headline'])\n",
    "    \n",
    "    pca = TruncatedSVD(n_components=10)\n",
    "    pca_df = pd.DataFrame(pca.fit_transform(train_pca), columns=['pca1','pca2','pca3','pca4','pca5','pca6','pca7','pca8','pca9','pca10'])\n",
    "    train = pd.concat([train, pca_df.reindex(train.index)], axis=1)\n",
    "    pca_df = pd.DataFrame(pca.transform(test_pca), columns=['pca1','pca2','pca3','pca4','pca5','pca6','pca7','pca8','pca9','pca10'])\n",
    "    test = pd.concat([test, pca_df.reindex(test.index)], axis=1)\n",
    "    \n",
    "    train = train.drop(['full_headline'], axis=1)\n",
    "    test = test.drop(['full_headline'], axis=1)\n",
    "    \n",
    "    full_dfs[symbol] = {'train': train, 'test': test}"
   ]
  },
  {
   "cell_type": "code",
   "execution_count": 62,
   "metadata": {},
   "outputs": [],
   "source": [
    "# get X_train, Y_train, X_test, and Y_test\n",
    "def get_x_y(x_columns, y_columns, train, test):\n",
    "    return train[x_columns], test[x_columns], train[y_columns], test[y_columns]"
   ]
  },
  {
   "cell_type": "code",
   "execution_count": 58,
   "metadata": {},
   "outputs": [],
   "source": [
    "# average the articles for each day and get X_train, Y_train, X_test, and Y_test\n",
    "def get_x_y_average(x_columns, y_columns, train, test):\n",
    "    train = train.groupby('date').mean().reset_index(drop=True)\n",
    "    test = test.groupby('date').mean().reset_index(drop=True)\n",
    "    return train[x_columns], test[x_columns], train[y_columns], test[y_columns]"
   ]
  },
  {
   "cell_type": "code",
   "execution_count": 10,
   "metadata": {},
   "outputs": [],
   "source": [
    "def average(results):\n",
    "    return sum(results) / len(results)\n",
    "\n",
    "# weight classification error by how much the market moved\n",
    "def weighted_average(results, weights):\n",
    "    return results.dot(abs(weights)) / sum(abs(weights))"
   ]
  },
  {
   "cell_type": "code",
   "execution_count": null,
   "metadata": {},
   "outputs": [],
   "source": []
  },
  {
   "cell_type": "markdown",
   "metadata": {},
   "source": [
    "## Models"
   ]
  },
  {
   "cell_type": "code",
   "execution_count": 87,
   "metadata": {},
   "outputs": [
    {
     "name": "stdout",
     "output_type": "stream",
     "text": [
      "AAPL\n"
     ]
    },
    {
     "name": "stderr",
     "output_type": "stream",
     "text": [
      "/Users/Abby/anaconda3/lib/python3.6/site-packages/sklearn/preprocessing/data.py:617: DataConversionWarning: Data with input dtype bool, int64, float64 were all converted to float64 by StandardScaler.\n",
      "  return self.partial_fit(X, y)\n",
      "/Users/Abby/anaconda3/lib/python3.6/site-packages/sklearn/base.py:462: DataConversionWarning: Data with input dtype bool, int64, float64 were all converted to float64 by StandardScaler.\n",
      "  return self.fit(X, **fit_params).transform(X)\n",
      "/Users/Abby/anaconda3/lib/python3.6/site-packages/ipykernel_launcher.py:21: DataConversionWarning: Data with input dtype bool, int64, float64 were all converted to float64 by StandardScaler.\n"
     ]
    },
    {
     "name": "stdout",
     "output_type": "stream",
     "text": [
      "Average: 0.5378486055776892\n",
      "Weighted Average: 0.525031861642065\n",
      "FB\n"
     ]
    },
    {
     "name": "stderr",
     "output_type": "stream",
     "text": [
      "/Users/Abby/anaconda3/lib/python3.6/site-packages/sklearn/preprocessing/data.py:617: DataConversionWarning: Data with input dtype bool, int64, float64 were all converted to float64 by StandardScaler.\n",
      "  return self.partial_fit(X, y)\n",
      "/Users/Abby/anaconda3/lib/python3.6/site-packages/sklearn/base.py:462: DataConversionWarning: Data with input dtype bool, int64, float64 were all converted to float64 by StandardScaler.\n",
      "  return self.fit(X, **fit_params).transform(X)\n",
      "/Users/Abby/anaconda3/lib/python3.6/site-packages/ipykernel_launcher.py:21: DataConversionWarning: Data with input dtype bool, int64, float64 were all converted to float64 by StandardScaler.\n"
     ]
    },
    {
     "name": "stdout",
     "output_type": "stream",
     "text": [
      "Average: 0.49800796812749004\n",
      "Weighted Average: 0.5225823224897267\n",
      "NFLX\n"
     ]
    },
    {
     "name": "stderr",
     "output_type": "stream",
     "text": [
      "/Users/Abby/anaconda3/lib/python3.6/site-packages/sklearn/preprocessing/data.py:617: DataConversionWarning: Data with input dtype bool, int64, float64 were all converted to float64 by StandardScaler.\n",
      "  return self.partial_fit(X, y)\n",
      "/Users/Abby/anaconda3/lib/python3.6/site-packages/sklearn/base.py:462: DataConversionWarning: Data with input dtype bool, int64, float64 were all converted to float64 by StandardScaler.\n",
      "  return self.fit(X, **fit_params).transform(X)\n",
      "/Users/Abby/anaconda3/lib/python3.6/site-packages/ipykernel_launcher.py:21: DataConversionWarning: Data with input dtype bool, int64, float64 were all converted to float64 by StandardScaler.\n"
     ]
    },
    {
     "name": "stdout",
     "output_type": "stream",
     "text": [
      "Average: 0.4860557768924303\n",
      "Weighted Average: 0.48945020367587555\n",
      "AMZN\n"
     ]
    },
    {
     "name": "stderr",
     "output_type": "stream",
     "text": [
      "/Users/Abby/anaconda3/lib/python3.6/site-packages/sklearn/preprocessing/data.py:617: DataConversionWarning: Data with input dtype bool, int64, float64 were all converted to float64 by StandardScaler.\n",
      "  return self.partial_fit(X, y)\n",
      "/Users/Abby/anaconda3/lib/python3.6/site-packages/sklearn/base.py:462: DataConversionWarning: Data with input dtype bool, int64, float64 were all converted to float64 by StandardScaler.\n",
      "  return self.fit(X, **fit_params).transform(X)\n",
      "/Users/Abby/anaconda3/lib/python3.6/site-packages/ipykernel_launcher.py:21: DataConversionWarning: Data with input dtype bool, int64, float64 were all converted to float64 by StandardScaler.\n"
     ]
    },
    {
     "name": "stdout",
     "output_type": "stream",
     "text": [
      "Average: 0.5298804780876494\n",
      "Weighted Average: 0.5224052615088606\n",
      "GOOG\n"
     ]
    },
    {
     "name": "stderr",
     "output_type": "stream",
     "text": [
      "/Users/Abby/anaconda3/lib/python3.6/site-packages/sklearn/preprocessing/data.py:617: DataConversionWarning: Data with input dtype bool, int64, float64 were all converted to float64 by StandardScaler.\n",
      "  return self.partial_fit(X, y)\n",
      "/Users/Abby/anaconda3/lib/python3.6/site-packages/sklearn/base.py:462: DataConversionWarning: Data with input dtype bool, int64, float64 were all converted to float64 by StandardScaler.\n",
      "  return self.fit(X, **fit_params).transform(X)\n",
      "/Users/Abby/anaconda3/lib/python3.6/site-packages/ipykernel_launcher.py:21: DataConversionWarning: Data with input dtype bool, int64, float64 were all converted to float64 by StandardScaler.\n"
     ]
    },
    {
     "name": "stdout",
     "output_type": "stream",
     "text": [
      "Average: 0.5219123505976095\n",
      "Weighted Average: 0.5330720008186741\n",
      "^DJI\n"
     ]
    },
    {
     "name": "stderr",
     "output_type": "stream",
     "text": [
      "/Users/Abby/anaconda3/lib/python3.6/site-packages/sklearn/preprocessing/data.py:617: DataConversionWarning: Data with input dtype bool, int64, float64 were all converted to float64 by StandardScaler.\n",
      "  return self.partial_fit(X, y)\n",
      "/Users/Abby/anaconda3/lib/python3.6/site-packages/sklearn/base.py:462: DataConversionWarning: Data with input dtype bool, int64, float64 were all converted to float64 by StandardScaler.\n",
      "  return self.fit(X, **fit_params).transform(X)\n",
      "/Users/Abby/anaconda3/lib/python3.6/site-packages/ipykernel_launcher.py:21: DataConversionWarning: Data with input dtype bool, int64, float64 were all converted to float64 by StandardScaler.\n"
     ]
    },
    {
     "name": "stdout",
     "output_type": "stream",
     "text": [
      "Average: 0.545816733067729\n",
      "Weighted Average: 0.5248096764140403\n",
      "^GSPC\n"
     ]
    },
    {
     "name": "stderr",
     "output_type": "stream",
     "text": [
      "/Users/Abby/anaconda3/lib/python3.6/site-packages/sklearn/preprocessing/data.py:617: DataConversionWarning: Data with input dtype bool, int64, float64 were all converted to float64 by StandardScaler.\n",
      "  return self.partial_fit(X, y)\n",
      "/Users/Abby/anaconda3/lib/python3.6/site-packages/sklearn/base.py:462: DataConversionWarning: Data with input dtype bool, int64, float64 were all converted to float64 by StandardScaler.\n",
      "  return self.fit(X, **fit_params).transform(X)\n",
      "/Users/Abby/anaconda3/lib/python3.6/site-packages/ipykernel_launcher.py:21: DataConversionWarning: Data with input dtype bool, int64, float64 were all converted to float64 by StandardScaler.\n"
     ]
    },
    {
     "name": "stdout",
     "output_type": "stream",
     "text": [
      "Average: 0.5577689243027888\n",
      "Weighted Average: 0.5359006262332655\n"
     ]
    }
   ],
   "source": [
    "# Logistic regression with PCA on all features\n",
    "for symbol in stocks + indices:\n",
    "    print(symbol)\n",
    "\n",
    "    X_train, X_test, Y_train, Y_test = get_x_y(\n",
    "        full_dfs[symbol]['train'].columns.drop(['date', 'Close_Diff', 'Close_Diff_Increase']), \n",
    "        ['date', 'Close_Diff', 'Close_Diff_Increase'], \n",
    "        full_dfs[symbol]['train'], \n",
    "        full_dfs[symbol]['test']\n",
    "    )\n",
    "    \n",
    "    scaler = StandardScaler()\n",
    "    pca = PCA(n_components=5)\n",
    "    \n",
    "    classifier = LogisticRegression(max_iter=1000, penalty='l1', C=1, solver='liblinear')\n",
    "    classifier.fit(pca.fit_transform(scaler.fit_transform(X_train)), Y_train['Close_Diff_Increase'])\n",
    "\n",
    "    X_test = pd.DataFrame(pca.transform(scaler.transform(X_test)))\n",
    "    X_test['date'] = Y_test['date'].values\n",
    "    predictions = X_test.groupby('date').apply(classifier.predict).apply(lambda x: mode(x)[0])\n",
    "    results = predictions.values == Y_test.groupby('date').first()['Close_Diff_Increase'].values\n",
    "    print(f'Average: {average(results)}')\n",
    "    print('Weighted Average: {}'.format(weighted_average(results, Y_test.groupby('date').first()['Close_Diff'])))"
   ]
  },
  {
   "cell_type": "code",
   "execution_count": null,
   "metadata": {},
   "outputs": [],
   "source": []
  },
  {
   "cell_type": "code",
   "execution_count": 31,
   "metadata": {},
   "outputs": [
    {
     "name": "stdout",
     "output_type": "stream",
     "text": [
      "AAPL\n",
      "0.004801978374477705\n",
      "FB\n",
      "0.007857353389514403\n",
      "NFLX\n",
      "0.016376986716709906\n",
      "AMZN\n",
      "0.00945374144760702\n",
      "GOOG\n",
      "0.00720401193165237\n",
      "^DJI\n",
      "0.0015902343599479322\n",
      "^GSPC\n",
      "0.001613102163909155\n"
     ]
    }
   ],
   "source": [
    "# Linear regression with average across day with all features\n",
    "for symbol in stocks + indices:\n",
    "    print(symbol)\n",
    "\n",
    "    X_train, X_test, Y_train, Y_test = get_x_y_average(\n",
    "        full_dfs[symbol]['train'].columns.drop(['date', 'Close_Diff', 'Close_Diff_Increase']), \n",
    "        'Close_Diff', \n",
    "        full_dfs[symbol]['train'], \n",
    "        full_dfs[symbol]['test']\n",
    "    )\n",
    "\n",
    "    regressor = LinearRegression()\n",
    "    regressor.fit(X_train, Y_train)\n",
    "\n",
    "    print(mean_squared_error(Y_test, regressor.predict(X_test)))"
   ]
  },
  {
   "cell_type": "code",
   "execution_count": 77,
   "metadata": {},
   "outputs": [
    {
     "name": "stdout",
     "output_type": "stream",
     "text": [
      "AAPL\n",
      "0.4940239043824701\n",
      "FB\n",
      "0.47808764940239046\n",
      "NFLX\n",
      "0.4701195219123506\n",
      "AMZN\n",
      "0.5099601593625498\n",
      "GOOG\n",
      "0.5378486055776892\n",
      "^DJI\n",
      "0.545816733067729\n",
      "^GSPC\n",
      "0.5378486055776892\n"
     ]
    }
   ],
   "source": [
    "# Logistic regression with average across day with all features\n",
    "for symbol in stocks + indices:\n",
    "    print(symbol)\n",
    "\n",
    "    X_train, X_test, Y_train, Y_test = get_x_y_average(\n",
    "        full_dfs[symbol]['train'].columns.drop(['date', 'Close_Diff', 'Close_Diff_Increase']), \n",
    "        'Close_Diff_Increase', \n",
    "        full_dfs[symbol]['train'], \n",
    "        full_dfs[symbol]['test']\n",
    "    )\n",
    "\n",
    "    regressor = LogisticRegression(max_iter=10000, solver='lbfgs')\n",
    "    regressor.fit(X_train, Y_train)\n",
    "\n",
    "    print(regressor.score(X_test, Y_test))"
   ]
  },
  {
   "cell_type": "code",
   "execution_count": 78,
   "metadata": {},
   "outputs": [
    {
     "name": "stdout",
     "output_type": "stream",
     "text": [
      "AAPL\n",
      "0.5338645418326693\n",
      "FB\n",
      "0.5179282868525896\n",
      "NFLX\n",
      "0.49800796812749004\n",
      "AMZN\n",
      "0.5298804780876494\n",
      "GOOG\n",
      "0.5298804780876494\n",
      "^DJI\n",
      "0.545816733067729\n",
      "^GSPC\n",
      "0.5617529880478087\n"
     ]
    }
   ],
   "source": [
    "# Logistic regression with average across day with only bag of words PCA and sentiment\n",
    "for symbol in stocks + indices:\n",
    "    print(symbol)\n",
    "\n",
    "    X_train, X_test, Y_train, Y_test = get_x_y_average(\n",
    "        ['pca1', 'pca2', 'pca3', 'pca4', 'pca5', 'pca6', 'pca7', 'pca8', 'pca9', 'pca10', 'full_headline_neg', 'full_headline_neu', 'full_headline_pos', 'full_headline_compound', 'abstract_neg', 'abstract_neu', 'abstract_compound', 'abstract_pos'], \n",
    "        'Close_Diff_Increase', \n",
    "        full_dfs[symbol]['train'], \n",
    "        full_dfs[symbol]['test']\n",
    "    )\n",
    "\n",
    "    regressor = LogisticRegression(max_iter=10000, solver='lbfgs')\n",
    "    regressor.fit(X_train, Y_train)\n",
    "\n",
    "    print(regressor.score(X_test, Y_test))"
   ]
  },
  {
   "cell_type": "code",
   "execution_count": null,
   "metadata": {},
   "outputs": [],
   "source": []
  },
  {
   "cell_type": "code",
   "execution_count": 63,
   "metadata": {},
   "outputs": [
    {
     "name": "stdout",
     "output_type": "stream",
     "text": [
      "AAPL\n",
      "Average: 0.5219123505976095\n",
      "Weighted Average: 0.5244296521407597\n",
      "FB\n",
      "Average: 0.5338645418326693\n",
      "Weighted Average: 0.5400937488885611\n",
      "NFLX\n",
      "Average: 0.5099601593625498\n",
      "Weighted Average: 0.5117967587700238\n",
      "AMZN\n",
      "Average: 0.5258964143426295\n",
      "Weighted Average: 0.5302111826087915\n",
      "GOOG\n",
      "Average: 0.5219123505976095\n",
      "Weighted Average: 0.5434414198357912\n",
      "^DJI\n",
      "Average: 0.545816733067729\n",
      "Weighted Average: 0.5252876106391109\n",
      "^GSPC\n",
      "Average: 0.549800796812749\n",
      "Weighted Average: 0.5312815362191463\n"
     ]
    }
   ],
   "source": [
    "# Logistic regression with all features\n",
    "for symbol in stocks + indices:\n",
    "    print(symbol)\n",
    "\n",
    "    X_train, X_test, Y_train, Y_test = get_x_y(\n",
    "        full_dfs[symbol]['train'].columns.drop(['Close_Diff', 'Close_Diff_Increase']), \n",
    "        ['date', 'Close_Diff', 'Close_Diff_Increase'], \n",
    "        full_dfs[symbol]['train'], \n",
    "        full_dfs[symbol]['test']\n",
    "    )\n",
    "\n",
    "    classifier = LogisticRegression(max_iter=1000, penalty='l1', C=1, solver='liblinear')\n",
    "    classifier.fit(X_train.drop(['date'], axis=1), Y_train['Close_Diff_Increase'])\n",
    "\n",
    "    predictions = X_test.groupby('date').apply(classifier.predict).apply(lambda x: mode(x)[0])\n",
    "    results = predictions.values == Y_test.groupby('date').first()['Close_Diff_Increase'].values\n",
    "    print(f'Average: {average(results)}')\n",
    "    print('Weighted Average: {}'.format(weighted_average(results, Y_test.groupby('date').first()['Close_Diff'])))"
   ]
  },
  {
   "cell_type": "code",
   "execution_count": 65,
   "metadata": {},
   "outputs": [
    {
     "name": "stdout",
     "output_type": "stream",
     "text": [
      "AAPL\n",
      "Average: 0.5378486055776892\n",
      "Weighted Average: 0.5253529867861133\n",
      "FB\n",
      "Average: 0.5139442231075697\n",
      "Weighted Average: 0.5394878592075109\n",
      "NFLX\n",
      "Average: 0.4940239043824701\n",
      "Weighted Average: 0.4966563914478604\n",
      "AMZN\n",
      "Average: 0.5298804780876494\n",
      "Weighted Average: 0.5224052615088606\n",
      "GOOG\n",
      "Average: 0.5219123505976095\n",
      "Weighted Average: 0.5330720008186741\n",
      "^DJI\n",
      "Average: 0.545816733067729\n",
      "Weighted Average: 0.5248096764140403\n",
      "^GSPC\n",
      "Average: 0.5577689243027888\n",
      "Weighted Average: 0.5359006262332655\n"
     ]
    }
   ],
   "source": [
    "# Logistic regression with only sentiment features\n",
    "for symbol in stocks + indices:\n",
    "    print(symbol)\n",
    "\n",
    "    X_train, X_test, Y_train, Y_test = get_x_y(\n",
    "        ['date', 'full_headline_neg', 'full_headline_neu', 'full_headline_pos', 'full_headline_compound', 'abstract_neg', 'abstract_neu', 'abstract_compound', 'abstract_pos'], \n",
    "        ['date', 'Close_Diff', 'Close_Diff_Increase'], \n",
    "        full_dfs[symbol]['train'], \n",
    "        full_dfs[symbol]['test']\n",
    "    )\n",
    "\n",
    "    classifier = LogisticRegression(max_iter=1000, penalty='l1', C=1, solver='liblinear')\n",
    "    classifier.fit(X_train.drop(['date'], axis=1), Y_train['Close_Diff_Increase'])\n",
    "\n",
    "    predictions = X_test.groupby('date').apply(classifier.predict).apply(lambda x: mode(x)[0])\n",
    "    results = predictions.values == Y_test.groupby('date').first()['Close_Diff_Increase'].values\n",
    "    print(f'Average: {average(results)}')\n",
    "    print('Weighted Average: {}'.format(weighted_average(results, Y_test.groupby('date').first()['Close_Diff'])))"
   ]
  },
  {
   "cell_type": "code",
   "execution_count": 66,
   "metadata": {},
   "outputs": [
    {
     "name": "stdout",
     "output_type": "stream",
     "text": [
      "AAPL\n",
      "Average: 0.5378486055776892\n",
      "Weighted Average: 0.5253529867861133\n",
      "FB\n",
      "Average: 0.5139442231075697\n",
      "Weighted Average: 0.5394878592075109\n",
      "NFLX\n",
      "Average: 0.50199203187251\n",
      "Weighted Average: 0.5031425695003541\n",
      "AMZN\n",
      "Average: 0.5298804780876494\n",
      "Weighted Average: 0.5224052615088606\n",
      "GOOG\n",
      "Average: 0.5219123505976095\n",
      "Weighted Average: 0.5330720008186741\n",
      "^DJI\n",
      "Average: 0.545816733067729\n",
      "Weighted Average: 0.5248096764140403\n",
      "^GSPC\n",
      "Average: 0.5577689243027888\n",
      "Weighted Average: 0.5359006262332655\n"
     ]
    }
   ],
   "source": [
    "# Logistic regression with only bag of words PCA features\n",
    "for symbol in stocks + indices:\n",
    "    print(symbol)\n",
    "\n",
    "    X_train, X_test, Y_train, Y_test = get_x_y(\n",
    "        ['date', 'pca1', 'pca2', 'pca3', 'pca4', 'pca5', 'pca6', 'pca7', 'pca8', 'pca9', 'pca10'], \n",
    "        ['date', 'Close_Diff', 'Close_Diff_Increase'], \n",
    "        full_dfs[symbol]['train'], \n",
    "        full_dfs[symbol]['test']\n",
    "    )\n",
    "\n",
    "    classifier = LogisticRegression(max_iter=1000, penalty='l1', C=1, solver='liblinear')\n",
    "    classifier.fit(X_train.drop(['date'], axis=1), Y_train['Close_Diff_Increase'])\n",
    "\n",
    "    predictions = X_test.groupby('date').apply(classifier.predict).apply(lambda x: mode(x)[0])\n",
    "    results = predictions.values == Y_test.groupby('date').first()['Close_Diff_Increase'].values\n",
    "    print(f'Average: {average(results)}')\n",
    "    print('Weighted Average: {}'.format(weighted_average(results, Y_test.groupby('date').first()['Close_Diff'])))"
   ]
  },
  {
   "cell_type": "code",
   "execution_count": 67,
   "metadata": {},
   "outputs": [
    {
     "name": "stdout",
     "output_type": "stream",
     "text": [
      "AAPL\n",
      "Average: 0.5179282868525896\n",
      "Weighted Average: 0.5110784570646426\n",
      "FB\n",
      "Average: 0.5378486055776892\n",
      "Weighted Average: 0.5825166821146132\n",
      "NFLX\n",
      "Average: 0.4940239043824701\n",
      "Weighted Average: 0.501229157150921\n",
      "AMZN\n",
      "Average: 0.5219123505976095\n",
      "Weighted Average: 0.5175821818260528\n",
      "GOOG\n",
      "Average: 0.5099601593625498\n",
      "Weighted Average: 0.5477922184997918\n",
      "^DJI\n",
      "Average: 0.5418326693227091\n",
      "Weighted Average: 0.5253746508739032\n",
      "^GSPC\n",
      "Average: 0.5776892430278885\n",
      "Weighted Average: 0.5744311305210266\n"
     ]
    }
   ],
   "source": [
    "# Classification with linear regression with all features\n",
    "for symbol in stocks + indices:\n",
    "    print(symbol)\n",
    "\n",
    "    X_train, X_test, Y_train, Y_test = get_x_y(\n",
    "        full_dfs[symbol]['train'].columns.drop(['Close_Diff', 'Close_Diff_Increase']), \n",
    "        ['date', 'Close_Diff', 'Close_Diff_Increase'], \n",
    "        full_dfs[symbol]['train'], \n",
    "        full_dfs[symbol]['test']\n",
    "    )\n",
    "\n",
    "    regressor = LinearRegression()\n",
    "    regressor.fit(X_train.drop(['date'], axis=1), Y_train['Close_Diff'])\n",
    "\n",
    "    predictions = X_test.groupby('date').apply(regressor.predict).apply(lambda x: median(x) > 0)\n",
    "    results = predictions.values == Y_test.groupby('date').first()['Close_Diff_Increase'].values\n",
    "    print(f'Average: {average(results)}')\n",
    "    print('Weighted Average: {}'.format(weighted_average(results, Y_test.groupby('date').first()['Close_Diff'])))"
   ]
  },
  {
   "cell_type": "code",
   "execution_count": 69,
   "metadata": {
    "scrolled": true
   },
   "outputs": [
    {
     "name": "stdout",
     "output_type": "stream",
     "text": [
      "AAPL\n",
      "0.0003868585165670449\n",
      "FB\n",
      "0.00040729329176409095\n",
      "NFLX\n",
      "0.0006215365808348696\n",
      "AMZN\n",
      "0.0003793477828953\n",
      "GOOG\n",
      "0.0002942817124558133\n",
      "^DJI\n",
      "9.800742814330056e-05\n",
      "^GSPC\n",
      "9.660513905721755e-05\n"
     ]
    }
   ],
   "source": [
    "# Linear regression with all features\n",
    "for symbol in stocks + indices:\n",
    "    print(symbol)\n",
    "\n",
    "    X_train, X_test, Y_train, Y_test = get_x_y(\n",
    "        full_dfs[symbol]['train'].columns.drop(['Close_Diff', 'Close_Diff_Increase']), \n",
    "        ['date', 'Close_Diff'], \n",
    "        full_dfs[symbol]['train'], \n",
    "        full_dfs[symbol]['test']\n",
    "    )\n",
    "\n",
    "    regressor = LinearRegression()\n",
    "    regressor.fit(X_train.drop(['date'], axis=1), Y_train['Close_Diff'])\n",
    "\n",
    "    predictions = X_test.groupby('date').apply(regressor.predict).apply(median)\n",
    "    print(mean_squared_error(Y_test.groupby('date').first()['Close_Diff'], predictions))"
   ]
  },
  {
   "cell_type": "code",
   "execution_count": null,
   "metadata": {},
   "outputs": [],
   "source": []
  },
  {
   "cell_type": "code",
   "execution_count": 73,
   "metadata": {},
   "outputs": [
    {
     "name": "stdout",
     "output_type": "stream",
     "text": [
      "AAPL\n"
     ]
    },
    {
     "name": "stderr",
     "output_type": "stream",
     "text": [
      "/Users/Abby/anaconda3/lib/python3.6/site-packages/pandas/core/indexing.py:376: SettingWithCopyWarning: \n",
      "A value is trying to be set on a copy of a slice from a DataFrame.\n",
      "Try using .loc[row_indexer,col_indexer] = value instead\n",
      "\n",
      "See the caveats in the documentation: http://pandas.pydata.org/pandas-docs/stable/user_guide/indexing.html#returning-a-view-versus-a-copy\n",
      "  self.obj[key] = _infer_fill_value(value)\n",
      "/Users/Abby/anaconda3/lib/python3.6/site-packages/pandas/core/indexing.py:494: SettingWithCopyWarning: \n",
      "A value is trying to be set on a copy of a slice from a DataFrame.\n",
      "Try using .loc[row_indexer,col_indexer] = value instead\n",
      "\n",
      "See the caveats in the documentation: http://pandas.pydata.org/pandas-docs/stable/user_guide/indexing.html#returning-a-view-versus-a-copy\n",
      "  self.obj[item] = s\n"
     ]
    },
    {
     "name": "stdout",
     "output_type": "stream",
     "text": [
      "MSE: 0.00038786604906259297\n",
      "Average: 0.5179282868525896\n",
      "Weighted Average: 0.5108483613808856\n",
      "Average: 0.5099601593625498\n",
      "Weighted Average: 0.5079219609855401\n",
      "FB\n"
     ]
    },
    {
     "name": "stderr",
     "output_type": "stream",
     "text": [
      "/Users/Abby/anaconda3/lib/python3.6/site-packages/pandas/core/indexing.py:376: SettingWithCopyWarning: \n",
      "A value is trying to be set on a copy of a slice from a DataFrame.\n",
      "Try using .loc[row_indexer,col_indexer] = value instead\n",
      "\n",
      "See the caveats in the documentation: http://pandas.pydata.org/pandas-docs/stable/user_guide/indexing.html#returning-a-view-versus-a-copy\n",
      "  self.obj[key] = _infer_fill_value(value)\n",
      "/Users/Abby/anaconda3/lib/python3.6/site-packages/pandas/core/indexing.py:494: SettingWithCopyWarning: \n",
      "A value is trying to be set on a copy of a slice from a DataFrame.\n",
      "Try using .loc[row_indexer,col_indexer] = value instead\n",
      "\n",
      "See the caveats in the documentation: http://pandas.pydata.org/pandas-docs/stable/user_guide/indexing.html#returning-a-view-versus-a-copy\n",
      "  self.obj[item] = s\n"
     ]
    },
    {
     "name": "stdout",
     "output_type": "stream",
     "text": [
      "MSE: 0.0004080889089439621\n",
      "Average: 0.5378486055776892\n",
      "Weighted Average: 0.5912867721250523\n",
      "Average: 0.5219123505976095\n",
      "Weighted Average: 0.5307197134978214\n",
      "NFLX\n"
     ]
    },
    {
     "name": "stderr",
     "output_type": "stream",
     "text": [
      "/Users/Abby/anaconda3/lib/python3.6/site-packages/pandas/core/indexing.py:376: SettingWithCopyWarning: \n",
      "A value is trying to be set on a copy of a slice from a DataFrame.\n",
      "Try using .loc[row_indexer,col_indexer] = value instead\n",
      "\n",
      "See the caveats in the documentation: http://pandas.pydata.org/pandas-docs/stable/user_guide/indexing.html#returning-a-view-versus-a-copy\n",
      "  self.obj[key] = _infer_fill_value(value)\n",
      "/Users/Abby/anaconda3/lib/python3.6/site-packages/pandas/core/indexing.py:494: SettingWithCopyWarning: \n",
      "A value is trying to be set on a copy of a slice from a DataFrame.\n",
      "Try using .loc[row_indexer,col_indexer] = value instead\n",
      "\n",
      "See the caveats in the documentation: http://pandas.pydata.org/pandas-docs/stable/user_guide/indexing.html#returning-a-view-versus-a-copy\n",
      "  self.obj[item] = s\n"
     ]
    },
    {
     "name": "stdout",
     "output_type": "stream",
     "text": [
      "MSE: 0.0006218565648224291\n",
      "Average: 0.5059760956175299\n",
      "Weighted Average: 0.5133171464203858\n",
      "Average: 0.4900398406374502\n",
      "Weighted Average: 0.4804001050493781\n",
      "AMZN\n"
     ]
    },
    {
     "name": "stderr",
     "output_type": "stream",
     "text": [
      "/Users/Abby/anaconda3/lib/python3.6/site-packages/pandas/core/indexing.py:376: SettingWithCopyWarning: \n",
      "A value is trying to be set on a copy of a slice from a DataFrame.\n",
      "Try using .loc[row_indexer,col_indexer] = value instead\n",
      "\n",
      "See the caveats in the documentation: http://pandas.pydata.org/pandas-docs/stable/user_guide/indexing.html#returning-a-view-versus-a-copy\n",
      "  self.obj[key] = _infer_fill_value(value)\n",
      "/Users/Abby/anaconda3/lib/python3.6/site-packages/pandas/core/indexing.py:494: SettingWithCopyWarning: \n",
      "A value is trying to be set on a copy of a slice from a DataFrame.\n",
      "Try using .loc[row_indexer,col_indexer] = value instead\n",
      "\n",
      "See the caveats in the documentation: http://pandas.pydata.org/pandas-docs/stable/user_guide/indexing.html#returning-a-view-versus-a-copy\n",
      "  self.obj[item] = s\n"
     ]
    },
    {
     "name": "stdout",
     "output_type": "stream",
     "text": [
      "MSE: 0.0003782059040303174\n",
      "Average: 0.5298804780876494\n",
      "Weighted Average: 0.5193483678349603\n",
      "Average: 0.5258964143426295\n",
      "Weighted Average: 0.52112896448347\n",
      "GOOG\n"
     ]
    },
    {
     "name": "stderr",
     "output_type": "stream",
     "text": [
      "/Users/Abby/anaconda3/lib/python3.6/site-packages/pandas/core/indexing.py:376: SettingWithCopyWarning: \n",
      "A value is trying to be set on a copy of a slice from a DataFrame.\n",
      "Try using .loc[row_indexer,col_indexer] = value instead\n",
      "\n",
      "See the caveats in the documentation: http://pandas.pydata.org/pandas-docs/stable/user_guide/indexing.html#returning-a-view-versus-a-copy\n",
      "  self.obj[key] = _infer_fill_value(value)\n",
      "/Users/Abby/anaconda3/lib/python3.6/site-packages/pandas/core/indexing.py:494: SettingWithCopyWarning: \n",
      "A value is trying to be set on a copy of a slice from a DataFrame.\n",
      "Try using .loc[row_indexer,col_indexer] = value instead\n",
      "\n",
      "See the caveats in the documentation: http://pandas.pydata.org/pandas-docs/stable/user_guide/indexing.html#returning-a-view-versus-a-copy\n",
      "  self.obj[item] = s\n"
     ]
    },
    {
     "name": "stdout",
     "output_type": "stream",
     "text": [
      "MSE: 0.0002941877160755917\n",
      "Average: 0.5099601593625498\n",
      "Weighted Average: 0.547479421515392\n",
      "Average: 0.5258964143426295\n",
      "Weighted Average: 0.5355373205280896\n",
      "^DJI\n"
     ]
    },
    {
     "name": "stderr",
     "output_type": "stream",
     "text": [
      "/Users/Abby/anaconda3/lib/python3.6/site-packages/pandas/core/indexing.py:376: SettingWithCopyWarning: \n",
      "A value is trying to be set on a copy of a slice from a DataFrame.\n",
      "Try using .loc[row_indexer,col_indexer] = value instead\n",
      "\n",
      "See the caveats in the documentation: http://pandas.pydata.org/pandas-docs/stable/user_guide/indexing.html#returning-a-view-versus-a-copy\n",
      "  self.obj[key] = _infer_fill_value(value)\n",
      "/Users/Abby/anaconda3/lib/python3.6/site-packages/pandas/core/indexing.py:494: SettingWithCopyWarning: \n",
      "A value is trying to be set on a copy of a slice from a DataFrame.\n",
      "Try using .loc[row_indexer,col_indexer] = value instead\n",
      "\n",
      "See the caveats in the documentation: http://pandas.pydata.org/pandas-docs/stable/user_guide/indexing.html#returning-a-view-versus-a-copy\n",
      "  self.obj[item] = s\n"
     ]
    },
    {
     "name": "stdout",
     "output_type": "stream",
     "text": [
      "MSE: 9.799727475496061e-05\n",
      "Average: 0.545816733067729\n",
      "Weighted Average: 0.5276721249420508\n",
      "Average: 0.5418326693227091\n",
      "Weighted Average: 0.5209541309965023\n",
      "^GSPC\n"
     ]
    },
    {
     "name": "stderr",
     "output_type": "stream",
     "text": [
      "/Users/Abby/anaconda3/lib/python3.6/site-packages/pandas/core/indexing.py:376: SettingWithCopyWarning: \n",
      "A value is trying to be set on a copy of a slice from a DataFrame.\n",
      "Try using .loc[row_indexer,col_indexer] = value instead\n",
      "\n",
      "See the caveats in the documentation: http://pandas.pydata.org/pandas-docs/stable/user_guide/indexing.html#returning-a-view-versus-a-copy\n",
      "  self.obj[key] = _infer_fill_value(value)\n",
      "/Users/Abby/anaconda3/lib/python3.6/site-packages/pandas/core/indexing.py:494: SettingWithCopyWarning: \n",
      "A value is trying to be set on a copy of a slice from a DataFrame.\n",
      "Try using .loc[row_indexer,col_indexer] = value instead\n",
      "\n",
      "See the caveats in the documentation: http://pandas.pydata.org/pandas-docs/stable/user_guide/indexing.html#returning-a-view-versus-a-copy\n",
      "  self.obj[item] = s\n"
     ]
    },
    {
     "name": "stdout",
     "output_type": "stream",
     "text": [
      "MSE: 9.682482262926184e-05\n",
      "Average: 0.5537848605577689\n",
      "Weighted Average: 0.5217583272902468\n",
      "Average: 0.5537848605577689\n",
      "Weighted Average: 0.5223852122163499\n"
     ]
    }
   ],
   "source": [
    "# Stacked regression and classification with all features\n",
    "for symbol in stocks + indices:\n",
    "    print(symbol)\n",
    "\n",
    "    X_train, X_test, Y_train, Y_test = get_x_y(\n",
    "        full_dfs[symbol]['train'].columns.drop(['Close_Diff', 'Close_Diff_Increase']), \n",
    "        ['date', 'Close_Diff', 'Close_Diff_Increase'], \n",
    "        full_dfs[symbol]['train'], \n",
    "        full_dfs[symbol]['test']\n",
    "    )\n",
    "    X_train = X_train.drop(['date'], axis=1)\n",
    "\n",
    "    # fit classifier model to predict increase/ decrease\n",
    "    classifier1 = LogisticRegression(max_iter=10000, solver='lbfgs')\n",
    "    classifier1.fit(X_train, Y_train['Close_Diff_Increase'])\n",
    "\n",
    "    # fit classifier model to predict which are best\n",
    "    classifier2 = LogisticRegression(max_iter=10000, solver='lbfgs')\n",
    "    c1_accuracy = classifier1.predict(X_train) == Y_train['Close_Diff_Increase']\n",
    "    classifier2.fit(X_train, c1_accuracy)\n",
    "\n",
    "    # fit regression model to predict difference\n",
    "    regressor = LinearRegression()\n",
    "    x_train_with_importance = X_train\n",
    "    x_train_with_importance.['importance'] = classifier2.predict(X_train)\n",
    "    regressor.fit(x_train_with_importance, Y_train['Close_Diff'])\n",
    "\n",
    "    x_test_with_importance = X_test\n",
    "    x_test_with_importance.['importance'] = classifier2.predict(X_test.drop(['date'], axis=1))\n",
    "    predictions = x_test_with_importance.groupby('date').apply(regressor.predict).apply(median)\n",
    "    print('MSE: {}'.format(mean_squared_error(Y_test.groupby('date').first()['Close_Diff'], predictions)))\n",
    "    \n",
    "    predictions = x_test_with_importance.groupby('date').apply(regressor.predict).apply(lambda x: median(x) > 0)\n",
    "    results = predictions.values == Y_test.groupby('date').first()['Close_Diff_Increase'].values\n",
    "    print(f'Average: {average(results)}')\n",
    "    print('Weighted Average: {}'.format(weighted_average(results, Y_test.groupby('date').first()['Close_Diff'])))\n",
    "    \n",
    "    # fit classification model to predict increase/ decrease\n",
    "    regressor = LogisticRegression(max_iter=10000, solver='lbfgs')\n",
    "    regressor.fit(x_train_with_importance, Y_train['Close_Diff_Increase'])\n",
    "\n",
    "    predictions = x_test_with_importance.groupby('date').apply(regressor.predict).apply(lambda x: mode(x)[0])\n",
    "    results = predictions.values == Y_test.groupby('date').first()['Close_Diff_Increase'].values\n",
    "    print(f'Average: {average(results)}')\n",
    "    print('Weighted Average: {}'.format(weighted_average(results, Y_test.groupby('date').first()['Close_Diff'])))"
   ]
  },
  {
   "cell_type": "code",
   "execution_count": null,
   "metadata": {},
   "outputs": [],
   "source": []
  },
  {
   "cell_type": "markdown",
   "metadata": {},
   "source": [
    "## Graphs and Charts of Results"
   ]
  },
  {
   "cell_type": "code",
   "execution_count": 68,
   "metadata": {},
   "outputs": [
    {
     "data": {
      "text/html": [
       "<div>\n",
       "<style scoped>\n",
       "    .dataframe tbody tr th:only-of-type {\n",
       "        vertical-align: middle;\n",
       "    }\n",
       "\n",
       "    .dataframe tbody tr th {\n",
       "        vertical-align: top;\n",
       "    }\n",
       "\n",
       "    .dataframe thead th {\n",
       "        text-align: right;\n",
       "    }\n",
       "</style>\n",
       "<table border=\"1\" class=\"dataframe\">\n",
       "  <thead>\n",
       "    <tr style=\"text-align: right;\">\n",
       "      <th></th>\n",
       "      <th>AAPL</th>\n",
       "      <th>FB</th>\n",
       "      <th>NFLX</th>\n",
       "      <th>AMZN</th>\n",
       "      <th>GOOG</th>\n",
       "      <th>^DJI</th>\n",
       "      <th>^GSPC</th>\n",
       "    </tr>\n",
       "  </thead>\n",
       "  <tbody>\n",
       "    <tr>\n",
       "      <th>Bag of Words</th>\n",
       "      <td>0.000390</td>\n",
       "      <td>0.000411</td>\n",
       "      <td>0.000633</td>\n",
       "      <td>0.000390</td>\n",
       "      <td>0.000301</td>\n",
       "      <td>0.000100</td>\n",
       "      <td>0.000098</td>\n",
       "    </tr>\n",
       "    <tr>\n",
       "      <th>Days Average</th>\n",
       "      <td>0.004802</td>\n",
       "      <td>0.007857</td>\n",
       "      <td>0.016377</td>\n",
       "      <td>0.009454</td>\n",
       "      <td>0.007204</td>\n",
       "      <td>0.001590</td>\n",
       "      <td>0.001613</td>\n",
       "    </tr>\n",
       "    <tr>\n",
       "      <th>All Articles</th>\n",
       "      <td>0.000387</td>\n",
       "      <td>0.000407</td>\n",
       "      <td>0.000622</td>\n",
       "      <td>0.000379</td>\n",
       "      <td>0.000294</td>\n",
       "      <td>0.000098</td>\n",
       "      <td>0.000097</td>\n",
       "    </tr>\n",
       "    <tr>\n",
       "      <th>Stacked</th>\n",
       "      <td>0.000388</td>\n",
       "      <td>0.000408</td>\n",
       "      <td>0.000622</td>\n",
       "      <td>0.000378</td>\n",
       "      <td>0.000294</td>\n",
       "      <td>0.000098</td>\n",
       "      <td>0.000097</td>\n",
       "    </tr>\n",
       "  </tbody>\n",
       "</table>\n",
       "</div>"
      ],
      "text/plain": [
       "                  AAPL        FB      NFLX      AMZN      GOOG      ^DJI  \\\n",
       "Bag of Words  0.000390  0.000411  0.000633  0.000390  0.000301  0.000100   \n",
       "Days Average  0.004802  0.007857  0.016377  0.009454  0.007204  0.001590   \n",
       "All Articles  0.000387  0.000407  0.000622  0.000379  0.000294  0.000098   \n",
       "Stacked       0.000388  0.000408  0.000622  0.000378  0.000294  0.000098   \n",
       "\n",
       "                 ^GSPC  \n",
       "Bag of Words  0.000098  \n",
       "Days Average  0.001613  \n",
       "All Articles  0.000097  \n",
       "Stacked       0.000097  "
      ]
     },
     "execution_count": 68,
     "metadata": {},
     "output_type": "execute_result"
    }
   ],
   "source": [
    "reg_models = pd.DataFrame(np.array([\n",
    "    [0.0003900487219754105,\n",
    "     0.00041068732246477674,\n",
    "     0.0006333879484441252,\n",
    "     0.0003903427822283333,\n",
    "     0.0003010132565824724,\n",
    "     9.953919470454011e-05,\n",
    "     9.77064388541399e-05],\n",
    "    [0.004801978374477705,\n",
    "     0.007857353389514403,\n",
    "     0.016376986716709906,\n",
    "     0.00945374144760702,\n",
    "     0.00720401193165237,\n",
    "     0.0015902343599479322,\n",
    "     0.001613102163909155],\n",
    "    [0.0003868585165670449,\n",
    "     0.00040729329176409095,\n",
    "     0.0006215365808348696,\n",
    "     0.0003793477828953,\n",
    "     0.0002942817124558133,\n",
    "     9.800742814330056e-05,\n",
    "     9.660513905721755e-05], \n",
    "    [0.00038786604906259297,\n",
    "     0.0004080889089439621,\n",
    "     0.0006218565648224291,\n",
    "     0.0003782059040303174,\n",
    "     0.0002941877160755917,\n",
    "     9.799727475496061e-05,\n",
    "     9.682482262926184e-05]]), \n",
    "                          columns=['AAPL', 'FB', 'NFLX', 'AMZN', 'GOOG', '^DJI', '^GSPC'])\n",
    "reg_models = reg_models.set_index(pd.Index(['Bag of Words', 'Days Average', 'All Articles', 'Stacked']))\n",
    "reg_models"
   ]
  },
  {
   "cell_type": "code",
   "execution_count": 67,
   "metadata": {},
   "outputs": [
    {
     "data": {
      "text/html": [
       "<div>\n",
       "<style scoped>\n",
       "    .dataframe tbody tr th:only-of-type {\n",
       "        vertical-align: middle;\n",
       "    }\n",
       "\n",
       "    .dataframe tbody tr th {\n",
       "        vertical-align: top;\n",
       "    }\n",
       "\n",
       "    .dataframe thead th {\n",
       "        text-align: right;\n",
       "    }\n",
       "</style>\n",
       "<table border=\"1\" class=\"dataframe\">\n",
       "  <thead>\n",
       "    <tr style=\"text-align: right;\">\n",
       "      <th></th>\n",
       "      <th>AAPL</th>\n",
       "      <th>FB</th>\n",
       "      <th>NFLX</th>\n",
       "      <th>AMZN</th>\n",
       "      <th>GOOG</th>\n",
       "      <th>^DJI</th>\n",
       "      <th>^GSPC</th>\n",
       "    </tr>\n",
       "  </thead>\n",
       "  <tbody>\n",
       "    <tr>\n",
       "      <th>Bag of Words</th>\n",
       "      <td>0.585657</td>\n",
       "      <td>0.450199</td>\n",
       "      <td>0.529880</td>\n",
       "      <td>0.549801</td>\n",
       "      <td>0.509960</td>\n",
       "      <td>0.537849</td>\n",
       "      <td>0.569721</td>\n",
       "    </tr>\n",
       "    <tr>\n",
       "      <th>PCA All Features</th>\n",
       "      <td>0.537849</td>\n",
       "      <td>0.498008</td>\n",
       "      <td>0.486056</td>\n",
       "      <td>0.529880</td>\n",
       "      <td>0.521912</td>\n",
       "      <td>0.545817</td>\n",
       "      <td>0.557769</td>\n",
       "    </tr>\n",
       "    <tr>\n",
       "      <th>Days Average</th>\n",
       "      <td>0.494024</td>\n",
       "      <td>0.478088</td>\n",
       "      <td>0.470120</td>\n",
       "      <td>0.509960</td>\n",
       "      <td>0.537849</td>\n",
       "      <td>0.545817</td>\n",
       "      <td>0.537849</td>\n",
       "    </tr>\n",
       "    <tr>\n",
       "      <th>Days Average: Bag of Words PCA and Sentiment</th>\n",
       "      <td>0.533865</td>\n",
       "      <td>0.517928</td>\n",
       "      <td>0.498008</td>\n",
       "      <td>0.529880</td>\n",
       "      <td>0.529880</td>\n",
       "      <td>0.545817</td>\n",
       "      <td>0.561753</td>\n",
       "    </tr>\n",
       "    <tr>\n",
       "      <th>All Articles</th>\n",
       "      <td>0.521912</td>\n",
       "      <td>0.533865</td>\n",
       "      <td>0.509960</td>\n",
       "      <td>0.525896</td>\n",
       "      <td>0.521912</td>\n",
       "      <td>0.545817</td>\n",
       "      <td>0.549801</td>\n",
       "    </tr>\n",
       "    <tr>\n",
       "      <th>Stacked</th>\n",
       "      <td>0.509960</td>\n",
       "      <td>0.521912</td>\n",
       "      <td>0.490040</td>\n",
       "      <td>0.525896</td>\n",
       "      <td>0.525896</td>\n",
       "      <td>0.541833</td>\n",
       "      <td>0.553785</td>\n",
       "    </tr>\n",
       "  </tbody>\n",
       "</table>\n",
       "</div>"
      ],
      "text/plain": [
       "                                                  AAPL        FB      NFLX  \\\n",
       "Bag of Words                                  0.585657  0.450199  0.529880   \n",
       "PCA All Features                              0.537849  0.498008  0.486056   \n",
       "Days Average                                  0.494024  0.478088  0.470120   \n",
       "Days Average: Bag of Words PCA and Sentiment  0.533865  0.517928  0.498008   \n",
       "All Articles                                  0.521912  0.533865  0.509960   \n",
       "Stacked                                       0.509960  0.521912  0.490040   \n",
       "\n",
       "                                                  AMZN      GOOG      ^DJI  \\\n",
       "Bag of Words                                  0.549801  0.509960  0.537849   \n",
       "PCA All Features                              0.529880  0.521912  0.545817   \n",
       "Days Average                                  0.509960  0.537849  0.545817   \n",
       "Days Average: Bag of Words PCA and Sentiment  0.529880  0.529880  0.545817   \n",
       "All Articles                                  0.525896  0.521912  0.545817   \n",
       "Stacked                                       0.525896  0.525896  0.541833   \n",
       "\n",
       "                                                 ^GSPC  \n",
       "Bag of Words                                  0.569721  \n",
       "PCA All Features                              0.557769  \n",
       "Days Average                                  0.537849  \n",
       "Days Average: Bag of Words PCA and Sentiment  0.561753  \n",
       "All Articles                                  0.549801  \n",
       "Stacked                                       0.553785  "
      ]
     },
     "execution_count": 67,
     "metadata": {},
     "output_type": "execute_result"
    }
   ],
   "source": [
    "class_models = pd.DataFrame(np.array([\n",
    "    [0.5856573705179283,\n",
    "0.450199203187251,\n",
    "0.5298804780876494,\n",
    "0.549800796812749,\n",
    "0.5099601593625498,\n",
    "0.5378486055776892,\n",
    "0.5697211155378487],\n",
    "    [0.5378486055776892,\n",
    "0.49800796812749004,\n",
    "0.4860557768924303,\n",
    "0.5298804780876494,\n",
    "0.5219123505976095,\n",
    "0.545816733067729,\n",
    "0.5577689243027888],\n",
    "    [0.4940239043824701,\n",
    "0.47808764940239046,\n",
    "0.4701195219123506,\n",
    "0.5099601593625498,\n",
    "0.5378486055776892,\n",
    "0.545816733067729,\n",
    "0.5378486055776892], \n",
    "    [0.5338645418326693,\n",
    "0.5179282868525896,\n",
    "0.49800796812749004,\n",
    "0.5298804780876494,\n",
    "0.5298804780876494,\n",
    "0.545816733067729,\n",
    "0.5617529880478087], \n",
    "    [0.5219123505976095,\n",
    "0.5338645418326693,\n",
    "0.5099601593625498,\n",
    "0.5258964143426295,\n",
    "0.5219123505976095,\n",
    "0.545816733067729,\n",
    "0.549800796812749], \n",
    "    [0.5099601593625498,\n",
    "0.5219123505976095,\n",
    "0.4900398406374502,\n",
    "0.5258964143426295,\n",
    "0.5258964143426295,\n",
    "0.5418326693227091,\n",
    "0.5537848605577689]]), \n",
    "                          columns=['AAPL', 'FB', 'NFLX', 'AMZN', 'GOOG', '^DJI', '^GSPC'])\n",
    "class_models = class_models.set_index(pd.Index(['Bag of Words', 'PCA All Features', 'Days Average', 'Days Average: Bag of Words PCA and Sentiment', 'All Articles', 'Stacked']))\n",
    "class_models"
   ]
  },
  {
   "cell_type": "code",
   "execution_count": 63,
   "metadata": {},
   "outputs": [
    {
     "data": {
      "image/png": "[encoded data removed]",
      "text/plain": [
       "<Figure size 720x432 with 1 Axes>"
      ]
     },
     "metadata": {
      "needs_background": "light"
     },
     "output_type": "display_data"
    }
   ],
   "source": [
    "plt.figure(figsize=(10,6))\n",
    "\n",
    "for i in range(len(reg_models)):\n",
    "    plt.plot(range(len(stocks + indices)), reg_models.iloc[i])\n",
    "    \n",
    "plt.xticks(np.arange(7), reg_models.columns)\n",
    "plt.gca().legend(['Bag of Words', 'Days Average', 'All Articles', 'Stacked'])\n",
    "plt.title(\"Regression Models\")\n",
    "plt.show()"
   ]
  },
  {
   "cell_type": "code",
   "execution_count": 64,
   "metadata": {},
   "outputs": [
    {
     "data": {
      "image/png": "[encoded data removed]",
      "text/plain": [
       "<Figure size 720x432 with 1 Axes>"
      ]
     },
     "metadata": {
      "needs_background": "light"
     },
     "output_type": "display_data"
    }
   ],
   "source": [
    "plt.figure(figsize=(10,6))\n",
    "\n",
    "for i in range(len(class_models)):\n",
    "    plt.plot(range(len(stocks + indices)), class_models.iloc[i])\n",
    "    \n",
    "plt.xticks(np.arange(7), class_models.columns)\n",
    "plt.gca().legend(['Bag of Words', 'PCA All Features', 'Days Average', 'Days Average: Bag of Words PCA and Sentiment', 'All Articles', 'Stacked'])\n",
    "plt.title(\"Classification Models\")\n",
    "plt.show()"
   ]
  },
  {
   "cell_type": "code",
   "execution_count": null,
   "metadata": {},
   "outputs": [],
   "source": []
  },
  {
   "cell_type": "code",
   "execution_count": null,
   "metadata": {},
   "outputs": [],
   "source": []
  }
 ],
 "metadata": {
  "kernelspec": {
   "display_name": "Python 3",
   "language": "python",
   "name": "python3"
  },
  "language_info": {
   "codemirror_mode": {
    "name": "ipython",
    "version": 3
   },
   "file_extension": ".py",
   "mimetype": "text/x-python",
   "name": "python",
   "nbconvert_exporter": "python",
   "pygments_lexer": "ipython3",
   "version": "3.6.9"
  }
 },
 "nbformat": 4,
 "nbformat_minor": 2
}
