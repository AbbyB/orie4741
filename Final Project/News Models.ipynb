{
 "cells": [
  {
   "cell_type": "code",
   "execution_count": 139,
   "metadata": {},
   "outputs": [
    {
     "name": "stdout",
     "output_type": "stream",
     "text": [
      "[nltk_data] Downloading package vader_lexicon to\n",
      "[nltk_data]     /Users/adamskrocki/nltk_data...\n",
      "[nltk_data]   Package vader_lexicon is already up-to-date!\n"
     ]
    }
   ],
   "source": [
    "import pandas as pd\n",
    "import numpy as np\n",
    "import matplotlib.pyplot as plt\n",
    "from textblob import TextBlob\n",
    "from datetime import datetime, timedelta, date\n",
    "from statistics import mean, median\n",
    "from scipy.stats import mode\n",
    "import nltk\n",
    "from sklearn.linear_model import LogisticRegression\n",
    "nltk.download('vader_lexicon')\n",
    "from nltk.sentiment.vader import SentimentIntensityAnalyzer"
   ]
  },
  {
   "cell_type": "markdown",
   "metadata": {},
   "source": [
    "## Stocks Data"
   ]
  },
  {
   "cell_type": "code",
   "execution_count": 41,
   "metadata": {},
   "outputs": [],
   "source": [
    "stocks = ['AAPL', 'FB', 'NFLX', 'AMZN', 'GOOG']\n",
    "indices = ['^DJI', '^GSPC']\n",
    "diffCols = ['Close']\n",
    "\n",
    "# Adds a column to df for the day by day change of col\n",
    "def add_day_change(df, cols):\n",
    "    for col in cols:\n",
    "        try:\n",
    "            df[col + '_Diff'] = pd.to_numeric(df[col]).pct_change()\n",
    "            df[col + \"_Diff_Increase\"] = df[col + '_Diff'] > 0\n",
    "        except:\n",
    "            print(f\"Unable to calculate diff for {col}\")\n",
    "            \n",
    "def add_moving_avg(df, col, n):\n",
    "    try:\n",
    "        df[f\"Moving_Avg_{col}_{n}\"] = df[col].rolling(window=n).mean().shift(1)\n",
    "    except:\n",
    "        print(f\"Unable to calculate moving avg for {col}\")\n",
    "\n",
    "# Market dfs will store all of our dataframes for stock market data\n",
    "market_dfs = {}\n",
    "for symbol in stocks + indices:\n",
    "    market_dfs[symbol] = pd.read_csv(\"../Additional Data/\" + symbol + '.csv')\n",
    "    add_day_change(market_dfs[symbol], diffCols)\n",
    "    market_dfs[symbol].dropna(inplace=True)"
   ]
  },
  {
   "cell_type": "code",
   "execution_count": 42,
   "metadata": {},
   "outputs": [
    {
     "data": {
      "text/html": [
       "<div>\n",
       "<style scoped>\n",
       "    .dataframe tbody tr th:only-of-type {\n",
       "        vertical-align: middle;\n",
       "    }\n",
       "\n",
       "    .dataframe tbody tr th {\n",
       "        vertical-align: top;\n",
       "    }\n",
       "\n",
       "    .dataframe thead th {\n",
       "        text-align: right;\n",
       "    }\n",
       "</style>\n",
       "<table border=\"1\" class=\"dataframe\">\n",
       "  <thead>\n",
       "    <tr style=\"text-align: right;\">\n",
       "      <th></th>\n",
       "      <th>Date</th>\n",
       "      <th>Open</th>\n",
       "      <th>High</th>\n",
       "      <th>Low</th>\n",
       "      <th>Close</th>\n",
       "      <th>Adj Close</th>\n",
       "      <th>Volume</th>\n",
       "      <th>Close_Diff</th>\n",
       "      <th>Close_Diff_Increase</th>\n",
       "    </tr>\n",
       "  </thead>\n",
       "  <tbody>\n",
       "    <tr>\n",
       "      <th>1</th>\n",
       "      <td>2015-01-05</td>\n",
       "      <td>2054.439941</td>\n",
       "      <td>2054.439941</td>\n",
       "      <td>2017.339966</td>\n",
       "      <td>2020.579956</td>\n",
       "      <td>2020.579956</td>\n",
       "      <td>3799120000</td>\n",
       "      <td>-0.018278</td>\n",
       "      <td>False</td>\n",
       "    </tr>\n",
       "    <tr>\n",
       "      <th>2</th>\n",
       "      <td>2015-01-06</td>\n",
       "      <td>2022.150024</td>\n",
       "      <td>2030.250000</td>\n",
       "      <td>1992.439941</td>\n",
       "      <td>2002.609985</td>\n",
       "      <td>2002.609985</td>\n",
       "      <td>4460110000</td>\n",
       "      <td>-0.008893</td>\n",
       "      <td>False</td>\n",
       "    </tr>\n",
       "    <tr>\n",
       "      <th>3</th>\n",
       "      <td>2015-01-07</td>\n",
       "      <td>2005.550049</td>\n",
       "      <td>2029.609985</td>\n",
       "      <td>2005.550049</td>\n",
       "      <td>2025.900024</td>\n",
       "      <td>2025.900024</td>\n",
       "      <td>3805480000</td>\n",
       "      <td>0.011630</td>\n",
       "      <td>True</td>\n",
       "    </tr>\n",
       "    <tr>\n",
       "      <th>4</th>\n",
       "      <td>2015-01-08</td>\n",
       "      <td>2030.609985</td>\n",
       "      <td>2064.080078</td>\n",
       "      <td>2030.609985</td>\n",
       "      <td>2062.139893</td>\n",
       "      <td>2062.139893</td>\n",
       "      <td>3934010000</td>\n",
       "      <td>0.017888</td>\n",
       "      <td>True</td>\n",
       "    </tr>\n",
       "    <tr>\n",
       "      <th>5</th>\n",
       "      <td>2015-01-09</td>\n",
       "      <td>2063.449951</td>\n",
       "      <td>2064.429932</td>\n",
       "      <td>2038.329956</td>\n",
       "      <td>2044.810059</td>\n",
       "      <td>2044.810059</td>\n",
       "      <td>3364140000</td>\n",
       "      <td>-0.008404</td>\n",
       "      <td>False</td>\n",
       "    </tr>\n",
       "  </tbody>\n",
       "</table>\n",
       "</div>"
      ],
      "text/plain": [
       "         Date         Open         High          Low        Close  \\\n",
       "1  2015-01-05  2054.439941  2054.439941  2017.339966  2020.579956   \n",
       "2  2015-01-06  2022.150024  2030.250000  1992.439941  2002.609985   \n",
       "3  2015-01-07  2005.550049  2029.609985  2005.550049  2025.900024   \n",
       "4  2015-01-08  2030.609985  2064.080078  2030.609985  2062.139893   \n",
       "5  2015-01-09  2063.449951  2064.429932  2038.329956  2044.810059   \n",
       "\n",
       "     Adj Close      Volume  Close_Diff  Close_Diff_Increase  \n",
       "1  2020.579956  3799120000   -0.018278                False  \n",
       "2  2002.609985  4460110000   -0.008893                False  \n",
       "3  2025.900024  3805480000    0.011630                 True  \n",
       "4  2062.139893  3934010000    0.017888                 True  \n",
       "5  2044.810059  3364140000   -0.008404                False  "
      ]
     },
     "execution_count": 42,
     "metadata": {},
     "output_type": "execute_result"
    }
   ],
   "source": [
    "market_dfs[\"^GSPC\"].head()"
   ]
  },
  {
   "cell_type": "code",
   "execution_count": 43,
   "metadata": {},
   "outputs": [],
   "source": [
    "# Plots a trend for a symbol in the dfs dictionary for the col specified. Standardized divides all data by the mean\n",
    "def plot_trend(df, col, standardize=False):\n",
    "    # Figsize\n",
    "    plt.figure(figsize=(10,6))\n",
    "    \n",
    "    # Plot stock price\n",
    "    trend = df[col] / np.mean(df[col]) if standardize else df[col]\n",
    "    plt.plot(trend)\n",
    "    date = df.Date\n",
    "        \n",
    "    # Plot config\n",
    "    locs, _ = plt.xticks()\n",
    "    plt.xticks(locs[1:-1], date[0:-1:len(date)//(len(locs)-3)])\n",
    "    plt.title(f'Standardized {col} over Time' if standardize else f'{col} over Time')\n",
    "    plt.xlabel('Date')\n",
    "    plt.ylabel(col)\n",
    "    plt.show()"
   ]
  },
  {
   "cell_type": "code",
   "execution_count": 44,
   "metadata": {},
   "outputs": [
    {
     "data": {
      "image/png": "[encoded data removed]",
      "text/plain": [
       "<Figure size 720x432 with 1 Axes>"
      ]
     },
     "metadata": {},
     "output_type": "display_data"
    }
   ],
   "source": [
    "plot_trend(market_dfs[\"^GSPC\"], 'Close')"
   ]
  },
  {
   "cell_type": "code",
   "execution_count": 45,
   "metadata": {},
   "outputs": [
    {
     "data": {
      "image/png": "[encoded data removed]",
      "text/plain": [
       "<Figure size 720x432 with 1 Axes>"
      ]
     },
     "metadata": {},
     "output_type": "display_data"
    }
   ],
   "source": [
    "plot_trend(market_dfs[\"^GSPC\"], 'Close_Diff')"
   ]
  },
  {
   "cell_type": "markdown",
   "metadata": {},
   "source": [
    "## News Data"
   ]
  },
  {
   "cell_type": "code",
   "execution_count": 63,
   "metadata": {},
   "outputs": [],
   "source": [
    "news = pd.concat([pd.read_csv('../nytimes_2015.csv'), \n",
    "                  pd.read_csv('../nytimes_2016.csv'), \n",
    "                  pd.read_csv('../nytimes_2017.csv'), \n",
    "                  pd.read_csv('../nytimes_2018.csv'), \n",
    "                  pd.read_csv('../nytimes_2019.csv')], ignore_index=True)"
   ]
  },
  {
   "cell_type": "code",
   "execution_count": 64,
   "metadata": {},
   "outputs": [
    {
     "name": "stdout",
     "output_type": "stream",
     "text": [
      "82533\n"
     ]
    },
    {
     "data": {
      "text/html": [
       "<div>\n",
       "<style scoped>\n",
       "    .dataframe tbody tr th:only-of-type {\n",
       "        vertical-align: middle;\n",
       "    }\n",
       "\n",
       "    .dataframe tbody tr th {\n",
       "        vertical-align: top;\n",
       "    }\n",
       "\n",
       "    .dataframe thead th {\n",
       "        text-align: right;\n",
       "    }\n",
       "</style>\n",
       "<table border=\"1\" class=\"dataframe\">\n",
       "  <thead>\n",
       "    <tr style=\"text-align: right;\">\n",
       "      <th></th>\n",
       "      <th>web_url</th>\n",
       "      <th>snippet</th>\n",
       "      <th>lead_paragraph</th>\n",
       "      <th>abstract</th>\n",
       "      <th>print_page</th>\n",
       "      <th>source</th>\n",
       "      <th>headline</th>\n",
       "      <th>headline_kicker</th>\n",
       "      <th>headline_content_kicker</th>\n",
       "      <th>headline_print_headline</th>\n",
       "      <th>...</th>\n",
       "      <th>headline_seo</th>\n",
       "      <th>headline_sub</th>\n",
       "      <th>keywords</th>\n",
       "      <th>pub_date</th>\n",
       "      <th>document_type</th>\n",
       "      <th>news_desk</th>\n",
       "      <th>section_name</th>\n",
       "      <th>byline</th>\n",
       "      <th>type_of_material</th>\n",
       "      <th>word_count</th>\n",
       "    </tr>\n",
       "  </thead>\n",
       "  <tbody>\n",
       "    <tr>\n",
       "      <th>0</th>\n",
       "      <td>https://www.nytimes.com/2015/01/08/world/ameri...</td>\n",
       "      <td>Born through a mix of frustration, satire and ...</td>\n",
       "      <td>MONTERREY, Mexico — Inside a large, open-air b...</td>\n",
       "      <td>Born through a mix of frustration, satire and ...</td>\n",
       "      <td>9.0</td>\n",
       "      <td>The New York Times</td>\n",
       "      <td>A Bus Takes a Local Route to Fighting Mexican ...</td>\n",
       "      <td>Monterrey Journal</td>\n",
       "      <td>NaN</td>\n",
       "      <td>A Bus Takes a Local Route to Fighting Mexican ...</td>\n",
       "      <td>...</td>\n",
       "      <td>NaN</td>\n",
       "      <td>NaN</td>\n",
       "      <td>[{'name': 'persons', 'value': 'Villegas, Pauli...</td>\n",
       "      <td>2015-01-08T00:45:08+0000</td>\n",
       "      <td>article</td>\n",
       "      <td>Foreign</td>\n",
       "      <td>World</td>\n",
       "      <td>{'original': 'By Paulina Villegas', 'person': ...</td>\n",
       "      <td>News</td>\n",
       "      <td>1030</td>\n",
       "    </tr>\n",
       "    <tr>\n",
       "      <th>1</th>\n",
       "      <td>https://www.nytimes.com/2015/01/11/business/mu...</td>\n",
       "      <td>So-called dark trading — when computers serve ...</td>\n",
       "      <td>JUDGING solely by the name, stock trading in s...</td>\n",
       "      <td>So-called dark trading — when computers serve ...</td>\n",
       "      <td>29.0</td>\n",
       "      <td>The New York Times</td>\n",
       "      <td>The Rise of Trading in the Dark</td>\n",
       "      <td>Datapoints</td>\n",
       "      <td>NaN</td>\n",
       "      <td>The Rise of Trading in the Dark</td>\n",
       "      <td>...</td>\n",
       "      <td>NaN</td>\n",
       "      <td>NaN</td>\n",
       "      <td>[{'name': 'subject', 'value': 'Stocks and Bond...</td>\n",
       "      <td>2015-01-09T21:44:42+0000</td>\n",
       "      <td>article</td>\n",
       "      <td>SundayBusiness</td>\n",
       "      <td>Business Day</td>\n",
       "      <td>{'original': 'By Anna Bernasek', 'person': [{'...</td>\n",
       "      <td>News</td>\n",
       "      <td>366</td>\n",
       "    </tr>\n",
       "    <tr>\n",
       "      <th>2</th>\n",
       "      <td>https://www.nytimes.com/2015/01/11/business/fo...</td>\n",
       "      <td>In the fixed-income market, 2014 was frustrati...</td>\n",
       "      <td>BONDS confounded conventional wisdom in 2014 w...</td>\n",
       "      <td>In the fixed-income market, 2014 was frustrati...</td>\n",
       "      <td>16.0</td>\n",
       "      <td>The New York Times</td>\n",
       "      <td>For Bond Investors, That Other Shoe Still Didn...</td>\n",
       "      <td>NaN</td>\n",
       "      <td>NaN</td>\n",
       "      <td>For Bond Investors, the Other Shoe Still Didn’...</td>\n",
       "      <td>...</td>\n",
       "      <td>NaN</td>\n",
       "      <td>NaN</td>\n",
       "      <td>[{'name': 'subject', 'value': 'Stocks and Bond...</td>\n",
       "      <td>2015-01-09T21:46:05+0000</td>\n",
       "      <td>article</td>\n",
       "      <td>NODESK</td>\n",
       "      <td>Business Day</td>\n",
       "      <td>{'original': 'By Carla Fried', 'person': [{'fi...</td>\n",
       "      <td>News</td>\n",
       "      <td>1269</td>\n",
       "    </tr>\n",
       "    <tr>\n",
       "      <th>3</th>\n",
       "      <td>https://www.nytimes.com/2015/01/11/business/pe...</td>\n",
       "      <td>A Canadian investor takes a chance on a pace-s...</td>\n",
       "      <td>The typical origin story for a tech company in...</td>\n",
       "      <td>A Canadian investor takes a chance on a pace-s...</td>\n",
       "      <td>1.0</td>\n",
       "      <td>The New York Times</td>\n",
       "      <td>The Uphill Push to Save a Bike-Share Pioneer</td>\n",
       "      <td>NaN</td>\n",
       "      <td>NaN</td>\n",
       "      <td>The Uphill Push to Save a Bike-Share Pioneer</td>\n",
       "      <td>...</td>\n",
       "      <td>NaN</td>\n",
       "      <td>NaN</td>\n",
       "      <td>[{'name': 'subject', 'value': 'Bicycles and Bi...</td>\n",
       "      <td>2015-01-09T21:03:51+0000</td>\n",
       "      <td>article</td>\n",
       "      <td>SundayBusiness</td>\n",
       "      <td>Business Day</td>\n",
       "      <td>{'original': 'By Ian Austen', 'person': [{'fir...</td>\n",
       "      <td>News</td>\n",
       "      <td>1923</td>\n",
       "    </tr>\n",
       "    <tr>\n",
       "      <th>4</th>\n",
       "      <td>https://www.nytimes.com/2015/01/06/business/in...</td>\n",
       "      <td>The euro's continued plunge, to a nine-year lo...</td>\n",
       "      <td>FRANKFURT — The value of the euro fell to its ...</td>\n",
       "      <td>The euro's continued plunge, to a nine-year lo...</td>\n",
       "      <td>5.0</td>\n",
       "      <td>The New York Times</td>\n",
       "      <td>Falling Euro Fans Fears of a Regional Slowdown</td>\n",
       "      <td>NaN</td>\n",
       "      <td>NaN</td>\n",
       "      <td>Sliding Euro Fans Fears of a Slowdown</td>\n",
       "      <td>...</td>\n",
       "      <td>NaN</td>\n",
       "      <td>NaN</td>\n",
       "      <td>[{'name': 'persons', 'value': 'Ewing, Jack', '...</td>\n",
       "      <td>2015-01-05T21:05:04+0000</td>\n",
       "      <td>article</td>\n",
       "      <td>Business</td>\n",
       "      <td>Business Day</td>\n",
       "      <td>{'original': 'By Jack Ewing', 'person': [{'fir...</td>\n",
       "      <td>News</td>\n",
       "      <td>1157</td>\n",
       "    </tr>\n",
       "  </tbody>\n",
       "</table>\n",
       "<p>5 rows × 21 columns</p>\n",
       "</div>"
      ],
      "text/plain": [
       "                                             web_url  \\\n",
       "0  https://www.nytimes.com/2015/01/08/world/ameri...   \n",
       "1  https://www.nytimes.com/2015/01/11/business/mu...   \n",
       "2  https://www.nytimes.com/2015/01/11/business/fo...   \n",
       "3  https://www.nytimes.com/2015/01/11/business/pe...   \n",
       "4  https://www.nytimes.com/2015/01/06/business/in...   \n",
       "\n",
       "                                             snippet  \\\n",
       "0  Born through a mix of frustration, satire and ...   \n",
       "1  So-called dark trading — when computers serve ...   \n",
       "2  In the fixed-income market, 2014 was frustrati...   \n",
       "3  A Canadian investor takes a chance on a pace-s...   \n",
       "4  The euro's continued plunge, to a nine-year lo...   \n",
       "\n",
       "                                      lead_paragraph  \\\n",
       "0  MONTERREY, Mexico — Inside a large, open-air b...   \n",
       "1  JUDGING solely by the name, stock trading in s...   \n",
       "2  BONDS confounded conventional wisdom in 2014 w...   \n",
       "3  The typical origin story for a tech company in...   \n",
       "4  FRANKFURT — The value of the euro fell to its ...   \n",
       "\n",
       "                                            abstract  print_page  \\\n",
       "0  Born through a mix of frustration, satire and ...         9.0   \n",
       "1  So-called dark trading — when computers serve ...        29.0   \n",
       "2  In the fixed-income market, 2014 was frustrati...        16.0   \n",
       "3  A Canadian investor takes a chance on a pace-s...         1.0   \n",
       "4  The euro's continued plunge, to a nine-year lo...         5.0   \n",
       "\n",
       "               source                                           headline  \\\n",
       "0  The New York Times  A Bus Takes a Local Route to Fighting Mexican ...   \n",
       "1  The New York Times                    The Rise of Trading in the Dark   \n",
       "2  The New York Times  For Bond Investors, That Other Shoe Still Didn...   \n",
       "3  The New York Times       The Uphill Push to Save a Bike-Share Pioneer   \n",
       "4  The New York Times     Falling Euro Fans Fears of a Regional Slowdown   \n",
       "\n",
       "     headline_kicker  headline_content_kicker  \\\n",
       "0  Monterrey Journal                      NaN   \n",
       "1         Datapoints                      NaN   \n",
       "2                NaN                      NaN   \n",
       "3                NaN                      NaN   \n",
       "4                NaN                      NaN   \n",
       "\n",
       "                             headline_print_headline    ...      headline_seo  \\\n",
       "0  A Bus Takes a Local Route to Fighting Mexican ...    ...               NaN   \n",
       "1                    The Rise of Trading in the Dark    ...               NaN   \n",
       "2  For Bond Investors, the Other Shoe Still Didn’...    ...               NaN   \n",
       "3       The Uphill Push to Save a Bike-Share Pioneer    ...               NaN   \n",
       "4              Sliding Euro Fans Fears of a Slowdown    ...               NaN   \n",
       "\n",
       "   headline_sub                                           keywords  \\\n",
       "0           NaN  [{'name': 'persons', 'value': 'Villegas, Pauli...   \n",
       "1           NaN  [{'name': 'subject', 'value': 'Stocks and Bond...   \n",
       "2           NaN  [{'name': 'subject', 'value': 'Stocks and Bond...   \n",
       "3           NaN  [{'name': 'subject', 'value': 'Bicycles and Bi...   \n",
       "4           NaN  [{'name': 'persons', 'value': 'Ewing, Jack', '...   \n",
       "\n",
       "                   pub_date document_type       news_desk  section_name  \\\n",
       "0  2015-01-08T00:45:08+0000       article         Foreign         World   \n",
       "1  2015-01-09T21:44:42+0000       article  SundayBusiness  Business Day   \n",
       "2  2015-01-09T21:46:05+0000       article          NODESK  Business Day   \n",
       "3  2015-01-09T21:03:51+0000       article  SundayBusiness  Business Day   \n",
       "4  2015-01-05T21:05:04+0000       article        Business  Business Day   \n",
       "\n",
       "                                              byline type_of_material  \\\n",
       "0  {'original': 'By Paulina Villegas', 'person': ...             News   \n",
       "1  {'original': 'By Anna Bernasek', 'person': [{'...             News   \n",
       "2  {'original': 'By Carla Fried', 'person': [{'fi...             News   \n",
       "3  {'original': 'By Ian Austen', 'person': [{'fir...             News   \n",
       "4  {'original': 'By Jack Ewing', 'person': [{'fir...             News   \n",
       "\n",
       "  word_count  \n",
       "0       1030  \n",
       "1        366  \n",
       "2       1269  \n",
       "3       1923  \n",
       "4       1157  \n",
       "\n",
       "[5 rows x 21 columns]"
      ]
     },
     "execution_count": 64,
     "metadata": {},
     "output_type": "execute_result"
    }
   ],
   "source": [
    "print(len(news))\n",
    "news.head()"
   ]
  },
  {
   "cell_type": "markdown",
   "metadata": {},
   "source": [
    "### Delete Irrelevant Columns"
   ]
  },
  {
   "cell_type": "code",
   "execution_count": 69,
   "metadata": {},
   "outputs": [],
   "source": [
    "try: \n",
    "    news = news.drop(['web_url', 'byline', 'headline_print_headline', 'document_type'], axis=1)\n",
    "\n",
    "    # these are missing more than abstract and contain similar info\n",
    "    news = news.drop(['snippet', 'lead_paragraph'], axis=1)\n",
    "\n",
    "    # all missing data\n",
    "    news = news.drop(['headline_content_kicker', 'headline_name', 'headline_seo', 'headline_sub'], axis=1)\n",
    "    print(\"Dropped columns\")\n",
    "except: \n",
    "    pass "
   ]
  },
  {
   "cell_type": "markdown",
   "metadata": {},
   "source": [
    "### Transform Columns to be More Useful"
   ]
  },
  {
   "cell_type": "code",
   "execution_count": 70,
   "metadata": {},
   "outputs": [
    {
     "name": "stdout",
     "output_type": "stream",
     "text": [
      "Transformed columns\n"
     ]
    }
   ],
   "source": [
    "try:\n",
    "    # make headline include kicker\n",
    "    news['full_headline'] = news[['headline', 'headline_kicker']].apply(lambda x: x.str.cat(sep=': '), axis=1)\n",
    "\n",
    "    del news['headline_kicker']\n",
    "    del news['headline']\n",
    "\n",
    "    # create whether or not the article was in print\n",
    "    news['is_print'] = news['print_page'].isna()\n",
    "    del news['print_page']\n",
    "    print(\"Transformed columns\")\n",
    "except:\n",
    "    pass"
   ]
  },
  {
   "cell_type": "code",
   "execution_count": 95,
   "metadata": {},
   "outputs": [
    {
     "data": {
      "text/html": [
       "<div>\n",
       "<style scoped>\n",
       "    .dataframe tbody tr th:only-of-type {\n",
       "        vertical-align: middle;\n",
       "    }\n",
       "\n",
       "    .dataframe tbody tr th {\n",
       "        vertical-align: top;\n",
       "    }\n",
       "\n",
       "    .dataframe thead th {\n",
       "        text-align: right;\n",
       "    }\n",
       "</style>\n",
       "<table border=\"1\" class=\"dataframe\">\n",
       "  <thead>\n",
       "    <tr style=\"text-align: right;\">\n",
       "      <th></th>\n",
       "      <th>abstract</th>\n",
       "      <th>source</th>\n",
       "      <th>keywords</th>\n",
       "      <th>pub_date</th>\n",
       "      <th>news_desk</th>\n",
       "      <th>section_name</th>\n",
       "      <th>type_of_material</th>\n",
       "      <th>word_count</th>\n",
       "      <th>full_headline</th>\n",
       "      <th>is_print</th>\n",
       "      <th>full_headline_neg</th>\n",
       "      <th>full_headline_neu</th>\n",
       "      <th>full_headline_compound</th>\n",
       "      <th>full_headline_pos</th>\n",
       "    </tr>\n",
       "  </thead>\n",
       "  <tbody>\n",
       "    <tr>\n",
       "      <th>0</th>\n",
       "      <td>Born through a mix of frustration, satire and ...</td>\n",
       "      <td>The New York Times</td>\n",
       "      <td>[{'name': 'persons', 'value': 'Villegas, Pauli...</td>\n",
       "      <td>2015-01-08T00:45:08+0000</td>\n",
       "      <td>Foreign</td>\n",
       "      <td>World</td>\n",
       "      <td>News</td>\n",
       "      <td>1030</td>\n",
       "      <td>A Bus Takes a Local Route to Fighting Mexican ...</td>\n",
       "      <td>False</td>\n",
       "      <td>0.217</td>\n",
       "      <td>0.783</td>\n",
       "      <td>-0.3612</td>\n",
       "      <td>0.000</td>\n",
       "    </tr>\n",
       "    <tr>\n",
       "      <th>1</th>\n",
       "      <td>So-called dark trading — when computers serve ...</td>\n",
       "      <td>The New York Times</td>\n",
       "      <td>[{'name': 'subject', 'value': 'Stocks and Bond...</td>\n",
       "      <td>2015-01-09T21:44:42+0000</td>\n",
       "      <td>SundayBusiness</td>\n",
       "      <td>Business Day</td>\n",
       "      <td>News</td>\n",
       "      <td>366</td>\n",
       "      <td>The Rise of Trading in the Dark: Datapoints</td>\n",
       "      <td>False</td>\n",
       "      <td>0.000</td>\n",
       "      <td>1.000</td>\n",
       "      <td>0.0000</td>\n",
       "      <td>0.000</td>\n",
       "    </tr>\n",
       "    <tr>\n",
       "      <th>2</th>\n",
       "      <td>In the fixed-income market, 2014 was frustrati...</td>\n",
       "      <td>The New York Times</td>\n",
       "      <td>[{'name': 'subject', 'value': 'Stocks and Bond...</td>\n",
       "      <td>2015-01-09T21:46:05+0000</td>\n",
       "      <td>NODESK</td>\n",
       "      <td>Business Day</td>\n",
       "      <td>News</td>\n",
       "      <td>1269</td>\n",
       "      <td>For Bond Investors, That Other Shoe Still Didn...</td>\n",
       "      <td>False</td>\n",
       "      <td>0.208</td>\n",
       "      <td>0.792</td>\n",
       "      <td>-0.2732</td>\n",
       "      <td>0.000</td>\n",
       "    </tr>\n",
       "    <tr>\n",
       "      <th>3</th>\n",
       "      <td>A Canadian investor takes a chance on a pace-s...</td>\n",
       "      <td>The New York Times</td>\n",
       "      <td>[{'name': 'subject', 'value': 'Bicycles and Bi...</td>\n",
       "      <td>2015-01-09T21:03:51+0000</td>\n",
       "      <td>SundayBusiness</td>\n",
       "      <td>Business Day</td>\n",
       "      <td>News</td>\n",
       "      <td>1923</td>\n",
       "      <td>The Uphill Push to Save a Bike-Share Pioneer</td>\n",
       "      <td>False</td>\n",
       "      <td>0.000</td>\n",
       "      <td>0.652</td>\n",
       "      <td>0.4939</td>\n",
       "      <td>0.348</td>\n",
       "    </tr>\n",
       "    <tr>\n",
       "      <th>4</th>\n",
       "      <td>The euro's continued plunge, to a nine-year lo...</td>\n",
       "      <td>The New York Times</td>\n",
       "      <td>[{'name': 'persons', 'value': 'Ewing, Jack', '...</td>\n",
       "      <td>2015-01-05T21:05:04+0000</td>\n",
       "      <td>Business</td>\n",
       "      <td>Business Day</td>\n",
       "      <td>News</td>\n",
       "      <td>1157</td>\n",
       "      <td>Falling Euro Fans Fears of a Regional Slowdown</td>\n",
       "      <td>False</td>\n",
       "      <td>0.468</td>\n",
       "      <td>0.532</td>\n",
       "      <td>-0.5267</td>\n",
       "      <td>0.000</td>\n",
       "    </tr>\n",
       "  </tbody>\n",
       "</table>\n",
       "</div>"
      ],
      "text/plain": [
       "                                            abstract              source  \\\n",
       "0  Born through a mix of frustration, satire and ...  The New York Times   \n",
       "1  So-called dark trading — when computers serve ...  The New York Times   \n",
       "2  In the fixed-income market, 2014 was frustrati...  The New York Times   \n",
       "3  A Canadian investor takes a chance on a pace-s...  The New York Times   \n",
       "4  The euro's continued plunge, to a nine-year lo...  The New York Times   \n",
       "\n",
       "                                            keywords  \\\n",
       "0  [{'name': 'persons', 'value': 'Villegas, Pauli...   \n",
       "1  [{'name': 'subject', 'value': 'Stocks and Bond...   \n",
       "2  [{'name': 'subject', 'value': 'Stocks and Bond...   \n",
       "3  [{'name': 'subject', 'value': 'Bicycles and Bi...   \n",
       "4  [{'name': 'persons', 'value': 'Ewing, Jack', '...   \n",
       "\n",
       "                   pub_date       news_desk  section_name type_of_material  \\\n",
       "0  2015-01-08T00:45:08+0000         Foreign         World             News   \n",
       "1  2015-01-09T21:44:42+0000  SundayBusiness  Business Day             News   \n",
       "2  2015-01-09T21:46:05+0000          NODESK  Business Day             News   \n",
       "3  2015-01-09T21:03:51+0000  SundayBusiness  Business Day             News   \n",
       "4  2015-01-05T21:05:04+0000        Business  Business Day             News   \n",
       "\n",
       "   word_count                                      full_headline  is_print  \\\n",
       "0        1030  A Bus Takes a Local Route to Fighting Mexican ...     False   \n",
       "1         366        The Rise of Trading in the Dark: Datapoints     False   \n",
       "2        1269  For Bond Investors, That Other Shoe Still Didn...     False   \n",
       "3        1923       The Uphill Push to Save a Bike-Share Pioneer     False   \n",
       "4        1157     Falling Euro Fans Fears of a Regional Slowdown     False   \n",
       "\n",
       "   full_headline_neg  full_headline_neu  full_headline_compound  \\\n",
       "0              0.217              0.783                 -0.3612   \n",
       "1              0.000              1.000                  0.0000   \n",
       "2              0.208              0.792                 -0.2732   \n",
       "3              0.000              0.652                  0.4939   \n",
       "4              0.468              0.532                 -0.5267   \n",
       "\n",
       "   full_headline_pos  \n",
       "0              0.000  \n",
       "1              0.000  \n",
       "2              0.000  \n",
       "3              0.348  \n",
       "4              0.000  "
      ]
     },
     "execution_count": 95,
     "metadata": {},
     "output_type": "execute_result"
    }
   ],
   "source": [
    "news.head()"
   ]
  },
  {
   "cell_type": "markdown",
   "metadata": {},
   "source": [
    "### Change to One-Hot Encoding"
   ]
  },
  {
   "cell_type": "code",
   "execution_count": 53,
   "metadata": {},
   "outputs": [],
   "source": [
    "# from type of material\n",
    "type_dummies = pd.get_dummies(news['type_of_material'].fillna('Other'), prefix='Type')\n",
    "news = pd.concat([news, type_dummies], axis=1, join='inner')\n",
    "news.rename(columns={'Type_briefing': 'Type_Briefing'}, inplace=True)\n",
    "\n",
    "del news['type_of_material']"
   ]
  },
  {
   "cell_type": "code",
   "execution_count": 54,
   "metadata": {},
   "outputs": [],
   "source": [
    "# from source\n",
    "source_dummies = pd.get_dummies(news['source'].fillna('Other'), prefix='Source')\n",
    "news = pd.concat([news, source_dummies], axis=1, join='inner')\n",
    "\n",
    "del news['source']"
   ]
  },
  {
   "cell_type": "code",
   "execution_count": 55,
   "metadata": {},
   "outputs": [],
   "source": [
    "# from news desk\n",
    "news_desk_dummies = pd.get_dummies(news['news_desk'].fillna('Other'), prefix='Desk')\n",
    "news = pd.concat([news, news_desk_dummies], axis=1, join='inner')\n",
    "\n",
    "del news['news_desk']"
   ]
  },
  {
   "cell_type": "code",
   "execution_count": 56,
   "metadata": {},
   "outputs": [],
   "source": [
    "# from section name\n",
    "section_name_dummies = pd.get_dummies(news['section_name'], prefix='Section')\n",
    "news = pd.concat([news, section_name_dummies], axis=1, join='inner')\n",
    "\n",
    "del news['section_name']"
   ]
  },
  {
   "cell_type": "markdown",
   "metadata": {},
   "source": [
    "### Change Keywords to Many-Hot Encoding"
   ]
  },
  {
   "cell_type": "code",
   "execution_count": 57,
   "metadata": {},
   "outputs": [],
   "source": [
    "import ast\n",
    "from collections import Counter\n",
    "\n",
    "counter = Counter()\n",
    "\n",
    "# Get list of all keywords\n",
    "def get_most_common(x):\n",
    "    keywords = set()\n",
    "    for word in ast.literal_eval(x):\n",
    "        keywords.add(word['value'])\n",
    "    counter.update(keywords)\n",
    "    return keywords\n",
    "\n",
    "news['keywords'] = news['keywords'].apply(get_most_common)\n",
    "\n",
    "# Pick top 100\n",
    "most_common = set()\n",
    "for word, counts in counter.most_common(100):\n",
    "    most_common.add(word)\n",
    "\n",
    "# Get the intersection of article's keywords and top 100\n",
    "def get_keywords(x):\n",
    "    keywords = x.intersection(most_common)\n",
    "    return '|'.join(keywords)\n",
    "\n",
    "# Many-hot\n",
    "keywords_dummies = news['keywords'].apply(get_keywords).str.get_dummies()\n",
    "keywords_dummies.rename(columns={x: 'Keyword_' + x for x in keywords_dummies.columns}, inplace=True)\n",
    "news = pd.concat([news, keywords_dummies], axis=1, join='inner')\n",
    "\n",
    "del news['keywords']"
   ]
  },
  {
   "cell_type": "code",
   "execution_count": 59,
   "metadata": {},
   "outputs": [
    {
     "data": {
      "text/html": [
       "<div>\n",
       "<style scoped>\n",
       "    .dataframe tbody tr th:only-of-type {\n",
       "        vertical-align: middle;\n",
       "    }\n",
       "\n",
       "    .dataframe tbody tr th {\n",
       "        vertical-align: top;\n",
       "    }\n",
       "\n",
       "    .dataframe thead th {\n",
       "        text-align: right;\n",
       "    }\n",
       "</style>\n",
       "<table border=\"1\" class=\"dataframe\">\n",
       "  <thead>\n",
       "    <tr style=\"text-align: right;\">\n",
       "      <th></th>\n",
       "      <th>abstract</th>\n",
       "      <th>pub_date</th>\n",
       "      <th>word_count</th>\n",
       "      <th>full_headline</th>\n",
       "      <th>is_print</th>\n",
       "      <th>Type_An Analysis</th>\n",
       "      <th>Type_An Appraisal</th>\n",
       "      <th>Type_Audio Podcast</th>\n",
       "      <th>Type_Biography</th>\n",
       "      <th>Type_Brief</th>\n",
       "      <th>...</th>\n",
       "      <th>Keyword_Trump, Donald J</th>\n",
       "      <th>Keyword_Turkey</th>\n",
       "      <th>Keyword_United Nations</th>\n",
       "      <th>Keyword_United States</th>\n",
       "      <th>Keyword_United States Defense and Military Forces</th>\n",
       "      <th>Keyword_United States Economy</th>\n",
       "      <th>Keyword_United States International Relations</th>\n",
       "      <th>Keyword_United States Politics and Government</th>\n",
       "      <th>Keyword_Women and Girls</th>\n",
       "      <th>Keyword_Xi Jinping</th>\n",
       "    </tr>\n",
       "  </thead>\n",
       "  <tbody>\n",
       "    <tr>\n",
       "      <th>0</th>\n",
       "      <td>Born through a mix of frustration, satire and ...</td>\n",
       "      <td>2015-01-08T00:45:08+0000</td>\n",
       "      <td>1030</td>\n",
       "      <td>A Bus Takes a Local Route to Fighting Mexican ...</td>\n",
       "      <td>False</td>\n",
       "      <td>0</td>\n",
       "      <td>0</td>\n",
       "      <td>0</td>\n",
       "      <td>0</td>\n",
       "      <td>0</td>\n",
       "      <td>...</td>\n",
       "      <td>0</td>\n",
       "      <td>0</td>\n",
       "      <td>0</td>\n",
       "      <td>0</td>\n",
       "      <td>0</td>\n",
       "      <td>0</td>\n",
       "      <td>0</td>\n",
       "      <td>0</td>\n",
       "      <td>0</td>\n",
       "      <td>0</td>\n",
       "    </tr>\n",
       "    <tr>\n",
       "      <th>1</th>\n",
       "      <td>So-called dark trading — when computers serve ...</td>\n",
       "      <td>2015-01-09T21:44:42+0000</td>\n",
       "      <td>366</td>\n",
       "      <td>The Rise of Trading in the Dark: Datapoints</td>\n",
       "      <td>False</td>\n",
       "      <td>0</td>\n",
       "      <td>0</td>\n",
       "      <td>0</td>\n",
       "      <td>0</td>\n",
       "      <td>0</td>\n",
       "      <td>...</td>\n",
       "      <td>0</td>\n",
       "      <td>0</td>\n",
       "      <td>0</td>\n",
       "      <td>0</td>\n",
       "      <td>0</td>\n",
       "      <td>1</td>\n",
       "      <td>0</td>\n",
       "      <td>0</td>\n",
       "      <td>0</td>\n",
       "      <td>0</td>\n",
       "    </tr>\n",
       "    <tr>\n",
       "      <th>2</th>\n",
       "      <td>In the fixed-income market, 2014 was frustrati...</td>\n",
       "      <td>2015-01-09T21:46:05+0000</td>\n",
       "      <td>1269</td>\n",
       "      <td>For Bond Investors, That Other Shoe Still Didn...</td>\n",
       "      <td>False</td>\n",
       "      <td>0</td>\n",
       "      <td>0</td>\n",
       "      <td>0</td>\n",
       "      <td>0</td>\n",
       "      <td>0</td>\n",
       "      <td>...</td>\n",
       "      <td>0</td>\n",
       "      <td>0</td>\n",
       "      <td>0</td>\n",
       "      <td>0</td>\n",
       "      <td>0</td>\n",
       "      <td>0</td>\n",
       "      <td>0</td>\n",
       "      <td>0</td>\n",
       "      <td>0</td>\n",
       "      <td>0</td>\n",
       "    </tr>\n",
       "    <tr>\n",
       "      <th>3</th>\n",
       "      <td>A Canadian investor takes a chance on a pace-s...</td>\n",
       "      <td>2015-01-09T21:03:51+0000</td>\n",
       "      <td>1923</td>\n",
       "      <td>The Uphill Push to Save a Bike-Share Pioneer</td>\n",
       "      <td>False</td>\n",
       "      <td>0</td>\n",
       "      <td>0</td>\n",
       "      <td>0</td>\n",
       "      <td>0</td>\n",
       "      <td>0</td>\n",
       "      <td>...</td>\n",
       "      <td>0</td>\n",
       "      <td>0</td>\n",
       "      <td>0</td>\n",
       "      <td>0</td>\n",
       "      <td>0</td>\n",
       "      <td>0</td>\n",
       "      <td>0</td>\n",
       "      <td>0</td>\n",
       "      <td>0</td>\n",
       "      <td>0</td>\n",
       "    </tr>\n",
       "    <tr>\n",
       "      <th>4</th>\n",
       "      <td>The euro's continued plunge, to a nine-year lo...</td>\n",
       "      <td>2015-01-05T21:05:04+0000</td>\n",
       "      <td>1157</td>\n",
       "      <td>Falling Euro Fans Fears of a Regional Slowdown</td>\n",
       "      <td>False</td>\n",
       "      <td>0</td>\n",
       "      <td>0</td>\n",
       "      <td>0</td>\n",
       "      <td>0</td>\n",
       "      <td>0</td>\n",
       "      <td>...</td>\n",
       "      <td>0</td>\n",
       "      <td>0</td>\n",
       "      <td>0</td>\n",
       "      <td>0</td>\n",
       "      <td>0</td>\n",
       "      <td>0</td>\n",
       "      <td>0</td>\n",
       "      <td>0</td>\n",
       "      <td>0</td>\n",
       "      <td>0</td>\n",
       "    </tr>\n",
       "  </tbody>\n",
       "</table>\n",
       "<p>5 rows × 190 columns</p>\n",
       "</div>"
      ],
      "text/plain": [
       "                                            abstract  \\\n",
       "0  Born through a mix of frustration, satire and ...   \n",
       "1  So-called dark trading — when computers serve ...   \n",
       "2  In the fixed-income market, 2014 was frustrati...   \n",
       "3  A Canadian investor takes a chance on a pace-s...   \n",
       "4  The euro's continued plunge, to a nine-year lo...   \n",
       "\n",
       "                   pub_date  word_count  \\\n",
       "0  2015-01-08T00:45:08+0000        1030   \n",
       "1  2015-01-09T21:44:42+0000         366   \n",
       "2  2015-01-09T21:46:05+0000        1269   \n",
       "3  2015-01-09T21:03:51+0000        1923   \n",
       "4  2015-01-05T21:05:04+0000        1157   \n",
       "\n",
       "                                       full_headline  is_print  \\\n",
       "0  A Bus Takes a Local Route to Fighting Mexican ...     False   \n",
       "1        The Rise of Trading in the Dark: Datapoints     False   \n",
       "2  For Bond Investors, That Other Shoe Still Didn...     False   \n",
       "3       The Uphill Push to Save a Bike-Share Pioneer     False   \n",
       "4     Falling Euro Fans Fears of a Regional Slowdown     False   \n",
       "\n",
       "   Type_An Analysis  Type_An Appraisal  Type_Audio Podcast  Type_Biography  \\\n",
       "0                 0                  0                   0               0   \n",
       "1                 0                  0                   0               0   \n",
       "2                 0                  0                   0               0   \n",
       "3                 0                  0                   0               0   \n",
       "4                 0                  0                   0               0   \n",
       "\n",
       "   Type_Brief         ...          Keyword_Trump, Donald J  Keyword_Turkey  \\\n",
       "0           0         ...                                0               0   \n",
       "1           0         ...                                0               0   \n",
       "2           0         ...                                0               0   \n",
       "3           0         ...                                0               0   \n",
       "4           0         ...                                0               0   \n",
       "\n",
       "   Keyword_United Nations  Keyword_United States  \\\n",
       "0                       0                      0   \n",
       "1                       0                      0   \n",
       "2                       0                      0   \n",
       "3                       0                      0   \n",
       "4                       0                      0   \n",
       "\n",
       "   Keyword_United States Defense and Military Forces  \\\n",
       "0                                                  0   \n",
       "1                                                  0   \n",
       "2                                                  0   \n",
       "3                                                  0   \n",
       "4                                                  0   \n",
       "\n",
       "   Keyword_United States Economy  \\\n",
       "0                              0   \n",
       "1                              1   \n",
       "2                              0   \n",
       "3                              0   \n",
       "4                              0   \n",
       "\n",
       "   Keyword_United States International Relations  \\\n",
       "0                                              0   \n",
       "1                                              0   \n",
       "2                                              0   \n",
       "3                                              0   \n",
       "4                                              0   \n",
       "\n",
       "   Keyword_United States Politics and Government  Keyword_Women and Girls  \\\n",
       "0                                              0                        0   \n",
       "1                                              0                        0   \n",
       "2                                              0                        0   \n",
       "3                                              0                        0   \n",
       "4                                              0                        0   \n",
       "\n",
       "   Keyword_Xi Jinping  \n",
       "0                   0  \n",
       "1                   0  \n",
       "2                   0  \n",
       "3                   0  \n",
       "4                   0  \n",
       "\n",
       "[5 rows x 190 columns]"
      ]
     },
     "execution_count": 59,
     "metadata": {},
     "output_type": "execute_result"
    }
   ],
   "source": [
    "news.head()"
   ]
  },
  {
   "cell_type": "markdown",
   "metadata": {},
   "source": [
    "### Time & Date"
   ]
  },
  {
   "cell_type": "code",
   "execution_count": 119,
   "metadata": {},
   "outputs": [],
   "source": [
    "# def time_of_day(hour):\n",
    "#     if hour >= 6 and hour < 12:\n",
    "#         return 0\n",
    "#     if hour >= 12 and hour < 17:\n",
    "#         return 1\n",
    "#     if hour >= 17 and hour < 22:\n",
    "#         return 2\n",
    "#     return 3\n",
    "\n",
    "# news['time'] = news['pub_date'].apply(lambda x: time_of_day(datetime.fromisoformat(x[:-5]).time().hour))\n",
    "# news['date'] = news['pub_date'].apply(lambda x: str(date.fromisoformat(x.strip()[:10]) + timedelta(days=1)))\n",
    "\n",
    "if 'pub_date' in news.columns:\n",
    "    news['date'] = news['pub_date'].apply(lambda x: str(x[:10]))\n",
    "    del news['pub_date']"
   ]
  },
  {
   "cell_type": "markdown",
   "metadata": {},
   "source": [
    "### Sentiment Analysis"
   ]
  },
  {
   "cell_type": "code",
   "execution_count": 96,
   "metadata": {},
   "outputs": [],
   "source": [
    "# Adds sentiment by TextBlob (polarity and subjectivity) to a df based on its col column\n",
    "def add_textblob_sentiment(df, col):\n",
    "    def polarity_and_subjectivity(x):\n",
    "        sentiment = TextBlob(str(x)).sentiment\n",
    "        return sentiment.polarity, sentiment.subjectivity\n",
    "    df[f'{col}_polarity'], df[f'{col}_subjectivity'] = zip(*df[col].map(polarity_and_subjectivity))\n",
    "    \n",
    "def add_nltk_sentiment(df, col):\n",
    "    sid = SentimentIntensityAnalyzer()\n",
    "    def polarity_and_subjectivity(x):\n",
    "        sentiment = sid.polarity_scores(str(x))\n",
    "        return list(sentiment.values())\n",
    "    df[f'{col}_neg'], df[f'{col}_neu'], df[f'{col}_pos'], df[f'{col}_compound'] = zip(*df[col].map(polarity_and_subjectivity))"
   ]
  },
  {
   "cell_type": "code",
   "execution_count": 120,
   "metadata": {},
   "outputs": [],
   "source": [
    "if 'abstract' in news.columns and 'full_headline' in news.columns: \n",
    "    add_textblob_sentiment(news, 'abstract')\n",
    "    add_textblob_sentiment(news, 'full_headline')\n",
    "    add_nltk_sentiment(news, 'abstract')\n",
    "    add_nltk_sentiment(news, 'full_headline')\n",
    "    news = news.drop(['abstract', 'full_headline'], axis=1)"
   ]
  },
  {
   "cell_type": "code",
   "execution_count": 121,
   "metadata": {
    "scrolled": true
   },
   "outputs": [
    {
     "data": {
      "text/plain": [
       "20"
      ]
     },
     "execution_count": 121,
     "metadata": {},
     "output_type": "execute_result"
    }
   ],
   "source": [
    "len(news.columns)"
   ]
  },
  {
   "cell_type": "code",
   "execution_count": 127,
   "metadata": {},
   "outputs": [
    {
     "name": "stderr",
     "output_type": "stream",
     "text": [
      "/Users/Abby/anaconda3/envs/py37/lib/python3.7/site-packages/ipykernel_launcher.py:5: SettingWithCopyWarning: \n",
      "A value is trying to be set on a copy of a slice from a DataFrame.\n",
      "Try using .loc[row_indexer,col_indexer] = value instead\n",
      "\n",
      "See the caveats in the documentation: http://pandas.pydata.org/pandas-docs/stable/user_guide/indexing.html#returning-a-view-versus-a-copy\n",
      "  \"\"\"\n",
      "/Users/Abby/anaconda3/envs/py37/lib/python3.7/site-packages/ipykernel_launcher.py:6: SettingWithCopyWarning: \n",
      "A value is trying to be set on a copy of a slice from a DataFrame.\n",
      "Try using .loc[row_indexer,col_indexer] = value instead\n",
      "\n",
      "See the caveats in the documentation: http://pandas.pydata.org/pandas-docs/stable/user_guide/indexing.html#returning-a-view-versus-a-copy\n",
      "  \n"
     ]
    }
   ],
   "source": [
    "n = 5\n",
    "sp500_history = sp500[n:]\n",
    "sp500_history.reset_index(drop=True, inplace=True)\n",
    "for x in range(1, n+1):\n",
    "    sp500_history[f'T-{x} Close_Diff'] = sp500['Close_Diff'][n-x:-x].values\n",
    "    sp500_history[f'T-{x} Close_Diff_Increase'] = sp500['Close_Diff_Increase'][n-x:-x].values"
   ]
  },
  {
   "cell_type": "code",
   "execution_count": 130,
   "metadata": {},
   "outputs": [
    {
     "data": {
      "text/plain": [
       "Index(['Date', 'Open', 'High', 'Low', 'Close', 'Adj Close', 'Volume',\n",
       "       'Close_Diff', 'Close_Diff_Increase', 'T-1 Close_Diff',\n",
       "       'T-1 Close_Diff_Increase', 'T-2 Close_Diff', 'T-2 Close_Diff_Increase',\n",
       "       'T-3 Close_Diff', 'T-3 Close_Diff_Increase', 'T-4 Close_Diff',\n",
       "       'T-4 Close_Diff_Increase', 'T-5 Close_Diff', 'T-5 Close_Diff_Increase'],\n",
       "      dtype='object')"
      ]
     },
     "execution_count": 130,
     "metadata": {},
     "output_type": "execute_result"
    }
   ],
   "source": [
    "sp500_history.columns"
   ]
  },
  {
   "cell_type": "code",
   "execution_count": 129,
   "metadata": {},
   "outputs": [],
   "source": [
    "df = news.merge(sp500_history, left_on='date', right_on='Date')\n",
    "df = df.drop(['Date', 'Open', 'High', 'Low', 'Close', 'Adj Close', 'Volume'], axis=1)"
   ]
  },
  {
   "cell_type": "code",
   "execution_count": 127,
   "metadata": {},
   "outputs": [],
   "source": [
    "news_average = news.groupby('date').mean().reset_index()"
   ]
  },
  {
   "cell_type": "code",
   "execution_count": 137,
   "metadata": {},
   "outputs": [],
   "source": [
    "full_dfs = {}\n",
    "for symbol in stocks + indices:  \n",
    "    full_dfs[symbol] = news_average.merge(market_dfs[symbol], left_on='date', right_on='Date')"
   ]
  },
  {
   "cell_type": "markdown",
   "metadata": {},
   "source": [
    "## Models: Average All Articles"
   ]
  },
  {
   "cell_type": "code",
   "execution_count": 177,
   "metadata": {},
   "outputs": [],
   "source": [
    "news_average = news.groupby('date').mean().reset_index()\n",
    "df_average = news_average.merge(sp500_history, left_on='date', right_on='Date')\n",
    "df_average = df_average.drop(['Date', 'Open', 'High', 'Low', 'Close', 'Adj Close', 'Volume'], axis=1)\n",
    "\n",
    "train = df[df['date'].apply(lambda x: date.fromisoformat(x) < date.fromisoformat('2019-01-01'))]\n",
    "test = df[df['date'].apply(lambda x: date.fromisoformat(x) >= date.fromisoformat('2019-01-01'))]\n",
    "\n",
    "X_train = train.drop(['date', 'Close_Diff', 'Close_Diff_Increase'], axis=1)\n",
    "Y_train = train[['Close_Diff', 'Close_Diff_Increase']]\n",
    "\n",
    "X_test = test.drop(['date', 'Close_Diff', 'Close_Diff_Increase'], axis=1)\n",
    "Y_test = test[['Close_Diff', 'Close_Diff_Increase']]"
   ]
  },
  {
   "cell_type": "code",
   "execution_count": 179,
   "metadata": {},
   "outputs": [
    {
     "data": {
      "text/plain": [
       "457.95571483555767"
      ]
     },
     "execution_count": 179,
     "metadata": {},
     "output_type": "execute_result"
    }
   ],
   "source": [
    "from sklearn.linear_model import LinearRegression\n",
    "from sklearn.metrics import mean_squared_error\n",
    "\n",
    "regressor = LinearRegression()\n",
    "regressor.fit(X_train, Y_train['Close_Diff'])\n",
    "\n",
    "mean_squared_error(Y_test['Close_Diff'], regressor.predict(X_test))"
   ]
  },
  {
   "cell_type": "code",
   "execution_count": 180,
   "metadata": {},
   "outputs": [
    {
     "data": {
      "text/plain": [
       "0.539864063005718"
      ]
     },
     "execution_count": 180,
     "metadata": {},
     "output_type": "execute_result"
    }
   ],
   "source": [
    "from sklearn.linear_model import LogisticRegression\n",
    "\n",
    "classifier = LogisticRegression(max_iter=10000)\n",
    "classifier.fit(X_train, Y_train['Close_Diff_Increase'])\n",
    "\n",
    "classifier.score(X_test, Y_test['Close_Diff_Increase'])"
   ]
  },
  {
   "cell_type": "code",
   "execution_count": null,
   "metadata": {},
   "outputs": [],
   "source": []
  },
  {
   "cell_type": "markdown",
   "metadata": {},
   "source": [
    "## Models: Basic Classifiers and Regressors"
   ]
  },
  {
   "cell_type": "code",
   "execution_count": 132,
   "metadata": {},
   "outputs": [],
   "source": [
    "def average(results):\n",
    "    return sum(results) / len(results)\n",
    "\n",
    "def weighted_average(results, weights):\n",
    "    return results.dot(abs(weights)) / sum(abs(weights))\n",
    "\n",
    "def tt_split(X, y, test_size=0.2):\n",
    "    assert len(X) == len(y)\n",
    "    \n",
    "    n_test = int(len(X)*test_size)\n",
    "    \n",
    "    X_train = X.loc[:len(X)-n_test]\n",
    "    y_train = y.loc[:len(X)-n_test]\n",
    "    X_test = X.loc[len(X)-n_test:]\n",
    "    y_test = y.loc[len(X)-n_test:]\n",
    "    return X_train, X_test, y_train, y_test"
   ]
  },
  {
   "cell_type": "code",
   "execution_count": 147,
   "metadata": {},
   "outputs": [],
   "source": [
    "def makeDfForTimeReg(df, cols, n_prev_days=5):\n",
    "    new_df = pd.DataFrame(df[cols])\n",
    "    for col in cols:\n",
    "        for i in range(n_prev_days):\n",
    "            new_df[col + \"_\" + str(i+1)] = new_df[col].shift(i+1)\n",
    "    return new_df.dropna(axis=0)"
   ]
  },
  {
   "cell_type": "code",
   "execution_count": 149,
   "metadata": {},
   "outputs": [
    {
     "name": "stdout",
     "output_type": "stream",
     "text": [
      "AAPL\n",
      "Last 1 days acc: 0.5409836065573771\n",
      "Last 1 days weighted acc: 0.5364242101972471\n",
      "FB\n",
      "Last 1 days acc: 0.5245901639344263\n",
      "Last 1 days weighted acc: 0.5473697080463348\n",
      "NFLX\n",
      "Last 1 days acc: 0.48770491803278687\n",
      "Last 1 days weighted acc: 0.452539235526017\n",
      "AMZN\n",
      "Last 1 days acc: 0.5327868852459017\n",
      "Last 1 days weighted acc: 0.5123732178011697\n",
      "GOOG\n",
      "Last 1 days acc: 0.5081967213114754\n",
      "Last 1 days weighted acc: 0.45644106559015585\n",
      "^DJI\n",
      "Last 1 days acc: 0.5409836065573771\n",
      "Last 1 days weighted acc: 0.515414330973502\n",
      "^GSPC\n",
      "Last 1 days acc: 0.5573770491803278\n",
      "Last 1 days weighted acc: 0.529635151927323\n"
     ]
    }
   ],
   "source": [
    "n_prev_days = 1\n",
    "relevant_cols = ['Close_Diff', 'full_headline_neg', 'full_headline_neu', 'full_headline_pos', 'full_headline_compound', 'abstract_neg', 'abstract_neu', 'abstract_compound', 'abstract_pos']\n",
    "\n",
    "for symbol in stocks + indices:\n",
    "    print(symbol)\n",
    "    \n",
    "    df = makeDfForTimeReg(full_dfs[symbol], relevant_cols, n_prev_days=n_prev_days)\n",
    "    df[\"Close_Diff_Increase\"] = full_dfs[symbol][\"Close_Diff_Increase\"]\n",
    "    \n",
    "    X_cols = []\n",
    "    for col in relevant_cols:\n",
    "        X_cols += [col + \"_\" + str(i+1) for i in range(n_prev_days)]\n",
    "    \n",
    "    y_cols = [\"Close_Diff_Increase\", \"Close_Diff\"]\n",
    "    X_train, X_test, y_train, y_test = tt_split(df[X_cols], df[y_cols], test_size=0.2)\n",
    "\n",
    "    classifier = LogisticRegression()\n",
    "    classifier.fit(X_train, y_train[\"Close_Diff_Increase\"])\n",
    "    \n",
    "    preds = classifier.predict(X_test)\n",
    "    \n",
    "    acc = average(preds == y_test['Close_Diff_Increase'])\n",
    "    weighted_acc = weighted_average(preds == y_test['Close_Diff_Increase'], y_test['Close_Diff'])\n",
    "    print(f'Last {n_prev_days} days acc: {acc}')\n",
    "    print(f'Last {n_prev_days} days weighted acc: {weighted_acc}')"
   ]
  },
  {
   "cell_type": "code",
   "execution_count": 155,
   "metadata": {},
   "outputs": [],
   "source": [
    "train = df[df['date'].apply(lambda x: date.fromisoformat(x) < date.fromisoformat('2019-01-01'))]\n",
    "test = df[df['date'].apply(lambda x: date.fromisoformat(x) >= date.fromisoformat('2019-01-01'))]\n",
    "\n",
    "X_train = train.drop(['date', 'Close_Diff', 'Close_Diff_Increase'], axis=1)\n",
    "Y_train = train[['Close_Diff', 'Close_Diff_Increase']]\n",
    "\n",
    "X_test = test.drop(['Close_Diff', 'Close_Diff_Increase'], axis=1)\n",
    "Y_test = test[['date', 'Close_Diff', 'Close_Diff_Increase']]"
   ]
  },
  {
   "cell_type": "code",
   "execution_count": 135,
   "metadata": {},
   "outputs": [
    {
     "name": "stdout",
     "output_type": "stream",
     "text": [
      "Average: 0.5260663507109005\n",
      "Weighted Average: 0.5450282753739122\n"
     ]
    }
   ],
   "source": [
    "from sklearn.linear_model import LinearRegression\n",
    "\n",
    "regressor = LinearRegression()\n",
    "regressor.fit(X_train, Y_train['Close_Diff'])\n",
    "\n",
    "predictions = X_test.groupby('date').apply(regressor.predict).apply(lambda x: median(x) > 0)\n",
    "results = predictions.values == Y_test.groupby('date').first()['Close_Diff_Increase'].values\n",
    "print(f'Average: {average(results)}')\n",
    "print('Weighted Average: {}'.format(weighted_average(results, abs(Y_test.groupby('date').first()['Close_Diff']))))"
   ]
  },
  {
   "cell_type": "code",
   "execution_count": 137,
   "metadata": {
    "scrolled": true
   },
   "outputs": [
    {
     "data": {
      "text/plain": [
       "564.1751516756917"
      ]
     },
     "execution_count": 137,
     "metadata": {},
     "output_type": "execute_result"
    }
   ],
   "source": [
    "from sklearn.linear_model import LinearRegression\n",
    "from sklearn.metrics import mean_squared_error\n",
    "\n",
    "regressor = LinearRegression()\n",
    "regressor.fit(X_train, Y_train['Close_Diff'])\n",
    "\n",
    "predictions = X_test.groupby('date').apply(regressor.predict).apply(median)\n",
    "mean_squared_error(Y_test.groupby('date').first()['Close_Diff'], predictions)"
   ]
  },
  {
   "cell_type": "code",
   "execution_count": 165,
   "metadata": {},
   "outputs": [
    {
     "name": "stdout",
     "output_type": "stream",
     "text": [
      "Average: 0.5023696682464455\n",
      "Weighted Average: 0.4711751124813932\n"
     ]
    }
   ],
   "source": [
    "from sklearn.linear_model import LogisticRegression\n",
    "\n",
    "classifier = LogisticRegression(max_iter=10000)\n",
    "classifier.fit(X_train, Y_train['Close_Diff_Increase'])\n",
    "\n",
    "predictions = X_test.groupby('date').apply(classifier.predict).apply(lambda x: mode(x)[0])\n",
    "results = predictions.values == Y_test.groupby('date').first()['Close_Diff_Increase'].values\n",
    "print(f'Average: {average(results)}')\n",
    "print('Weighted Average: {}'.format(weighted_average(results, abs(Y_test.groupby('date').first()['Close_Diff']))))"
   ]
  },
  {
   "cell_type": "code",
   "execution_count": null,
   "metadata": {},
   "outputs": [],
   "source": []
  },
  {
   "cell_type": "markdown",
   "metadata": {},
   "source": [
    "## Models: Stacking"
   ]
  },
  {
   "cell_type": "code",
   "execution_count": 138,
   "metadata": {},
   "outputs": [],
   "source": [
    "train = df[df['date'].apply(lambda x: date.fromisoformat(x) < date.fromisoformat('2019-01-01'))]\n",
    "test = df[df['date'].apply(lambda x: date.fromisoformat(x) >= date.fromisoformat('2019-01-01'))]\n",
    "\n",
    "X_train = train.drop(['date', 'Close_Diff', 'Close_Diff_Increase'], axis=1)\n",
    "Y_train = train[['Close_Diff', 'Close_Diff_Increase']]\n",
    "\n",
    "X_test = test.drop(['Close_Diff', 'Close_Diff_Increase'], axis=1)\n",
    "Y_test = test[['date', 'Close_Diff', 'Close_Diff_Increase']]"
   ]
  },
  {
   "cell_type": "code",
   "execution_count": 143,
   "metadata": {},
   "outputs": [
    {
     "data": {
      "text/plain": [
       "564.5325580121058"
      ]
     },
     "execution_count": 143,
     "metadata": {},
     "output_type": "execute_result"
    }
   ],
   "source": [
    "from sklearn.linear_model import LinearRegression\n",
    "from sklearn.linear_model import LogisticRegression\n",
    "from sklearn.metrics import mean_squared_error\n",
    "\n",
    "# fit classifier model to predict increase/ decrease\n",
    "classifier1 = LogisticRegression(max_iter=10000)\n",
    "classifier1.fit(X_train, Y_train['Close_Diff_Increase'])\n",
    "\n",
    "# fit classifier model to predict which are best\n",
    "classifier2 = LogisticRegression(max_iter=10000)\n",
    "c1_accuracy = classifier1.predict(X_train) == Y_train['Close_Diff_Increase']\n",
    "classifier2.fit(X_train, c1_accuracy)\n",
    "\n",
    "# fit regression model to predict difference\n",
    "regressor = LinearRegression()\n",
    "x_with_importance = X_train\n",
    "x_with_importance['importance'] = classifier2.predict(X_train)\n",
    "regressor.fit(x_with_importance[x_with_importance.columns], Y_train['Close_Diff'])\n",
    "\n",
    "X_test['importance'] = classifier2.predict(X_test.drop(['date'], axis=1))\n",
    "predictions = X_test.groupby('date').apply(regressor.predict).apply(lambda x: median(x))\n",
    "mean_squared_error(Y_test.groupby('date').first()['Close_Diff'], predictions)"
   ]
  },
  {
   "cell_type": "code",
   "execution_count": 144,
   "metadata": {},
   "outputs": [
    {
     "name": "stdout",
     "output_type": "stream",
     "text": [
      "Average: 0.5308056872037915\n",
      "Weighted Average: 0.537163855865799\n"
     ]
    }
   ],
   "source": [
    "predictions = X_test.groupby('date').apply(regressor.predict).apply(lambda x: median(x) > 0)\n",
    "results = predictions.values == Y_test.groupby('date').first()['Close_Diff_Increase'].values\n",
    "print(f'Average: {average(results)}')\n",
    "print('Weighted Average: {}'.format(weighted_average(results, abs(Y_test.groupby('date').first()['Close_Diff']))))"
   ]
  },
  {
   "cell_type": "code",
   "execution_count": null,
   "metadata": {},
   "outputs": [],
   "source": []
  },
  {
   "cell_type": "code",
   "execution_count": null,
   "metadata": {},
   "outputs": [],
   "source": []
  },
  {
   "cell_type": "code",
   "execution_count": 146,
   "metadata": {},
   "outputs": [],
   "source": [
    "train = df[df['date'].apply(lambda x: date.fromisoformat(x) < date.fromisoformat('2019-01-01'))]\n",
    "test = df[df['date'].apply(lambda x: date.fromisoformat(x) >= date.fromisoformat('2019-01-01'))]\n",
    "\n",
    "X_train = train.drop(['date', 'Close_Diff', 'Close_Diff_Increase'], axis=1)\n",
    "Y_train = train[['Close_Diff', 'Close_Diff_Increase']]\n",
    "\n",
    "X_test = test.drop(['Close_Diff', 'Close_Diff_Increase'], axis=1)\n",
    "Y_test = test[['date', 'Close_Diff', 'Close_Diff_Increase']]"
   ]
  },
  {
   "cell_type": "code",
   "execution_count": 147,
   "metadata": {},
   "outputs": [
    {
     "data": {
      "text/plain": [
       "564.0825744110602"
      ]
     },
     "execution_count": 147,
     "metadata": {},
     "output_type": "execute_result"
    }
   ],
   "source": [
    "from sklearn.linear_model import LinearRegression\n",
    "from sklearn.linear_model import LogisticRegression\n",
    "from sklearn.metrics import mean_squared_error\n",
    "\n",
    "# fit classifier model to predict increase/ decrease\n",
    "classifier1 = LogisticRegression(max_iter=10000)\n",
    "classifier1.fit(X_train, Y_train['Close_Diff_Increase'])\n",
    "\n",
    "# fit classifier model to predict which are best\n",
    "classifier2 = LogisticRegression(max_iter=10000)\n",
    "c1_accuracy = classifier1.predict(X_train) == Y_train['Close_Diff_Increase']\n",
    "classifier2.fit(X_train, c1_accuracy)\n",
    "\n",
    "# fit regression model to predict difference\n",
    "regressor = LinearRegression()\n",
    "x_train_with_importance = X_train[classifier2.predict(X_train)]\n",
    "y_train_with_importance = Y_train[classifier2.predict(X_train)]\n",
    "regressor.fit(x_train_with_importance, y_train_with_importance['Close_Diff'])\n",
    "\n",
    "x_test_with_importance = X_test[classifier2.predict(X_test.drop(['date'], axis=1))]\n",
    "y_test_with_importance = Y_test[classifier2.predict(X_test.drop(['date'], axis=1))]\n",
    "predictions = x_test_with_importance.groupby('date').apply(regressor.predict).apply(lambda x: median(x))\n",
    "mean_squared_error(y_test_with_importance.groupby('date').first()['Close_Diff'], predictions)"
   ]
  },
  {
   "cell_type": "code",
   "execution_count": 148,
   "metadata": {},
   "outputs": [
    {
     "name": "stdout",
     "output_type": "stream",
     "text": [
      "Average: 0.5260663507109005\n",
      "Weighted Average: 0.5147811382072358\n"
     ]
    }
   ],
   "source": [
    "predictions = x_test_with_importance.groupby('date').apply(regressor.predict).apply(lambda x: median(x) > 0)\n",
    "results = predictions.values == Y_test.groupby('date').first()['Close_Diff_Increase'].values\n",
    "print(f'Average: {average(results)}')\n",
    "print('Weighted Average: {}'.format(weighted_average(results, abs(Y_test.groupby('date').first()['Close_Diff']))))"
   ]
  },
  {
   "cell_type": "markdown",
   "metadata": {},
   "source": [
    "## Models: Random Forest Classifier (TERRIBLE)"
   ]
  },
  {
   "cell_type": "code",
   "execution_count": 131,
   "metadata": {},
   "outputs": [],
   "source": [
    "X = df.drop(['date', 'Close_Diff', 'Close_Diff_Increase'], axis=1)\n",
    "Y = df['Close_Diff_Increase']"
   ]
  },
  {
   "cell_type": "code",
   "execution_count": 132,
   "metadata": {},
   "outputs": [
    {
     "data": {
      "text/plain": [
       "0.536517797179315"
      ]
     },
     "execution_count": 132,
     "metadata": {},
     "output_type": "execute_result"
    }
   ],
   "source": [
    "from sklearn.ensemble import RandomForestClassifier\n",
    "from sklearn.model_selection import train_test_split\n",
    "\n",
    "X_train, X_test, Y_train, Y_test = train_test_split(X, Y, test_size=0.2)\n",
    "\n",
    "classifier = RandomForestClassifier(max_depth=2)\n",
    "classifier.fit(X_train, Y_train)\n",
    "classifier.score(X_test, Y_test)"
   ]
  },
  {
   "cell_type": "code",
   "execution_count": 133,
   "metadata": {},
   "outputs": [
    {
     "data": {
      "text/plain": [
       "1.0"
      ]
     },
     "execution_count": 133,
     "metadata": {},
     "output_type": "execute_result"
    }
   ],
   "source": [
    "sum(classifier.predict(X_test)) / len(X_test)"
   ]
  },
  {
   "cell_type": "code",
   "execution_count": null,
   "metadata": {},
   "outputs": [],
   "source": []
  },
  {
   "cell_type": "code",
   "execution_count": 49,
   "metadata": {},
   "outputs": [],
   "source": [
    "# train = df[df['date'].apply(lambda x: date.fromisoformat(x) < date.fromisoformat('2018-01-01'))]\n",
    "# validate = df[df['date'].apply(lambda x: date.fromisoformat(x) >= date.fromisoformat('2018-01-01') and date.fromisoformat(x) < date.fromisoformat('2019-01-01'))]\n",
    "# test = df[df['date'].apply(lambda x: date.fromisoformat(x) >= date.fromisoformat('2019-01-01'))]\n",
    "train = df[df['date'].apply(lambda x: date.fromisoformat(x) < date.fromisoformat('2019-01-01'))]\n",
    "test = df[df['date'].apply(lambda x: date.fromisoformat(x) >= date.fromisoformat('2019-01-01'))]\n",
    "\n",
    "X_train = train.drop(['date', 'Close_Diff_Increase'], axis=1)\n",
    "# X_validate = validate.drop(['date', 'Close_Diff_Increase'], axis=1)\n",
    "X_test = test.drop(['Close_Diff_Increase'], axis=1)\n",
    "Y_train = train['Close_Diff_Increase']\n",
    "# Y_validate = validate['Close_Diff_Increase']\n",
    "Y_test = test[['date', 'Close_Diff_Increase']]"
   ]
  },
  {
   "cell_type": "code",
   "execution_count": 50,
   "metadata": {},
   "outputs": [
    {
     "data": {
      "text/plain": [
       "RandomForestClassifier(bootstrap=True, ccp_alpha=0.0, class_weight=None,\n",
       "                       criterion='gini', max_depth=2, max_features='auto',\n",
       "                       max_leaf_nodes=None, max_samples=None,\n",
       "                       min_impurity_decrease=0.0, min_impurity_split=None,\n",
       "                       min_samples_leaf=1, min_samples_split=2,\n",
       "                       min_weight_fraction_leaf=0.0, n_estimators=100,\n",
       "                       n_jobs=None, oob_score=False, random_state=None,\n",
       "                       verbose=0, warm_start=False)"
      ]
     },
     "execution_count": 50,
     "metadata": {},
     "output_type": "execute_result"
    }
   ],
   "source": [
    "from sklearn.ensemble import RandomForestClassifier\n",
    "\n",
    "classifier = RandomForestClassifier(max_depth=2)\n",
    "classifier.fit(X_train, Y_train)"
   ]
  },
  {
   "cell_type": "code",
   "execution_count": 51,
   "metadata": {},
   "outputs": [
    {
     "name": "stdout",
     "output_type": "stream",
     "text": [
      "0.5781990521327014\n"
     ]
    }
   ],
   "source": [
    "predictions = X_test.groupby('date').apply(classifier.predict).apply(lambda x: mode(x)[0])\n",
    "print(sum(predictions.values == Y_test.groupby('date').first()['Close_Diff_Increase'].values) / len(predictions))"
   ]
  },
  {
   "cell_type": "code",
   "execution_count": 52,
   "metadata": {},
   "outputs": [
    {
     "data": {
      "text/plain": [
       "1.0"
      ]
     },
     "execution_count": 52,
     "metadata": {},
     "output_type": "execute_result"
    }
   ],
   "source": [
    "sum(predictions) / len(predictions)"
   ]
  },
  {
   "cell_type": "code",
   "execution_count": null,
   "metadata": {},
   "outputs": [],
   "source": []
  },
  {
   "cell_type": "code",
   "execution_count": 33,
   "metadata": {},
   "outputs": [],
   "source": [
    "# # messing with cutoff\n",
    "\n",
    "# def do_something(values):\n",
    "#     values.sort()\n",
    "#     n = len(values) // 5\n",
    "#     return (sum(values[:n]) + sum(values[-n:])) / (2*n)\n",
    "\n",
    "# trues = []\n",
    "# falses = []\n",
    "# for _, y in test.groupby('date'):\n",
    "#     x = do_something(classifier.predict_proba(X_test.loc[y.index])[:,0])\n",
    "#     if Y_test[y.index].iloc[0]:\n",
    "#         trues.append(x)\n",
    "#     else:\n",
    "#         falses.append(x)"
   ]
  },
  {
   "cell_type": "code",
   "execution_count": null,
   "metadata": {},
   "outputs": [],
   "source": []
  }
 ],
 "metadata": {
  "kernelspec": {
   "display_name": "Python 3",
   "language": "python",
   "name": "python3"
  },
  "language_info": {
   "codemirror_mode": {
    "name": "ipython",
    "version": 3
   },
   "file_extension": ".py",
   "mimetype": "text/x-python",
   "name": "python",
   "nbconvert_exporter": "python",
   "pygments_lexer": "ipython3",
   "version": "3.6.5"
  }
 },
 "nbformat": 4,
 "nbformat_minor": 2
}
