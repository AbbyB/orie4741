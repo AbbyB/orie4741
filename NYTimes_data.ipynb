{
 "cells": [
  {
   "cell_type": "markdown",
   "metadata": {},
   "source": [
    "# NYTimes API"
   ]
  },
  {
   "cell_type": "code",
   "execution_count": 1,
   "metadata": {},
   "outputs": [],
   "source": [
    "import pandas as pd\n",
    "import requests, math, calendar, time"
   ]
  },
  {
   "cell_type": "markdown",
   "metadata": {},
   "source": [
    "## Set up URL"
   ]
  },
  {
   "cell_type": "code",
   "execution_count": 2,
   "metadata": {},
   "outputs": [],
   "source": [
    "base_url = 'https://api.nytimes.com/svc/search/v2/articlesearch.json?'\n",
    "params = {'fq': 'section_name:(\"Business\" \"Business Day\" \"Front Page\" \"National\" \"World\")',\n",
    "          'fl': 'web_url,snippet,lead_paragraph,abstract,print_page,source,headline,keywords,pub_date,document_type,news_desk,section_name,byline,type_of_material,word_count',\n",
    "          'api-key': 'TKYuzVXE26OPAYgLQCx7w4nzBWRyHIsV'}\n",
    "\n",
    "url = base_url\n",
    "for x, y in params.items():\n",
    "    url += f'{x}={y}&'\n",
    "url = url[:-1]"
   ]
  },
  {
   "cell_type": "markdown",
   "metadata": {},
   "source": [
    "## Function to loop through all the pages"
   ]
  },
  {
   "cell_type": "code",
   "execution_count": 3,
   "metadata": {},
   "outputs": [],
   "source": [
    "# add list of documents\n",
    "def add_documents(df, documents):\n",
    "    for result in documents:\n",
    "        result['headline_kicker'] = result['headline']['kicker']\n",
    "        result['headline_content_kicker'] = result['headline']['content_kicker']\n",
    "        result['headline_print_headline'] = result['headline']['print_headline']\n",
    "        result['headline_name'] = result['headline']['name']\n",
    "        result['headline_seo'] = result['headline']['seo']\n",
    "        result['headline_sub'] = result['headline']['sub']\n",
    "        result['headline'] = result['headline']['main']\n",
    "\n",
    "        result['keywords'] = str(result['keywords'])\n",
    "        result['byline'] = str(result['byline'])\n",
    "\n",
    "        df = df.append(result, ignore_index=True)\n",
    "    return df"
   ]
  },
  {
   "cell_type": "code",
   "execution_count": 4,
   "metadata": {},
   "outputs": [],
   "source": [
    "# keywords and byline will be string\n",
    "df = pd.DataFrame(columns=['web_url','snippet','lead_paragraph','abstract','print_page','source','headline',\n",
    "                           'headline_kicker','headline_content_kicker','headline_print_headline','headline_name',\n",
    "                           'headline_seo','headline_sub','keywords','pub_date','document_type','news_desk',\n",
    "                           'section_name','byline','type_of_material','word_count'])"
   ]
  },
  {
   "cell_type": "markdown",
   "metadata": {},
   "source": [
    "## Loop through all dates and pages"
   ]
  },
  {
   "cell_type": "code",
   "execution_count": null,
   "metadata": {},
   "outputs": [],
   "source": [
    "for year in range(2015,2017):\n",
    "    for month in range(1,13):\n",
    "        # first half of the month\n",
    "        try:\n",
    "            date1 = f'&begin_date={year}-{month}-01&end_date={year}-{month}-14'\n",
    "\n",
    "            prev_time = time.time()\n",
    "            response = requests.get(f'{url}{date1}').json()['response']\n",
    "            pages = math.ceil(response['meta']['hits'] / 10)\n",
    "            if pages <= 200:\n",
    "                df = add_documents(df, response['docs'])\n",
    "                time.sleep(6 - (time.time() - prev_time))\n",
    "\n",
    "                for page in range(1, pages):\n",
    "                    prev_time = time.time()\n",
    "                    response = requests.get(f'{url}{date1}&page={page}').json()['response']\n",
    "                    df = add_documents(df, response['docs'])\n",
    "                    time.sleep(6 - (time.time() - prev_time))\n",
    "                print(f'Finished first half of {month}/{year}')\n",
    "            else: \n",
    "                print(f'----- First half of {month}/{year} has {pages} pages -----')\n",
    "        except:\n",
    "            print()\n",
    "            print(f'Date: first half of {month}/{year}')\n",
    "            print(f'Page: {page}')\n",
    "            print(requests.get(f'{url}{date1}').json())\n",
    "            raise\n",
    "\n",
    "            \n",
    "        # second half of the month\n",
    "        try:\n",
    "            date2 = f'&begin_date={year}-{month}-15&end_date={year}-{month}-{calendar.monthrange(year, month)[1]}'\n",
    "\n",
    "            prev_time = time.time()\n",
    "            response = requests.get(f'{url}{date2}').json()['response']\n",
    "            pages = math.ceil(response['meta']['hits'] / 10)\n",
    "            if pages <= 200:\n",
    "                df = add_documents(df, response['docs'])\n",
    "                time.sleep(6 - (time.time() - prev_time))\n",
    "\n",
    "                for page in range(1, pages):\n",
    "                    prev_time = time.time()\n",
    "                    response = requests.get(f'{url}{date2}&page={page}').json()['response']\n",
    "                    df = add_documents(df, response['docs'])\n",
    "                    time.sleep(6 - (time.time() - prev_time))\n",
    "                print(f'Finished second half of {month}/{year}')\n",
    "            else: \n",
    "                print(f'----- Second half of {month}/{year} has {pages} pages -----')\n",
    "        except:\n",
    "            print()\n",
    "            print(f'Date: second half of {month}/{year}')\n",
    "            print(f'Page: {page}')\n",
    "            print(requests.get(f'{url}{date2}').json())\n",
    "            raise\n"
   ]
  },
  {
   "cell_type": "markdown",
   "metadata": {},
   "source": [
    "## Other Time Frames"
   ]
  },
  {
   "cell_type": "code",
   "execution_count": 11,
   "metadata": {},
   "outputs": [],
   "source": [
    "for page in range(13, pages):\n",
    "    prev_time = time.time()\n",
    "    response = requests.get(f'{url}{date2}&page={page}').json()['response']\n",
    "    df = add_documents(df, response['docs'])\n",
    "    time.sleep(6 - (time.time() - prev_time))"
   ]
  },
  {
   "cell_type": "code",
   "execution_count": 12,
   "metadata": {},
   "outputs": [
    {
     "name": "stdout",
     "output_type": "stream",
     "text": [
      "Finished first half of 12/2016\n",
      "Finished second half of 12/2016\n"
     ]
    }
   ],
   "source": [
    "for month in range(12,13):\n",
    "    # first half of the month\n",
    "    try:\n",
    "        date1 = f'&begin_date={year}-{month}-01&end_date={year}-{month}-14'\n",
    "\n",
    "        prev_time = time.time()\n",
    "        response = requests.get(f'{url}{date1}').json()['response']\n",
    "        pages = math.ceil(response['meta']['hits'] / 10)\n",
    "        if pages <= 200:\n",
    "            df = add_documents(df, response['docs'])\n",
    "            time.sleep(6 - (time.time() - prev_time))\n",
    "\n",
    "            for page in range(1, pages):\n",
    "                prev_time = time.time()\n",
    "                response = requests.get(f'{url}{date1}&page={page}').json()['response']\n",
    "                df = add_documents(df, response['docs'])\n",
    "                time.sleep(6 - (time.time() - prev_time))\n",
    "            print(f'Finished first half of {month}/{year}')\n",
    "        else: \n",
    "            print(f'----- First half of {month}/{year} has {pages} pages -----')\n",
    "    except:\n",
    "        print()\n",
    "        print(f'Date: first half of {month}/{year}')\n",
    "        print(f'Page: {page}')\n",
    "        print(requests.get(f'{url}{date1}').json())\n",
    "        raise\n",
    "\n",
    "\n",
    "    # second half of the month\n",
    "    try:\n",
    "        date2 = f'&begin_date={year}-{month}-15&end_date={year}-{month}-{calendar.monthrange(year, month)[1]}'\n",
    "\n",
    "        prev_time = time.time()\n",
    "        response = requests.get(f'{url}{date2}').json()['response']\n",
    "        pages = math.ceil(response['meta']['hits'] / 10)\n",
    "        if pages <= 200:\n",
    "            df = add_documents(df, response['docs'])\n",
    "            time.sleep(6 - (time.time() - prev_time))\n",
    "\n",
    "            for page in range(1, pages):\n",
    "                prev_time = time.time()\n",
    "                response = requests.get(f'{url}{date2}&page={page}').json()['response']\n",
    "                df = add_documents(df, response['docs'])\n",
    "                time.sleep(6 - (time.time() - prev_time))\n",
    "            print(f'Finished second half of {month}/{year}')\n",
    "        else: \n",
    "            print(f'----- Second half of {month}/{year} has {pages} pages -----')\n",
    "    except:\n",
    "        print()\n",
    "        print(f'Date: second half of {month}/{year}')\n",
    "        print(f'Page: {page}')\n",
    "        print(requests.get(f'{url}{date2}').json())\n",
    "        raise\n"
   ]
  },
  {
   "cell_type": "code",
   "execution_count": 5,
   "metadata": {},
   "outputs": [
    {
     "name": "stdout",
     "output_type": "stream",
     "text": [
      "Finished first half of 1/2016\n",
      "Finished second half of 1/2016\n",
      "Finished first half of 2/2016\n",
      "Finished second half of 2/2016\n",
      "Finished first half of 3/2016\n",
      "Finished second half of 3/2016\n",
      "Finished first half of 4/2016\n",
      "Finished second half of 4/2016\n",
      "Finished first half of 5/2016\n",
      "Finished second half of 5/2016\n",
      "Finished first half of 6/2016\n",
      "Finished second half of 6/2016\n",
      "Finished first half of 7/2016\n",
      "Finished second half of 7/2016\n",
      "\n",
      "Date: first half of 8/2016\n",
      "Page: 39\n",
      "{'status': 'OK', 'copyright': 'Copyright (c) 2019 The New York Times Company. All Rights Reserved.', 'response': {'docs': [{'web_url': 'https://www.nytimes.com/video/world/americas/100000004575202/landslides-in-mexico-kill-at-least-39.html', 'snippet': 'Record-breaking rains from Tropical Storm Earl caused landslides that buried entire homes in the eastern states of Puebla and Veracruz.', 'lead_paragraph': 'Record-breaking rains from Tropical Storm Earl caused landslides that buried entire homes in the eastern states of Puebla and Veracruz.', 'abstract': 'Record-breaking rains from Tropical Storm Earl caused landslides that buried entire homes in the eastern states of Puebla and Veracruz.', 'source': 'Reuters', 'headline': {'main': 'Landslides in Mexico Kill Dozens', 'kicker': None, 'content_kicker': None, 'print_headline': None, 'name': None, 'seo': None, 'sub': None}, 'keywords': [{'name': 'subject', 'value': 'Landslides and Mudslides', 'rank': 1, 'major': 'N'}, {'name': 'organizations', 'value': 'Reuters Group PLC', 'rank': 2, 'major': 'N'}, {'name': 'glocations', 'value': 'Mexico', 'rank': 3, 'major': 'N'}, {'name': 'glocations', 'value': 'Puebla (Mexico)', 'rank': 4, 'major': 'N'}, {'name': 'glocations', 'value': 'Veracruz (Mexico)', 'rank': 5, 'major': 'N'}, {'name': 'subject', 'value': 'Hurricanes and Tropical Storms', 'rank': 6, 'major': 'N'}], 'pub_date': '2016-08-08T16:14:53+0000', 'document_type': 'multimedia', 'news_desk': 'Foreign', 'section_name': 'World', 'byline': {'original': 'By REUTERS', 'person': [], 'organization': 'REUTERS'}, 'type_of_material': 'Video', 'word_count': 0}, {'web_url': 'https://www.nytimes.com/video/world/asia/100000004575463/ex-philippines-leader-travels-to-china.html', 'snippet': 'Fidel Ramos, the former president of the Philippines, visited Hong Kong to rekindle ties with China weakened by a maritime dispute in the South China Sea.', 'lead_paragraph': 'Fidel Ramos, the former president of the Philippines, visited Hong Kong to rekindle ties with China weakened by a maritime dispute in the South China Sea.', 'abstract': 'Fidel Ramos, the former president of the Philippines, visited Hong Kong to rekindle ties with China weakened by a maritime dispute in the South China Sea.', 'source': 'Reuters', 'headline': {'main': 'Ex-Philippines Leader Travels to China', 'kicker': None, 'content_kicker': None, 'print_headline': None, 'name': None, 'seo': None, 'sub': None}, 'keywords': [{'name': 'organizations', 'value': 'Reuters Group PLC', 'rank': 1, 'major': 'N'}, {'name': 'glocations', 'value': 'China', 'rank': 2, 'major': 'N'}, {'name': 'glocations', 'value': 'Hong Kong', 'rank': 3, 'major': 'N'}, {'name': 'glocations', 'value': 'South China Sea', 'rank': 4, 'major': 'N'}, {'name': 'glocations', 'value': 'Philippines', 'rank': 5, 'major': 'N'}], 'pub_date': '2016-08-08T18:27:07+0000', 'document_type': 'multimedia', 'news_desk': 'Foreign', 'section_name': 'World', 'byline': {'original': 'By REUTERS', 'person': [], 'organization': 'REUTERS'}, 'type_of_material': 'Video', 'word_count': 0}, {'web_url': 'https://www.nytimes.com/video/world/middleeast/100000004575531/stranded-syrians-receive-aid-by-crane.html', 'snippet': 'Aid groups used cranes to drop supplies to thousands stranded at Jordan’s northern border. Nearly 75,000 Syrians are camped in the desert there, in deteriorating conditions, after the border closed.', 'lead_paragraph': 'Aid groups used cranes to drop supplies to thousands stranded at Jordan’s northern border. Nearly 75,000 Syrians are camped in the desert there, in deteriorating conditions, after the border closed.', 'abstract': 'Aid groups used cranes to drop supplies to thousands stranded at Jordan’s northern border. Nearly 75,000 Syrians are camped in the desert there, in deteriorating conditions, after the border closed.', 'source': 'The New York Times', 'headline': {'main': 'Stranded Syrians Receive Aid by Crane', 'kicker': None, 'content_kicker': None, 'print_headline': None, 'name': None, 'seo': None, 'sub': None}, 'keywords': [{'name': 'glocations', 'value': 'Jordan', 'rank': 1, 'major': 'N'}, {'name': 'glocations', 'value': 'Syria', 'rank': 2, 'major': 'N'}, {'name': 'organizations', 'value': 'World Food Program', 'rank': 3, 'major': 'N'}, {'name': 'subject', 'value': 'Middle East and Africa Migrant Crisis', 'rank': 4, 'major': 'N'}], 'pub_date': '2016-08-08T19:05:50+0000', 'document_type': 'multimedia', 'news_desk': 'Foreign', 'section_name': 'World', 'byline': {'original': 'By MEGAN SPECIA', 'person': [{'firstname': 'Megan', 'middlename': None, 'lastname': 'SPECIA', 'qualifier': None, 'title': None, 'role': 'reported', 'organization': '', 'rank': 1}], 'organization': None}, 'type_of_material': 'Video', 'word_count': 0}, {'web_url': 'https://www.nytimes.com/video/world/asia/100000004574873/scores-killed-in-pakistan-hospital-blast.html', 'snippet': 'Dozens of people died in Quetta, Pakistan, on Monday as an explosion, apparently caused by a suicide bomber, rocked a hospital.', 'lead_paragraph': 'Dozens of people died in Quetta, Pakistan, on Monday as an explosion, apparently caused by a suicide bomber, rocked a hospital.', 'abstract': 'Dozens of people died in Quetta, Pakistan, on Monday as an explosion, apparently caused by a suicide bomber, rocked a hospital.', 'source': 'The New York Times', 'headline': {'main': 'Scores Killed in Pakistan Hospital Blast', 'kicker': None, 'content_kicker': None, 'print_headline': None, 'name': None, 'seo': None, 'sub': None}, 'keywords': [{'name': 'subject', 'value': 'Hospitals', 'rank': 1, 'major': 'N'}, {'name': 'subject', 'value': 'Terrorism', 'rank': 2, 'major': 'N'}, {'name': 'glocations', 'value': 'Pakistan', 'rank': 3, 'major': 'N'}, {'name': 'glocations', 'value': 'Quetta (Pakistan)', 'rank': 4, 'major': 'N'}], 'pub_date': '2016-08-08T13:45:19+0000', 'document_type': 'multimedia', 'news_desk': 'Foreign', 'section_name': 'World', 'byline': {'original': 'By THE NEW YORK TIMES', 'person': [], 'organization': 'The New York Times'}, 'type_of_material': 'Video', 'word_count': 0}, {'web_url': 'https://www.nytimes.com/video/world/asia/100000004577451/indian-activist-ends-years-long-hunger-strike.html', 'snippet': 'Irom Chanu Sharmila tasted a dab of honey, ending her nearly 16-year hunger strike against a law shielding the armed forces from prosecution in parts of India.', 'lead_paragraph': 'Irom Chanu Sharmila tasted a dab of honey, ending her nearly 16-year hunger strike against a law shielding the armed forces from prosecution in parts of India.', 'abstract': 'Irom Chanu Sharmila tasted a dab of honey, ending her nearly 16-year hunger strike against a law shielding the armed forces from prosecution in parts of India.', 'source': 'AP', 'headline': {'main': 'Indian Activist Ends Years-Long Hunger Strike', 'kicker': None, 'content_kicker': None, 'print_headline': None, 'name': None, 'seo': None, 'sub': None}, 'keywords': [{'name': 'subject', 'value': 'Hunger Strikes', 'rank': 1, 'major': 'N'}, {'name': 'glocations', 'value': 'Imphal (India)', 'rank': 2, 'major': 'N'}, {'name': 'persons', 'value': 'Sharmila, Irom Chanu', 'rank': 3, 'major': 'N'}, {'name': 'subject', 'value': 'Politics and Government', 'rank': 4, 'major': 'N'}, {'name': 'glocations', 'value': 'India', 'rank': 5, 'major': 'N'}, {'name': 'subject', 'value': 'Defense and Military Forces', 'rank': 6, 'major': 'N'}], 'pub_date': '2016-08-09T18:11:24+0000', 'document_type': 'multimedia', 'news_desk': 'Foreign', 'section_name': 'World', 'byline': {'original': 'By KK PRODUCTIONS, VIA ASSOCIATED PRESS', 'person': [{'firstname': 'Kk', 'middlename': None, 'lastname': 'PRODUCTIONS', 'qualifier': None, 'title': None, 'role': 'reported', 'organization': '', 'rank': 1}, {'firstname': None, 'middlename': None, 'lastname': None, 'qualifier': None, 'title': None, 'role': 'reported', 'organization': '', 'rank': 2}], 'organization': None}, 'type_of_material': 'Video', 'word_count': 0}, {'web_url': 'https://www.nytimes.com/video/world/middleeast/100000004570354/obama-comments-on-iran-payment.html', 'snippet': 'The president called the uproar over a payment to Iran a “manufacturing of outrage.”', 'lead_paragraph': 'The president called the uproar over a payment to Iran a “manufacturing of outrage.”', 'abstract': 'The president called the uproar over a payment to Iran a “manufacturing of outrage.”', 'headline': {'main': 'Obama Comments on Iran Payment', 'kicker': None, 'content_kicker': None, 'print_headline': None, 'name': None, 'seo': None, 'sub': None}, 'keywords': [{'name': 'glocations', 'value': 'Iran', 'rank': 1, 'major': 'N'}, {'name': 'persons', 'value': 'Obama, Barack', 'rank': 2, 'major': 'N'}], 'pub_date': '2016-08-05T04:21:36+0000', 'document_type': 'multimedia', 'news_desk': 'Foreign', 'section_name': 'World', 'byline': {'original': 'By WHITEHOUSE.GOV', 'person': [{'firstname': 'Whitehouse', 'middlename': None, 'lastname': None, 'qualifier': None, 'title': None, 'role': 'reported', 'organization': '', 'rank': 1}], 'organization': None}, 'type_of_material': 'Video', 'word_count': 0}, {'web_url': 'https://www.nytimes.com/interactive/2016/03/25/world/map-isis-attacks-around-the-world-DE.html', 'snippet': 'Über 650 Westeuropäer wurden bei Angriffen getötet, die vom Islamischen Staat ausgeführt oder inspiriert wurden', 'lead_paragraph': 'Über 650 Westeuropäer wurden bei Angriffen getötet, die vom Islamischen Staat ausgeführt oder inspiriert wurden', 'abstract': 'Über 650 Westeuropäer wurden bei Angriffen getötet, die vom Islamischen Staat ausgeführt oder inspiriert wurden', 'source': 'The New York Times', 'headline': {'main': 'How Many People Have Been Killed in ISIS Attacks Around the World', 'kicker': None, 'content_kicker': None, 'print_headline': None, 'name': None, 'seo': None, 'sub': None}, 'keywords': [{'name': 'organizations', 'value': 'Islamic State in Iraq and Syria (ISIS)', 'rank': 1, 'major': 'N'}, {'name': 'subject', 'value': 'Terrorism', 'rank': 2, 'major': 'N'}, {'name': 'subject', 'value': 'Brussels Attacks (March 2016)', 'rank': 3, 'major': 'N'}, {'name': 'subject', 'value': 'Paris Attacks (November 2015)', 'rank': 4, 'major': 'N'}], 'pub_date': '2016-08-05T12:44:55+0000', 'document_type': 'multimedia', 'news_desk': 'World', 'section_name': 'World', 'byline': {'original': 'By KAREN YOURISH, DEREK WATKINS, TOM GIRATIKANON and JASMINE C. LEE', 'person': [{'firstname': 'Karen', 'middlename': None, 'lastname': 'YOURISH', 'qualifier': None, 'title': None, 'role': 'reported', 'organization': '', 'rank': 1}, {'firstname': 'Derek', 'middlename': None, 'lastname': 'WATKINS', 'qualifier': None, 'title': None, 'role': 'reported', 'organization': '', 'rank': 2}, {'firstname': 'Tom', 'middlename': None, 'lastname': 'GIRATIKANON', 'qualifier': None, 'title': None, 'role': 'reported', 'organization': '', 'rank': 3}, {'firstname': 'Jasmine', 'middlename': 'C.', 'lastname': 'LEE', 'qualifier': None, 'title': None, 'role': 'reported', 'organization': '', 'rank': 4}], 'organization': None}, 'type_of_material': 'Interactive Feature', 'word_count': 0}, {'web_url': 'https://www.nytimes.com/video/world/100000004559828/the-piano-man-of-yarmouk.html', 'snippet': 'Aeham Ahmad became a YouTube star by playing piano in the ruins of a Damascus, Syria, neighborhood. This video follows his journey to Europe through a single song, starting in Syria and ending at a performance in a Berlin.', 'lead_paragraph': 'Aeham Ahmad became a YouTube star by playing piano in the ruins of a Damascus, Syria, neighborhood. This video follows his journey to Europe through a single song, starting in Syria and ending at a performance in a Berlin.', 'abstract': 'Aeham Ahmad became a YouTube star by playing piano in the ruins of a Damascus, Syria, neighborhood. This video follows his journey to Europe through a single song, starting in Syria and ending at a performance in a Berlin.', 'source': 'The New York Times', 'headline': {'main': 'The Piano Man of Yarmouk', 'kicker': None, 'content_kicker': None, 'print_headline': None, 'name': None, 'seo': None, 'sub': None}, 'keywords': [{'name': 'glocations', 'value': 'Damascus (Syria)', 'rank': 1, 'major': 'N'}, {'name': 'subject', 'value': 'Pianos', 'rank': 2, 'major': 'N'}, {'name': 'subject', 'value': 'Middle East and North Africa Unrest (2010- )', 'rank': 3, 'major': 'N'}, {'name': 'persons', 'value': 'Ahmad, Aeham', 'rank': 4, 'major': 'N'}], 'pub_date': '2016-08-06T11:55:24+0000', 'document_type': 'multimedia', 'news_desk': 'Foreign', 'section_name': 'World', 'byline': {'original': 'By ANDREW GLAZER and BEN LAFFIN', 'person': [{'firstname': 'Andrew', 'middlename': None, 'lastname': 'GLAZER', 'qualifier': None, 'title': None, 'role': 'reported', 'organization': '', 'rank': 1}, {'firstname': 'Ben', 'middlename': None, 'lastname': 'LAFFIN', 'qualifier': None, 'title': None, 'role': 'reported', 'organization': '', 'rank': 2}], 'organization': None}, 'type_of_material': 'Video', 'word_count': 0}, {'web_url': 'https://www.nytimes.com/video/world/asia/100000004574127/thailand-reacts-to-constitution-vote.html', 'snippet': 'After voters approved a new Constitution from the military government, some activists vowed to keep fighting the document, while other citizens hoped it signaled progress.', 'lead_paragraph': 'After voters approved a new Constitution from the military government, some activists vowed to keep fighting the document, while other citizens hoped it signaled progress.', 'abstract': 'After voters approved a new Constitution from the military government, some activists vowed to keep fighting the document, while other citizens hoped it signaled progress.', 'source': 'Reuters', 'headline': {'main': 'Thailand Reacts to Constitution Vote', 'kicker': None, 'content_kicker': None, 'print_headline': None, 'name': None, 'seo': None, 'sub': None}, 'keywords': [{'name': 'subject', 'value': 'Referendums', 'rank': 1, 'major': 'N'}, {'name': 'organizations', 'value': 'Reuters Group PLC', 'rank': 2, 'major': 'N'}, {'name': 'glocations', 'value': 'Bangkok (Thailand)', 'rank': 3, 'major': 'N'}], 'pub_date': '2016-08-07T21:13:23+0000', 'document_type': 'multimedia', 'news_desk': 'Foreign', 'section_name': 'World', 'byline': {'original': 'By REUTERS', 'person': [], 'organization': 'REUTERS'}, 'type_of_material': 'Video', 'word_count': 0}, {'web_url': 'https://www.nytimes.com/video/world/middleeast/100000004574309/iran-shahram-amiri-executed.html', 'snippet': 'Gholam Hossein Mohseni Ejei, a spokesman for Iran’s Justice Ministry, told reporters in Tehran on Sunday that the nuclear scientist Shahram Amiri had been hanged.', 'lead_paragraph': 'Gholam Hossein Mohseni Ejei, a spokesman for Iran’s Justice Ministry, told reporters in Tehran on Sunday that the nuclear scientist Shahram Amiri had been hanged.', 'abstract': 'Gholam Hossein Mohseni Ejei, a spokesman for Iran’s Justice Ministry, told reporters in Tehran on Sunday that the nuclear scientist Shahram Amiri had been hanged.', 'source': 'AP', 'headline': {'main': 'Iran Confirms Execution of Scientist', 'kicker': None, 'content_kicker': None, 'print_headline': None, 'name': None, 'seo': None, 'sub': None}, 'keywords': [{'name': 'organizations', 'value': 'Associated Press', 'rank': 1, 'major': 'N'}, {'name': 'glocations', 'value': 'Iran', 'rank': 2, 'major': 'N'}], 'pub_date': '2016-08-08T04:54:28+0000', 'document_type': 'multimedia', 'news_desk': 'Foreign', 'section_name': 'World', 'byline': {'original': 'By IRINN, VIA ASSOCIATED PRESS', 'person': [{'firstname': 'Irinn', 'middlename': None, 'lastname': None, 'qualifier': None, 'title': None, 'role': 'reported', 'organization': '', 'rank': 1}, {'firstname': None, 'middlename': None, 'lastname': None, 'qualifier': None, 'title': None, 'role': 'reported', 'organization': '', 'rank': 2}], 'organization': None}, 'type_of_material': 'Video', 'word_count': 0}], 'meta': {'hits': 448, 'offset': 0, 'time': 121}}}\n"
     ]
    },
    {
     "ename": "KeyError",
     "evalue": "'response'",
     "output_type": "error",
     "traceback": [
      "\u001b[0;31m---------------------------------------------------------------------------\u001b[0m",
      "\u001b[0;31mKeyError\u001b[0m                                  Traceback (most recent call last)",
      "\u001b[0;32m<ipython-input-5-40bae4e2db23>\u001b[0m in \u001b[0;36m<module>\u001b[0;34m\u001b[0m\n\u001b[1;32m     14\u001b[0m             \u001b[0;32mfor\u001b[0m \u001b[0mpage\u001b[0m \u001b[0;32min\u001b[0m \u001b[0mrange\u001b[0m\u001b[0;34m(\u001b[0m\u001b[0;36m1\u001b[0m\u001b[0;34m,\u001b[0m \u001b[0mpages\u001b[0m\u001b[0;34m)\u001b[0m\u001b[0;34m:\u001b[0m\u001b[0;34m\u001b[0m\u001b[0m\n\u001b[1;32m     15\u001b[0m                 \u001b[0mprev_time\u001b[0m \u001b[0;34m=\u001b[0m \u001b[0mtime\u001b[0m\u001b[0;34m.\u001b[0m\u001b[0mtime\u001b[0m\u001b[0;34m(\u001b[0m\u001b[0;34m)\u001b[0m\u001b[0;34m\u001b[0m\u001b[0m\n\u001b[0;32m---> 16\u001b[0;31m                 \u001b[0mresponse\u001b[0m \u001b[0;34m=\u001b[0m \u001b[0mrequests\u001b[0m\u001b[0;34m.\u001b[0m\u001b[0mget\u001b[0m\u001b[0;34m(\u001b[0m\u001b[0;34mf'{url}{date1}&page={page}'\u001b[0m\u001b[0;34m)\u001b[0m\u001b[0;34m.\u001b[0m\u001b[0mjson\u001b[0m\u001b[0;34m(\u001b[0m\u001b[0;34m)\u001b[0m\u001b[0;34m[\u001b[0m\u001b[0;34m'response'\u001b[0m\u001b[0;34m]\u001b[0m\u001b[0;34m\u001b[0m\u001b[0m\n\u001b[0m\u001b[1;32m     17\u001b[0m                 \u001b[0mdf\u001b[0m \u001b[0;34m=\u001b[0m \u001b[0madd_documents\u001b[0m\u001b[0;34m(\u001b[0m\u001b[0mdf\u001b[0m\u001b[0;34m,\u001b[0m \u001b[0mresponse\u001b[0m\u001b[0;34m[\u001b[0m\u001b[0;34m'docs'\u001b[0m\u001b[0;34m]\u001b[0m\u001b[0;34m)\u001b[0m\u001b[0;34m\u001b[0m\u001b[0m\n\u001b[1;32m     18\u001b[0m                 \u001b[0mtime\u001b[0m\u001b[0;34m.\u001b[0m\u001b[0msleep\u001b[0m\u001b[0;34m(\u001b[0m\u001b[0;36m6\u001b[0m \u001b[0;34m-\u001b[0m \u001b[0;34m(\u001b[0m\u001b[0mtime\u001b[0m\u001b[0;34m.\u001b[0m\u001b[0mtime\u001b[0m\u001b[0;34m(\u001b[0m\u001b[0;34m)\u001b[0m \u001b[0;34m-\u001b[0m \u001b[0mprev_time\u001b[0m\u001b[0;34m)\u001b[0m\u001b[0;34m)\u001b[0m\u001b[0;34m\u001b[0m\u001b[0m\n",
      "\u001b[0;31mKeyError\u001b[0m: 'response'"
     ]
    }
   ],
   "source": [
    "year = 2016\n",
    "for month in range(1,13):\n",
    "    # first half of the month\n",
    "    try:\n",
    "        date1 = f'&begin_date={year}-{month}-01&end_date={year}-{month}-14'\n",
    "\n",
    "        prev_time = time.time()\n",
    "        response = requests.get(f'{url}{date1}').json()['response']\n",
    "        pages = math.ceil(response['meta']['hits'] / 10)\n",
    "        if pages <= 200:\n",
    "            df = add_documents(df, response['docs'])\n",
    "            time.sleep(6 - (time.time() - prev_time))\n",
    "\n",
    "            for page in range(1, pages):\n",
    "                prev_time = time.time()\n",
    "                response = requests.get(f'{url}{date1}&page={page}').json()['response']\n",
    "                df = add_documents(df, response['docs'])\n",
    "                time.sleep(6 - (time.time() - prev_time))\n",
    "            print(f'Finished first half of {month}/{year}')\n",
    "        else: \n",
    "            print(f'----- First half of {month}/{year} has {pages} pages -----')\n",
    "    except:\n",
    "        print()\n",
    "        print(f'Date: first half of {month}/{year}')\n",
    "        print(f'Page: {page}')\n",
    "        print(requests.get(f'{url}{date1}').json())\n",
    "        raise\n",
    "\n",
    "\n",
    "    # second half of the month\n",
    "    try:\n",
    "        date2 = f'&begin_date={year}-{month}-15&end_date={year}-{month}-{calendar.monthrange(year, month)[1]}'\n",
    "\n",
    "        prev_time = time.time()\n",
    "        response = requests.get(f'{url}{date2}').json()['response']\n",
    "        pages = math.ceil(response['meta']['hits'] / 10)\n",
    "        if pages <= 200:\n",
    "            df = add_documents(df, response['docs'])\n",
    "            time.sleep(6 - (time.time() - prev_time))\n",
    "\n",
    "            for page in range(1, pages):\n",
    "                prev_time = time.time()\n",
    "                response = requests.get(f'{url}{date2}&page={page}').json()['response']\n",
    "                df = add_documents(df, response['docs'])\n",
    "                time.sleep(6 - (time.time() - prev_time))\n",
    "            print(f'Finished second half of {month}/{year}')\n",
    "        else: \n",
    "            print(f'----- Second half of {month}/{year} has {pages} pages -----')\n",
    "    except:\n",
    "        print()\n",
    "        print(f'Date: second half of {month}/{year}')\n",
    "        print(f'Page: {page}')\n",
    "        print(requests.get(f'{url}{date2}').json())\n",
    "        raise\n"
   ]
  },
  {
   "cell_type": "markdown",
   "metadata": {},
   "source": [
    "## Check and save results"
   ]
  },
  {
   "cell_type": "code",
   "execution_count": null,
   "metadata": {},
   "outputs": [],
   "source": [
    "df.head()"
   ]
  },
  {
   "cell_type": "code",
   "execution_count": 14,
   "metadata": {},
   "outputs": [
    {
     "data": {
      "text/plain": [
       "13867"
      ]
     },
     "execution_count": 14,
     "metadata": {},
     "output_type": "execute_result"
    }
   ],
   "source": [
    "len(df)"
   ]
  },
  {
   "cell_type": "code",
   "execution_count": 15,
   "metadata": {},
   "outputs": [],
   "source": [
    "df.to_csv('nytimes_2016.csv')"
   ]
  },
  {
   "cell_type": "code",
   "execution_count": null,
   "metadata": {},
   "outputs": [],
   "source": []
  },
  {
   "cell_type": "markdown",
   "metadata": {},
   "source": [
    "## Size of the full dataset"
   ]
  },
  {
   "cell_type": "code",
   "execution_count": 13,
   "metadata": {},
   "outputs": [
    {
     "name": "stdout",
     "output_type": "stream",
     "text": [
      "Hits: 13827\n",
      "Pages: 1383\n"
     ]
    }
   ],
   "source": [
    "base_url = 'https://api.nytimes.com/svc/search/v2/articlesearch.json?'\n",
    "params = {'fq': 'section_name:(\"Business\" \"Business Day\" \"Front Page\" \"National\" \"World\")',\n",
    "          'begin_date': '2016-01-01',\n",
    "          'end_date': '2016-12-31',\n",
    "          'fl': 'web_url,snippet,lead_paragraph,abstract,print_page,source,headline,keywords,pub_date,document_type,news_desk,section_name,byline,type_of_material,word_count',\n",
    "          'api-key': 'TKYuzVXE26OPAYgLQCx7w4nzBWRyHIsV'}\n",
    "\n",
    "url = base_url\n",
    "for x, y in params.items():\n",
    "    url += f'{x}={y}&'\n",
    "url = url[:-1]\n",
    "\n",
    "response = requests.get(url).json()['response']\n",
    "print('Hits: {}'.format(math.ceil(response['meta']['hits'])))\n",
    "print('Pages: {}'.format(math.ceil(response['meta']['hits'] / 10)))"
   ]
  },
  {
   "cell_type": "code",
   "execution_count": null,
   "metadata": {},
   "outputs": [],
   "source": [
    "response"
   ]
  },
  {
   "cell_type": "code",
   "execution_count": null,
   "metadata": {},
   "outputs": [],
   "source": [
    "requests.get(url).json()"
   ]
  }
 ],
 "metadata": {
  "kernelspec": {
   "display_name": "Python 3",
   "language": "python",
   "name": "python3"
  },
  "language_info": {
   "codemirror_mode": {
    "name": "ipython",
    "version": 3
   },
   "file_extension": ".py",
   "mimetype": "text/x-python",
   "name": "python",
   "nbconvert_exporter": "python",
   "pygments_lexer": "ipython3",
   "version": "3.6.6"
  }
 },
 "nbformat": 4,
 "nbformat_minor": 2
}
