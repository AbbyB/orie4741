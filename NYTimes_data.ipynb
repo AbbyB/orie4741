{
 "cells": [
  {
   "cell_type": "markdown",
   "metadata": {},
   "source": [
    "# NYTimes API"
   ]
  },
  {
   "cell_type": "code",
   "execution_count": 1,
   "metadata": {},
   "outputs": [],
   "source": [
    "import pandas as pd\n",
    "import requests, math, calendar, time"
   ]
  },
  {
   "cell_type": "markdown",
   "metadata": {},
   "source": [
    "## Set up URL"
   ]
  },
  {
   "cell_type": "code",
   "execution_count": 2,
   "metadata": {},
   "outputs": [],
   "source": [
    "base_url = 'https://api.nytimes.com/svc/search/v2/articlesearch.json?'\n",
    "params = {'fq': 'section_name:(\"Business Day\" \"U.S.\" \"World\")',\n",
    "          'fl': 'web_url,snippet,lead_paragraph,abstract,print_page,source,headline,keywords,pub_date,document_type,news_desk,section_name,byline,type_of_material,word_count',\n",
    "          'api-key': 'TKYuzVXE26OPAYgLQCx7w4nzBWRyHIsV'}\n",
    "\n",
    "url = base_url\n",
    "for x, y in params.items():\n",
    "    url += f'{x}={y}&'\n",
    "url = url[:-1]"
   ]
  },
  {
   "cell_type": "markdown",
   "metadata": {},
   "source": [
    "## Function to loop through all the pages"
   ]
  },
  {
   "cell_type": "code",
   "execution_count": 3,
   "metadata": {},
   "outputs": [],
   "source": [
    "# add list of documents\n",
    "def add_documents(df, documents):\n",
    "    for result in documents:\n",
    "        result['headline_kicker'] = result['headline']['kicker']\n",
    "        result['headline_content_kicker'] = result['headline']['content_kicker']\n",
    "        result['headline_print_headline'] = result['headline']['print_headline']\n",
    "        result['headline_name'] = result['headline']['name']\n",
    "        result['headline_seo'] = result['headline']['seo']\n",
    "        result['headline_sub'] = result['headline']['sub']\n",
    "        result['headline'] = result['headline']['main']\n",
    "\n",
    "        result['keywords'] = str(result['keywords'])\n",
    "        result['byline'] = str(result['byline'])\n",
    "\n",
    "        df = df.append(result, ignore_index=True)\n",
    "    return df"
   ]
  },
  {
   "cell_type": "code",
   "execution_count": 4,
   "metadata": {},
   "outputs": [],
   "source": [
    "# keywords and byline will be string\n",
    "df = pd.DataFrame(columns=['web_url','snippet','lead_paragraph','abstract','print_page','source','headline',\n",
    "                           'headline_kicker','headline_content_kicker','headline_print_headline','headline_name',\n",
    "                           'headline_seo','headline_sub','keywords','pub_date','document_type','news_desk',\n",
    "                           'section_name','byline','type_of_material','word_count'])"
   ]
  },
  {
   "cell_type": "markdown",
   "metadata": {},
   "source": [
    "## Loop through all dates and pages"
   ]
  },
  {
   "cell_type": "code",
   "execution_count": null,
   "metadata": {},
   "outputs": [],
   "source": [
    "for year in range(2015,2017):\n",
    "    for month in range(1,13):\n",
    "        # first half of the month\n",
    "        try:\n",
    "            date1 = f'&begin_date={year}-{month}-01&end_date={year}-{month}-14'\n",
    "\n",
    "            prev_time = time.time()\n",
    "            response = requests.get(f'{url}{date1}').json()['response']\n",
    "            pages = math.ceil(response['meta']['hits'] / 10)\n",
    "            if pages <= 200:\n",
    "                df = add_documents(df, response['docs'])\n",
    "                time.sleep(6 - (time.time() - prev_time))\n",
    "\n",
    "                for page in range(1, pages):\n",
    "                    prev_time = time.time()\n",
    "                    response = requests.get(f'{url}{date1}&page={page}').json()['response']\n",
    "                    df = add_documents(df, response['docs'])\n",
    "                    time.sleep(6 - (time.time() - prev_time))\n",
    "                print(f'Finished first half of {month}/{year}')\n",
    "            else: \n",
    "                print(f'----- First half of {month}/{year} has {pages} pages -----')\n",
    "        except:\n",
    "            print()\n",
    "            print(f'Date: first half of {month}/{year}')\n",
    "            print(f'Page: {page}')\n",
    "            print(requests.get(f'{url}{date1}').json())\n",
    "            raise\n",
    "\n",
    "            \n",
    "        # second half of the month\n",
    "        try:\n",
    "            date2 = f'&begin_date={year}-{month}-15&end_date={year}-{month}-{calendar.monthrange(year, month)[1]}'\n",
    "\n",
    "            prev_time = time.time()\n",
    "            response = requests.get(f'{url}{date2}').json()['response']\n",
    "            pages = math.ceil(response['meta']['hits'] / 10)\n",
    "            if pages <= 200:\n",
    "                df = add_documents(df, response['docs'])\n",
    "                time.sleep(6 - (time.time() - prev_time))\n",
    "\n",
    "                for page in range(1, pages):\n",
    "                    prev_time = time.time()\n",
    "                    response = requests.get(f'{url}{date2}&page={page}').json()['response']\n",
    "                    df = add_documents(df, response['docs'])\n",
    "                    time.sleep(6 - (time.time() - prev_time))\n",
    "                print(f'Finished second half of {month}/{year}')\n",
    "            else: \n",
    "                print(f'----- Second half of {month}/{year} has {pages} pages -----')\n",
    "        except:\n",
    "            print()\n",
    "            print(f'Date: second half of {month}/{year}')\n",
    "            print(f'Page: {page}')\n",
    "            print(requests.get(f'{url}{date2}').json())\n",
    "            raise\n"
   ]
  },
  {
   "cell_type": "markdown",
   "metadata": {},
   "source": [
    "## Other Time Frames"
   ]
  },
  {
   "cell_type": "code",
   "execution_count": null,
   "metadata": {},
   "outputs": [],
   "source": [
    "for page in range(13, pages):\n",
    "    prev_time = time.time()\n",
    "    response = requests.get(f'{url}{date2}&page={page}').json()['response']\n",
    "    df = add_documents(df, response['docs'])\n",
    "    time.sleep(6 - (time.time() - prev_time))"
   ]
  },
  {
   "cell_type": "code",
   "execution_count": null,
   "metadata": {},
   "outputs": [],
   "source": [
    "for month in range(12,13):\n",
    "    # first half of the month\n",
    "    try:\n",
    "        date1 = f'&begin_date={year}-{month}-01&end_date={year}-{month}-14'\n",
    "\n",
    "        prev_time = time.time()\n",
    "        response = requests.get(f'{url}{date1}').json()['response']\n",
    "        pages = math.ceil(response['meta']['hits'] / 10)\n",
    "        if pages <= 200:\n",
    "            df = add_documents(df, response['docs'])\n",
    "            time.sleep(6 - (time.time() - prev_time))\n",
    "\n",
    "            for page in range(1, pages):\n",
    "                prev_time = time.time()\n",
    "                response = requests.get(f'{url}{date1}&page={page}').json()['response']\n",
    "                df = add_documents(df, response['docs'])\n",
    "                time.sleep(6 - (time.time() - prev_time))\n",
    "            print(f'Finished first half of {month}/{year}')\n",
    "        else: \n",
    "            print(f'----- First half of {month}/{year} has {pages} pages -----')\n",
    "    except:\n",
    "        print()\n",
    "        print(f'Date: first half of {month}/{year}')\n",
    "        print(f'Page: {page}')\n",
    "        print(requests.get(f'{url}{date1}').json())\n",
    "        raise\n",
    "\n",
    "\n",
    "    # second half of the month\n",
    "    try:\n",
    "        date2 = f'&begin_date={year}-{month}-15&end_date={year}-{month}-{calendar.monthrange(year, month)[1]}'\n",
    "\n",
    "        prev_time = time.time()\n",
    "        response = requests.get(f'{url}{date2}').json()['response']\n",
    "        pages = math.ceil(response['meta']['hits'] / 10)\n",
    "        if pages <= 200:\n",
    "            df = add_documents(df, response['docs'])\n",
    "            time.sleep(6 - (time.time() - prev_time))\n",
    "\n",
    "            for page in range(1, pages):\n",
    "                prev_time = time.time()\n",
    "                response = requests.get(f'{url}{date2}&page={page}').json()['response']\n",
    "                df = add_documents(df, response['docs'])\n",
    "                time.sleep(6 - (time.time() - prev_time))\n",
    "            print(f'Finished second half of {month}/{year}')\n",
    "        else: \n",
    "            print(f'----- Second half of {month}/{year} has {pages} pages -----')\n",
    "    except:\n",
    "        print()\n",
    "        print(f'Date: second half of {month}/{year}')\n",
    "        print(f'Page: {page}')\n",
    "        print(requests.get(f'{url}{date2}').json())\n",
    "        raise\n"
   ]
  },
  {
   "cell_type": "code",
   "execution_count": null,
   "metadata": {},
   "outputs": [],
   "source": [
    "year = 2016\n",
    "for month in range(1,13):\n",
    "    # first half of the month\n",
    "    try:\n",
    "        date1 = f'&begin_date={year}-{month}-01&end_date={year}-{month}-14'\n",
    "\n",
    "        prev_time = time.time()\n",
    "        response = requests.get(f'{url}{date1}').json()['response']\n",
    "        pages = math.ceil(response['meta']['hits'] / 10)\n",
    "        if pages <= 200:\n",
    "            df = add_documents(df, response['docs'])\n",
    "            time.sleep(6 - (time.time() - prev_time))\n",
    "\n",
    "            for page in range(1, pages):\n",
    "                prev_time = time.time()\n",
    "                response = requests.get(f'{url}{date1}&page={page}').json()['response']\n",
    "                df = add_documents(df, response['docs'])\n",
    "                time.sleep(6 - (time.time() - prev_time))\n",
    "            print(f'Finished first half of {month}/{year}')\n",
    "        else: \n",
    "            print(f'----- First half of {month}/{year} has {pages} pages -----')\n",
    "    except:\n",
    "        print()\n",
    "        print(f'Date: first half of {month}/{year}')\n",
    "        print(f'Page: {page}')\n",
    "        print(requests.get(f'{url}{date1}').json())\n",
    "        raise\n",
    "\n",
    "\n",
    "    # second half of the month\n",
    "    try:\n",
    "        date2 = f'&begin_date={year}-{month}-15&end_date={year}-{month}-{calendar.monthrange(year, month)[1]}'\n",
    "\n",
    "        prev_time = time.time()\n",
    "        response = requests.get(f'{url}{date2}').json()['response']\n",
    "        pages = math.ceil(response['meta']['hits'] / 10)\n",
    "        if pages <= 200:\n",
    "            df = add_documents(df, response['docs'])\n",
    "            time.sleep(6 - (time.time() - prev_time))\n",
    "\n",
    "            for page in range(1, pages):\n",
    "                prev_time = time.time()\n",
    "                response = requests.get(f'{url}{date2}&page={page}').json()['response']\n",
    "                df = add_documents(df, response['docs'])\n",
    "                time.sleep(6 - (time.time() - prev_time))\n",
    "            print(f'Finished second half of {month}/{year}')\n",
    "        else: \n",
    "            print(f'----- Second half of {month}/{year} has {pages} pages -----')\n",
    "    except:\n",
    "        print()\n",
    "        print(f'Date: second half of {month}/{year}')\n",
    "        print(f'Page: {page}')\n",
    "        print(requests.get(f'{url}{date2}').json())\n",
    "        raise\n"
   ]
  },
  {
   "cell_type": "markdown",
   "metadata": {},
   "source": [
    "## Check and save results"
   ]
  },
  {
   "cell_type": "code",
   "execution_count": null,
   "metadata": {},
   "outputs": [],
   "source": [
    "df.head()"
   ]
  },
  {
   "cell_type": "code",
   "execution_count": null,
   "metadata": {},
   "outputs": [],
   "source": [
    "len(df)"
   ]
  },
  {
   "cell_type": "code",
   "execution_count": null,
   "metadata": {},
   "outputs": [],
   "source": [
    "df.to_csv('nytimes_2016.csv', index=False)"
   ]
  },
  {
   "cell_type": "code",
   "execution_count": null,
   "metadata": {},
   "outputs": [],
   "source": []
  },
  {
   "cell_type": "markdown",
   "metadata": {},
   "source": [
    "## Size of the full dataset"
   ]
  },
  {
   "cell_type": "code",
   "execution_count": 6,
   "metadata": {},
   "outputs": [
    {
     "name": "stdout",
     "output_type": "stream",
     "text": [
      "Hits: 54529\n",
      "Pages: 5453\n"
     ]
    }
   ],
   "source": [
    "base_url = 'https://api.nytimes.com/svc/search/v2/articlesearch.json?'\n",
    "params = {'fq': 'section_name:(\"Business Day\" \"U.S.\" \"World\")',\n",
    "          'begin_date': '2014-01-01',\n",
    "          'end_date': '2014-12-31',\n",
    "          'fl': 'web_url,snippet,lead_paragraph,abstract,print_page,source,headline,keywords,pub_date,document_type,news_desk,section_name,byline,type_of_material,word_count',\n",
    "          'api-key': 'TKYuzVXE26OPAYgLQCx7w4nzBWRyHIsV'}\n",
    "\n",
    "url = base_url\n",
    "for x, y in params.items():\n",
    "    url += f'{x}={y}&'\n",
    "url = url[:-1]\n",
    "\n",
    "response = requests.get(url).json()['response']\n",
    "print('Hits: {}'.format(math.ceil(response['meta']['hits'])))\n",
    "print('Pages: {}'.format(math.ceil(response['meta']['hits'] / 10)))"
   ]
  },
  {
   "cell_type": "code",
   "execution_count": null,
   "metadata": {},
   "outputs": [],
   "source": [
    "response"
   ]
  },
  {
   "cell_type": "code",
   "execution_count": null,
   "metadata": {},
   "outputs": [],
   "source": [
    "requests.get(url).json()"
   ]
  },
  {
   "cell_type": "code",
   "execution_count": null,
   "metadata": {},
   "outputs": [],
   "source": []
  },
  {
   "cell_type": "code",
   "execution_count": null,
   "metadata": {},
   "outputs": [],
   "source": []
  }
 ],
 "metadata": {
  "kernelspec": {
   "display_name": "Python [conda env:py37] *",
   "language": "python",
   "name": "conda-env-py37-py"
  },
  "language_info": {
   "codemirror_mode": {
    "name": "ipython",
    "version": 3
   },
   "file_extension": ".py",
   "mimetype": "text/x-python",
   "name": "python",
   "nbconvert_exporter": "python",
   "pygments_lexer": "ipython3",
   "version": "3.7.5"
  }
 },
 "nbformat": 4,
 "nbformat_minor": 2
}
